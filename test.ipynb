{
 "cells": [
  {
   "cell_type": "code",
   "execution_count": 1,
   "metadata": {},
   "outputs": [
    {
     "name": "stdout",
     "output_type": "stream",
     "text": [
      "this will print\n"
     ]
    }
   ],
   "source": [
    "print(\"this will print\")"
   ]
  },
  {
   "cell_type": "code",
   "execution_count": 2,
   "metadata": {},
   "outputs": [],
   "source": [
    "#print(\"this will print\")"
   ]
  },
  {
   "cell_type": "code",
   "execution_count": null,
   "metadata": {},
   "outputs": [],
   "source": [
    "age=27\n",
    "print(age)"
   ]
  },
  {
   "cell_type": "code",
   "execution_count": 4,
   "metadata": {},
   "outputs": [
    {
     "data": {
      "text/plain": [
       "'homework'"
      ]
     },
     "execution_count": 4,
     "metadata": {},
     "output_type": "execute_result"
    }
   ],
   "source": [
    "first='home'\n",
    "second='work'\n",
    "first+second"
   ]
  },
  {
   "cell_type": "code",
   "execution_count": 5,
   "metadata": {},
   "outputs": [
    {
     "data": {
      "text/plain": [
       "'homehomehome'"
      ]
     },
     "execution_count": 5,
     "metadata": {},
     "output_type": "execute_result"
    }
   ],
   "source": [
    "first='home'\n",
    "first*3"
   ]
  },
  {
   "cell_type": "code",
   "execution_count": 6,
   "metadata": {},
   "outputs": [
    {
     "name": "stdout",
     "output_type": "stream",
     "text": [
      "34\n"
     ]
    }
   ],
   "source": [
    "Fnum=int('34')\n",
    "print(Fnum)"
   ]
  },
  {
   "cell_type": "code",
   "execution_count": 8,
   "metadata": {},
   "outputs": [
    {
     "name": "stdout",
     "output_type": "stream",
     "text": [
      "0.644217687237691\n"
     ]
    }
   ],
   "source": [
    "import math\n",
    "radians = 0.7\n",
    "height=math.sin(radians)\n",
    "print(height)"
   ]
  },
  {
   "cell_type": "code",
   "execution_count": 1,
   "metadata": {},
   "outputs": [
    {
     "name": "stdout",
     "output_type": "stream",
     "text": [
      "I am a luberjack, and I'am okay.\n",
      "I sleep alllnight and I work all day.\n"
     ]
    }
   ],
   "source": [
    "def print_lyrics():  \n",
    "  print(\"I am a luberjack, and I'am okay.\")   \n",
    "  print(\"I sleep alllnight and I work all day.\")\n",
    "\n",
    "print_lyrics()"
   ]
  },
  {
   "cell_type": "code",
   "execution_count": 10,
   "metadata": {},
   "outputs": [
    {
     "data": {
      "text/plain": [
       "True"
      ]
     },
     "execution_count": 10,
     "metadata": {},
     "output_type": "execute_result"
    }
   ],
   "source": [
    "5==5"
   ]
  },
  {
   "cell_type": "code",
   "execution_count": 11,
   "metadata": {},
   "outputs": [
    {
     "data": {
      "text/plain": [
       "bool"
      ]
     },
     "execution_count": 11,
     "metadata": {},
     "output_type": "execute_result"
    }
   ],
   "source": [
    "5<4\n",
    "type(True)"
   ]
  },
  {
   "cell_type": "code",
   "execution_count": 4,
   "metadata": {},
   "outputs": [
    {
     "name": "stdout",
     "output_type": "stream",
     "text": [
      "x is positive\n"
     ]
    }
   ],
   "source": [
    "x=8\n",
    "if x>0:\n",
    "    print('x is positive')"
   ]
  },
  {
   "cell_type": "code",
   "execution_count": 1,
   "metadata": {},
   "outputs": [
    {
     "name": "stdout",
     "output_type": "stream",
     "text": [
      "give me a number1\n",
      "give me another number2\n",
      "x is less than y\n"
     ]
    }
   ],
   "source": [
    "x=input('give me a number')\n",
    "y=input('give me another number')\n",
    "x=int(x)\n",
    "y=int(y)\n",
    "if x<y:\n",
    "    print(\"x is less than y\")\n",
    "elif x>y:\n",
    "    print(\"x is larger than y\")\n",
    "else:\n",
    "    print(\"x and y are equal\")\n"
   ]
  },
  {
   "cell_type": "code",
   "execution_count": 1,
   "metadata": {},
   "outputs": [
    {
     "name": "stdout",
     "output_type": "stream",
     "text": [
      "give me a number3\n",
      "x is not right\n"
     ]
    }
   ],
   "source": [
    "x=input('give me a number')\n",
    "x=int(x)\n",
    "if x==1:\n",
    "    print('x equals 1')\n",
    "elif x==2:\n",
    "    print('x equals 2')\n",
    "elif x>2:\n",
    "    print('x is not right')"
   ]
  },
  {
   "cell_type": "code",
   "execution_count": 2,
   "metadata": {},
   "outputs": [
    {
     "name": "stdout",
     "output_type": "stream",
     "text": [
      "give me a number1\n",
      "give me another number2\n",
      "x is less than y\n"
     ]
    }
   ],
   "source": [
    "x=input('give me a number')\n",
    "y=input('give me another number')\n",
    "x=int(x)\n",
    "y=int(y)\n",
    "if x==y:\n",
    "    print('x and y are equal')\n",
    "else:\n",
    "    if x>y:\n",
    "        print('x is larger than y')\n",
    "    if x<y:\n",
    "        print('x is less than y')"
   ]
  },
  {
   "cell_type": "code",
   "execution_count": null,
   "metadata": {},
   "outputs": [],
   "source": [
    "x=input('give me a number')\n",
    "x=int(x)\n",
    "if x<0:\n",
    "    print('x is 0')\n",
    "elif x>0 and x<10:\n",
    "    print('x is between 0 and 10')\n",
    "elif x>=10 and x< 100:\n",
    "    print('x is the idea number you need')\n",
    "else:\n",
    "    print('x is out of range')\n",
    "    \n",
    "    "
   ]
  },
  {
   "cell_type": "code",
   "execution_count": 4,
   "metadata": {},
   "outputs": [
    {
     "name": "stdout",
     "output_type": "stream",
     "text": [
      "3\n",
      "2\n",
      "1\n",
      "Blastoff!\n"
     ]
    }
   ],
   "source": [
    "def countdown(n):\n",
    "    if n<=0:\n",
    "        print(\"Blastoff!\")\n",
    "    else:\n",
    "        print(n)\n",
    "        countdown(n-1)\n",
    "        \n",
    "countdown(3)"
   ]
  },
  {
   "cell_type": "code",
   "execution_count": 6,
   "metadata": {},
   "outputs": [
    {
     "name": "stdout",
     "output_type": "stream",
     "text": [
      "120\n"
     ]
    }
   ],
   "source": [
    "num=5\n",
    "factorial = 1\n",
    "for i in range(1,num + 1):\n",
    "    factorial = factorial*i\n",
    "print(factorial)"
   ]
  },
  {
   "cell_type": "code",
   "execution_count": 7,
   "metadata": {},
   "outputs": [
    {
     "name": "stdout",
     "output_type": "stream",
     "text": [
      "cat 3\n",
      "window 6\n",
      "defenestrate 12\n"
     ]
    }
   ],
   "source": [
    "words = ['cat', 'window', 'defenestrate']\n",
    "for w in words:\n",
    "    print(w, len(w))"
   ]
  },
  {
   "cell_type": "code",
   "execution_count": 3,
   "metadata": {},
   "outputs": [
    {
     "name": "stdout",
     "output_type": "stream",
     "text": [
      "The count is:  0\n",
      "The sum is:  0\n",
      "The count is:  1\n",
      "The sum is:  1\n",
      "The count is:  2\n",
      "The sum is:  3\n",
      "The count is:  3\n",
      "The sum is:  6\n",
      "The count is:  4\n",
      "The sum is:  10\n",
      "The count is:  5\n",
      "The sum is:  15\n",
      "The count is:  6\n",
      "The sum is:  21\n",
      "The count is:  7\n",
      "The sum is:  28\n",
      "The count is:  8\n",
      "The sum is:  36\n",
      "The count is:  9\n",
      "The sum is:  45\n",
      "The count is:  10\n",
      "The sum is:  55\n"
     ]
    }
   ],
   "source": [
    "count = 0\n",
    "sum = 0\n",
    "while (count <=10):\n",
    "    print ('The count is: ', count)\n",
    "    print ('The sum is: ', sum)\n",
    "    count = count + 1\n",
    "    sum = sum + count"
   ]
  },
  {
   "cell_type": "code",
   "execution_count": null,
   "metadata": {},
   "outputs": [
    {
     "name": "stdout",
     "output_type": "stream",
     "text": [
      "Enter a number  :qwer\n",
      "You entered:  qwer\n"
     ]
    }
   ],
   "source": [
    "var= 1\n",
    "while var== 1 :  # This constructs an infinite loop\n",
    "    num= input(\"Enter a number  :\")\n",
    "    print ('You entered: ', num)"
   ]
  },
  {
   "cell_type": "code",
   "execution_count": null,
   "metadata": {},
   "outputs": [],
   "source": []
  }
 ],
 "metadata": {
  "kernelspec": {
   "display_name": "Python 3",
   "language": "python",
   "name": "python3"
  },
  "language_info": {
   "codemirror_mode": {
    "name": "ipython",
    "version": 3
   },
   "file_extension": ".py",
   "mimetype": "text/x-python",
   "name": "python",
   "nbconvert_exporter": "python",
   "pygments_lexer": "ipython3",
   "version": "3.7.1"
  }
 },
 "nbformat": 4,
 "nbformat_minor": 2
}
