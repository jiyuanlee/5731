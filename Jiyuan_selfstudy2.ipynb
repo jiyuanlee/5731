{
 "cells": [
  {
   "cell_type": "code",
   "execution_count": 4,
   "metadata": {},
   "outputs": [
    {
     "data": {
      "text/plain": [
       "'!\"#$%&\\'()*+,-./:;<=>?@[\\\\]^_`{|}~'"
      ]
     },
     "execution_count": 4,
     "metadata": {},
     "output_type": "execute_result"
    }
   ],
   "source": [
    "import string\n",
    "string.punctuation"
   ]
  },
  {
   "cell_type": "code",
   "execution_count": 5,
   "metadata": {},
   "outputs": [
    {
     "data": {
      "text/plain": [
       "' \\t\\n\\r\\x0b\\x0c'"
      ]
     },
     "execution_count": 5,
     "metadata": {},
     "output_type": "execute_result"
    }
   ],
   "source": [
    "import string\n",
    "string.whitespace"
   ]
  },
  {
   "cell_type": "code",
   "execution_count": 6,
   "metadata": {},
   "outputs": [
    {
     "name": "stdout",
     "output_type": "stream",
     "text": [
      "0.6392666191415409\n",
      "0.595197449439573\n",
      "0.7812145329757074\n",
      "0.12152170605496937\n",
      "0.588941913531538\n",
      "0.21649404861090082\n",
      "0.5216147072423112\n",
      "0.8714719990002989\n",
      "0.9166981656408758\n",
      "0.8489201452914658\n"
     ]
    }
   ],
   "source": [
    "import random\n",
    "\n",
    "for i in range(10):\n",
    "    x = random.random()\n",
    "    print(x)"
   ]
  },
  {
   "cell_type": "code",
   "execution_count": 7,
   "metadata": {},
   "outputs": [
    {
     "data": {
      "text/plain": [
       "7"
      ]
     },
     "execution_count": 7,
     "metadata": {},
     "output_type": "execute_result"
    }
   ],
   "source": [
    "random.randint(5, 10)"
   ]
  },
  {
   "cell_type": "code",
   "execution_count": 8,
   "metadata": {},
   "outputs": [
    {
     "data": {
      "text/plain": [
       "8"
      ]
     },
     "execution_count": 8,
     "metadata": {},
     "output_type": "execute_result"
    }
   ],
   "source": [
    "random.randint(5, 10)"
   ]
  },
  {
   "cell_type": "code",
   "execution_count": 11,
   "metadata": {},
   "outputs": [
    {
     "data": {
      "text/plain": [
       "1"
      ]
     },
     "execution_count": 11,
     "metadata": {},
     "output_type": "execute_result"
    }
   ],
   "source": [
    "t = [1, 2, 3]\n",
    "random.choice(t)"
   ]
  },
  {
   "cell_type": "code",
   "execution_count": 12,
   "metadata": {},
   "outputs": [
    {
     "data": {
      "text/plain": [
       "3"
      ]
     },
     "execution_count": 12,
     "metadata": {},
     "output_type": "execute_result"
    }
   ],
   "source": [
    "random.choice(t)"
   ]
  },
  {
   "cell_type": "code",
   "execution_count": 14,
   "metadata": {},
   "outputs": [
    {
     "data": {
      "text/plain": [
       "{'a': 2, 'b': 1}"
      ]
     },
     "execution_count": 14,
     "metadata": {},
     "output_type": "execute_result"
    }
   ],
   "source": [
    "def histogram(s):\n",
    "    d = dict()\n",
    "    for c in s:\n",
    "        if c not in d:\n",
    "            d[c] = 1\n",
    "        else:\n",
    "            d[c] += 1\n",
    "    return d\n",
    "t = ['a', 'a', 'b']\n",
    "hist = histogram(t)\n",
    "hist"
   ]
  },
  {
   "cell_type": "code",
   "execution_count": 16,
   "metadata": {},
   "outputs": [],
   "source": [
    "import string\n",
    "\n",
    "def process_file(filename):\n",
    "    hist = dict()\n",
    "    fp = open(filename)\n",
    "    for line in fp:\n",
    "        process_line(line, hist)\n",
    "    return hist\n",
    "\n",
    "def process_line(line, hist):\n",
    "    line = line.replace('-', ' ')\n",
    "\n",
    "    for word in line.split():\n",
    "        word = word.strip(string.punctuation + string.whitespace)\n",
    "        word = word.lower()\n",
    "        hist[word] = hist.get(word, 0) + 1\n",
    "\n",
    "hist = process_file('emma.txt')"
   ]
  },
  {
   "cell_type": "code",
   "execution_count": 17,
   "metadata": {},
   "outputs": [],
   "source": [
    "def total_words(hist):\n",
    "    return sum(hist.values())"
   ]
  },
  {
   "cell_type": "code",
   "execution_count": 18,
   "metadata": {},
   "outputs": [],
   "source": [
    "def different_words(hist):\n",
    "    return len(hist)"
   ]
  },
  {
   "cell_type": "code",
   "execution_count": 19,
   "metadata": {},
   "outputs": [
    {
     "name": "stdout",
     "output_type": "stream",
     "text": [
      "Total number of words: 162742\n"
     ]
    }
   ],
   "source": [
    "print('Total number of words:', total_words(hist))"
   ]
  },
  {
   "cell_type": "code",
   "execution_count": 20,
   "metadata": {},
   "outputs": [
    {
     "name": "stdout",
     "output_type": "stream",
     "text": [
      "Number of different words: 7460\n"
     ]
    }
   ],
   "source": [
    "print('Number of different words:', different_words(hist))"
   ]
  },
  {
   "cell_type": "code",
   "execution_count": 40,
   "metadata": {},
   "outputs": [
    {
     "data": {
      "text/plain": [
       "[(5295, 'to'),\n",
       " (5266, 'the'),\n",
       " (4931, 'and'),\n",
       " (4339, 'of'),\n",
       " (3191, 'i'),\n",
       " (3155, 'a'),\n",
       " (2546, 'it'),\n",
       " (2483, 'her'),\n",
       " (2400, 'was'),\n",
       " (2364, 'she'),\n",
       " (2199, 'in'),\n",
       " (2161, 'not'),\n",
       " (2053, 'you'),\n",
       " (1987, 'be'),\n",
       " (1811, 'he'),\n",
       " (1809, 'that'),\n",
       " (1626, 'had'),\n",
       " (1446, 'but'),\n",
       " (1443, 'as'),\n",
       " (1371, 'for'),\n",
       " (1328, 'have'),\n",
       " (1261, 'is'),\n",
       " (1222, 'with'),\n",
       " (1212, 'very'),\n",
       " (1154, 'mr'),\n",
       " (1150, 'his'),\n",
       " (1041, 'at'),\n",
       " (979, 'so'),\n",
       " (855, 'all'),\n",
       " (837, 'could'),\n",
       " (822, 'would'),\n",
       " (789, 'emma'),\n",
       " (771, 'him'),\n",
       " (760, 'been'),\n",
       " (748, 'no'),\n",
       " (732, 'my'),\n",
       " (701, 'on'),\n",
       " (701, 'mrs'),\n",
       " (667, 'any'),\n",
       " (648, 'do'),\n",
       " (602, 'were'),\n",
       " (602, 'miss'),\n",
       " (595, 'by'),\n",
       " (583, 'me'),\n",
       " (577, 'will'),\n",
       " (573, 'must'),\n",
       " (558, 'this'),\n",
       " (557, 'which'),\n",
       " (554, 'from'),\n",
       " (552, 'there'),\n",
       " (543, 'they'),\n",
       " (541, 'or'),\n",
       " (538, 'what'),\n",
       " (505, 'if'),\n",
       " (493, 'such'),\n",
       " (486, 'much'),\n",
       " (484, 'said'),\n",
       " (472, 'more'),\n",
       " (467, 'an'),\n",
       " (459, 'are'),\n",
       " (458, 'one'),\n",
       " (436, 'them'),\n",
       " (436, 'every'),\n",
       " (418, 'than'),\n",
       " (415, 'harriet'),\n",
       " (414, 'am'),\n",
       " (403, 'well'),\n",
       " (398, 'thing'),\n",
       " (389, 'weston'),\n",
       " (385, 'think'),\n",
       " (376, 'your'),\n",
       " (374, 'should'),\n",
       " (373, 'how'),\n",
       " (368, 'we'),\n",
       " (366, 'when'),\n",
       " (361, 'little'),\n",
       " (358, 'never'),\n",
       " (358, 'good'),\n",
       " (358, 'being'),\n",
       " (356, 'knightley'),\n",
       " (353, 'did'),\n",
       " (343, 'only'),\n",
       " (338, 'know'),\n",
       " (327, 'might'),\n",
       " (320, 'elton'),\n",
       " (315, 'now'),\n",
       " (312, 'say'),\n",
       " (304, 'their'),\n",
       " (304, 'own'),\n",
       " (296, 'who'),\n",
       " (288, 'can'),\n",
       " (285, 'jane'),\n",
       " (284, 'time'),\n",
       " (282, 'quite'),\n",
       " (279, 'herself'),\n",
       " (278, 'woodhouse'),\n",
       " (266, 'some'),\n",
       " (265, 'great'),\n",
       " (256, 'nothing'),\n",
       " (255, 'too'),\n",
       " (254, 'has'),\n",
       " (252, 'most'),\n",
       " (252, 'about'),\n",
       " (251, 'before'),\n",
       " (241, 'dear'),\n",
       " (238, 'other'),\n",
       " (238, 'may'),\n",
       " (238, 'always'),\n",
       " (226, 'thought'),\n",
       " (224, 'soon'),\n",
       " (224, 'see'),\n",
       " (219, 'shall'),\n",
       " (219, 'again'),\n",
       " (218, 'man'),\n",
       " (216, 'without'),\n",
       " (213, 'first'),\n",
       " (212, 'out'),\n",
       " (210, 'fairfax'),\n",
       " (205, 'sure'),\n",
       " (202, 'indeed'),\n",
       " (201, 'made'),\n",
       " (201, 'like'),\n",
       " (200, 'frank'),\n",
       " (194, 'ever'),\n",
       " (193, 'oh'),\n",
       " (193, 'churchill'),\n",
       " (192, 'young'),\n",
       " (192, 'up'),\n",
       " (187, 'day'),\n",
       " (179, 'two'),\n",
       " (177, 'though'),\n",
       " (174, 'better'),\n",
       " (172, 'then'),\n",
       " (172, 'come'),\n",
       " (169, 'just'),\n",
       " (168, 'father'),\n",
       " (166, 'friend'),\n",
       " (164, 'into'),\n",
       " (164, 'give'),\n",
       " (164, 'body'),\n",
       " (161, 'after'),\n",
       " (159, 'upon'),\n",
       " (159, 'hartfield'),\n",
       " (156, 'way'),\n",
       " (156, 'here'),\n",
       " (153, 'really'),\n",
       " (152, 'make'),\n",
       " (151, 'us'),\n",
       " (148, 'long'),\n",
       " (147, 'having'),\n",
       " (146, 'rather'),\n",
       " (146, 'himself'),\n",
       " (143, 'hope'),\n",
       " (143, 'cannot'),\n",
       " (142, 'done'),\n",
       " (141, 'seemed'),\n",
       " (139, 'wish'),\n",
       " (139, 'over'),\n",
       " (139, 'away'),\n",
       " (138, 'many'),\n",
       " (136, 'poor'),\n",
       " (136, 'even'),\n",
       " (133, 'while'),\n",
       " (133, 'go'),\n",
       " (132, 'however'),\n",
       " (132, 'home'),\n",
       " (131, 'does'),\n",
       " (129, 'enough'),\n",
       " (128, 'mind'),\n",
       " (126, 'bates'),\n",
       " (125, 'yes'),\n",
       " (125, 'highbury'),\n",
       " (125, 'happy'),\n",
       " (124, 'its'),\n",
       " (123, 'woman'),\n",
       " (123, 'look'),\n",
       " (122, 'take'),\n",
       " (121, 'last'),\n",
       " (120, 'heard'),\n",
       " (120, 'going'),\n",
       " (119, 'half'),\n",
       " (119, 'came'),\n",
       " (117, 'room'),\n",
       " (117, 'love'),\n",
       " (115, 'still'),\n",
       " (115, 'pleasure'),\n",
       " (114, 'something'),\n",
       " (114, 'felt'),\n",
       " (113, 'sort'),\n",
       " (113, 'another'),\n",
       " (111, 'moment'),\n",
       " (110, 'letter'),\n",
       " (109, 'yet'),\n",
       " (108, 'saw'),\n",
       " (108, 'our'),\n",
       " (108, 'morning'),\n",
       " (106, 'few'),\n",
       " (103, 'myself'),\n",
       " (102, 'till'),\n",
       " (102, 'same'),\n",
       " (102, 'feelings'),\n",
       " (102, 'believe'),\n",
       " (101, 'certainly'),\n",
       " (100, 'idea'),\n",
       " (100, 'hear'),\n",
       " (99, 'speak'),\n",
       " (99, 'perhaps'),\n",
       " (99, 'off'),\n",
       " (98, 'party'),\n",
       " (98, 'doubt'),\n",
       " (97, 'those'),\n",
       " (97, 'subject'),\n",
       " (97, 'evening'),\n",
       " (96, 'word'),\n",
       " (95, 'ought'),\n",
       " (95, 'house'),\n",
       " (95, 'feel'),\n",
       " (93, 'right'),\n",
       " (93, 'place'),\n",
       " (93, 'people'),\n",
       " (92, 'want'),\n",
       " (92, 'often'),\n",
       " (92, 'found'),\n",
       " (92, 'deal'),\n",
       " (91, 'looked'),\n",
       " (91, \"harriet's\"),\n",
       " (90, 'randalls'),\n",
       " (90, 'present'),\n",
       " (90, 'let'),\n",
       " (90, ''),\n",
       " (89, 'coming'),\n",
       " (89, 'almost'),\n",
       " (88, 'knew'),\n",
       " (88, 'john'),\n",
       " (87, 'both'),\n",
       " (86, 'where'),\n",
       " (86, 'visit'),\n",
       " (86, 'least'),\n",
       " (85, 'old'),\n",
       " (85, 'best'),\n",
       " (84, 'possible'),\n",
       " (83, 'once'),\n",
       " (83, 'kind'),\n",
       " (82, 'world'),\n",
       " (82, 'friends'),\n",
       " (81, 'together'),\n",
       " (81, 'suppose'),\n",
       " (81, 'cried'),\n",
       " (80, 'life'),\n",
       " (80, 'hour'),\n",
       " (80, 'gone'),\n",
       " (80, 'else'),\n",
       " (79, 'told'),\n",
       " (79, 'tell'),\n",
       " (79, 'replied'),\n",
       " (79, \"emma's\"),\n",
       " (78, 'smith'),\n",
       " (77, 'given'),\n",
       " (77, 'get'),\n",
       " (77, 'family'),\n",
       " (76, 'whole'),\n",
       " (76, 'wanted'),\n",
       " (76, 'obliged'),\n",
       " (76, 'happiness'),\n",
       " (75, 'manner'),\n",
       " (75, 'find'),\n",
       " (74, 'three'),\n",
       " (74, 'perry'),\n",
       " (73, 'whom'),\n",
       " (73, 'seen'),\n",
       " (73, 'ill'),\n",
       " (73, 'between'),\n",
       " (72, 'part'),\n",
       " (72, 'nobody'),\n",
       " (72, 'martin'),\n",
       " (72, 'able'),\n",
       " (71, 'side'),\n",
       " (71, 'opinion'),\n",
       " (71, 'hardly'),\n",
       " (70, 'understand'),\n",
       " (70, 'these'),\n",
       " (70, 'short'),\n",
       " (70, 'immediately'),\n",
       " (70, 'far'),\n",
       " (70, 'down'),\n",
       " (69, 'looking'),\n",
       " (69, 'less'),\n",
       " (69, 'carriage'),\n",
       " (68, 'pretty'),\n",
       " (68, 'left'),\n",
       " (68, 'lady'),\n",
       " (67, 'since'),\n",
       " (67, 'person'),\n",
       " (67, 'perfectly'),\n",
       " (67, \"elton's\"),\n",
       " (67, 'back'),\n",
       " (66, 'wife'),\n",
       " (66, 'under'),\n",
       " (66, 'true'),\n",
       " (66, 'towards'),\n",
       " (66, 'things'),\n",
       " (66, 'talked'),\n",
       " (66, 'sir'),\n",
       " (66, 'ready'),\n",
       " (66, 'heart'),\n",
       " (66, 'general'),\n",
       " (66, 'extremely'),\n",
       " (66, 'either'),\n",
       " (65, 'set'),\n",
       " (65, 'next'),\n",
       " (65, 'comfort'),\n",
       " (65, 'answer'),\n",
       " (65, 'afraid'),\n",
       " (64, 'whether'),\n",
       " (64, 'spirits'),\n",
       " (64, 'situation'),\n",
       " (64, 'put'),\n",
       " (64, 'nor'),\n",
       " (64, 'marry'),\n",
       " (64, 'began'),\n",
       " (63, 'acquaintance'),\n",
       " (62, 'through'),\n",
       " (62, 'therefore'),\n",
       " (61, 'sorry'),\n",
       " (61, 'course'),\n",
       " (61, 'change'),\n",
       " (60, 'thinking'),\n",
       " (60, 'talk'),\n",
       " (60, 'others'),\n",
       " (60, 'known'),\n",
       " (60, 'children'),\n",
       " (60, 'bad'),\n",
       " (59, 'superior'),\n",
       " (59, 'return'),\n",
       " (59, 'mean'),\n",
       " (59, 'longer'),\n",
       " (59, 'dare'),\n",
       " (59, 'attention'),\n",
       " (59, 'assure'),\n",
       " (59, 'account'),\n",
       " (58, 'taken'),\n",
       " (58, 'leave'),\n",
       " (58, 'exactly'),\n",
       " (57, 'years'),\n",
       " (57, 'mother'),\n",
       " (57, 'making'),\n",
       " (57, 'equal'),\n",
       " (56, 'yourself'),\n",
       " (56, 'why'),\n",
       " (56, 'walk'),\n",
       " (56, 'state'),\n",
       " (56, 'sense'),\n",
       " (56, 'name'),\n",
       " (56, 'isabella'),\n",
       " (56, 'feeling'),\n",
       " (56, 'degree'),\n",
       " (56, 'chapter'),\n",
       " (55, 'passed'),\n",
       " (55, 'imagine'),\n",
       " (55, 'business'),\n",
       " (55, 'among'),\n",
       " (54, 'read'),\n",
       " (54, 'gave'),\n",
       " (54, 'cold'),\n",
       " (54, 'brought'),\n",
       " (54, 'beyond'),\n",
       " (53, 'talking'),\n",
       " (53, 'minutes'),\n",
       " (53, 'manners'),\n",
       " (53, 'hand'),\n",
       " (53, 'directly'),\n",
       " (53, 'days'),\n",
       " (53, 'because'),\n",
       " (52, 'walked'),\n",
       " (52, 'used'),\n",
       " (52, 'satisfied'),\n",
       " (52, 'point'),\n",
       " (52, 'natural'),\n",
       " (52, 'bear'),\n",
       " (52, 'aunt'),\n",
       " (51, \"weston's\"),\n",
       " (51, 'usual'),\n",
       " (51, 'seeing'),\n",
       " (51, 'saying'),\n",
       " (51, 'eyes'),\n",
       " (51, 'care'),\n",
       " (50, 'rest'),\n",
       " (50, 'glad'),\n",
       " (50, 'end'),\n",
       " (50, 'each'),\n",
       " (50, 'agreeable'),\n",
       " (50, 'affection'),\n",
       " (49, 'words'),\n",
       " (49, 'wonder'),\n",
       " (49, 'means'),\n",
       " (49, 'donwell'),\n",
       " (49, 'dinner'),\n",
       " (49, 'cole'),\n",
       " (49, 'brother'),\n",
       " (49, 'appeared'),\n",
       " (48, 'wished'),\n",
       " (48, 'society'),\n",
       " (48, 'remember'),\n",
       " (48, 'attachment'),\n",
       " (48, 'allow'),\n",
       " (48, 'ah'),\n",
       " (47, 'voice'),\n",
       " (47, 'took'),\n",
       " (47, 'pleased'),\n",
       " (47, 'interest'),\n",
       " (47, 'door'),\n",
       " (47, 'daughter'),\n",
       " (46, 'went'),\n",
       " (46, 'speaking'),\n",
       " (46, 'particularly'),\n",
       " (46, 'near'),\n",
       " (46, 'married'),\n",
       " (46, 'likely'),\n",
       " (46, 'giving'),\n",
       " (46, 'girl'),\n",
       " (46, 'full'),\n",
       " (46, 'believed'),\n",
       " (46, 'already'),\n",
       " (46, 'against'),\n",
       " (45, 'walking'),\n",
       " (45, 'london'),\n",
       " (45, 'ladies'),\n",
       " (45, 'doing'),\n",
       " (45, 'air'),\n",
       " (44, 'strong'),\n",
       " (44, 'stay'),\n",
       " (44, 'son'),\n",
       " (44, 'smile'),\n",
       " (44, 'respect'),\n",
       " (44, 'need'),\n",
       " (44, 'farther'),\n",
       " (44, 'called'),\n",
       " (43, 'regard'),\n",
       " (43, 'meant'),\n",
       " (43, 'hoped'),\n",
       " (43, 'character'),\n",
       " (43, 'campbell'),\n",
       " (43, 'ask'),\n",
       " (42, 'spoke'),\n",
       " (42, 'real'),\n",
       " (42, 'proper'),\n",
       " (42, 'particular'),\n",
       " (42, 'open'),\n",
       " (42, 'five'),\n",
       " (42, 'fine'),\n",
       " (42, 'different'),\n",
       " (42, 'conversation'),\n",
       " (42, 'call'),\n",
       " (41, 'wrong'),\n",
       " (41, 'taylor'),\n",
       " (41, 'small'),\n",
       " (41, 'reason'),\n",
       " (41, 'power'),\n",
       " (41, 'pleasant'),\n",
       " (41, 'nature'),\n",
       " (41, 'impossible'),\n",
       " (41, 'expected'),\n",
       " (41, 'early'),\n",
       " (41, 'delightful'),\n",
       " (41, 'afterwards'),\n",
       " (40, 'weather'),\n",
       " (40, 'use'),\n",
       " (40, 'themselves'),\n",
       " (40, 'thank'),\n",
       " (40, 'sitting'),\n",
       " (40, 'received'),\n",
       " (40, 'night'),\n",
       " (40, 'new'),\n",
       " (40, 'letters'),\n",
       " (40, 'kindness'),\n",
       " (40, 'head'),\n",
       " (40, 'consider'),\n",
       " (40, 'beginning'),\n",
       " (40, 'allowed'),\n",
       " (39, 'whose'),\n",
       " (39, 'thoughts'),\n",
       " (39, 'sometimes'),\n",
       " (39, 'settled'),\n",
       " (39, 'round'),\n",
       " (39, 'returned'),\n",
       " (39, 'question'),\n",
       " (39, 'please'),\n",
       " (39, 'object'),\n",
       " (39, 'meeting'),\n",
       " (39, 'help'),\n",
       " (39, 'health'),\n",
       " (39, 'fortune'),\n",
       " (39, 'fond'),\n",
       " (39, \"father's\"),\n",
       " (39, 'entirely'),\n",
       " (39, 'dixon'),\n",
       " (39, 'creature'),\n",
       " (38, 'sit'),\n",
       " (38, 'neither'),\n",
       " (38, 'met'),\n",
       " (38, 'handsome'),\n",
       " (38, 'got'),\n",
       " (38, 'fancy'),\n",
       " (38, 'engaged'),\n",
       " (38, 'continued'),\n",
       " (38, 'colonel'),\n",
       " (38, 'bring'),\n",
       " (38, 'asked'),\n",
       " (37, 'within'),\n",
       " (37, 'truth'),\n",
       " (37, 'surprize'),\n",
       " (37, 'seem'),\n",
       " (37, 'sat'),\n",
       " (37, 'convinced'),\n",
       " (37, 'added'),\n",
       " (36, \"woodhouse's\"),\n",
       " (36, 'temper'),\n",
       " (36, 'probably'),\n",
       " (36, 'news'),\n",
       " (36, 'necessary'),\n",
       " (36, 'meaning'),\n",
       " (36, 'forward'),\n",
       " (36, 'enscombe'),\n",
       " (36, 'determined'),\n",
       " (36, 'appear'),\n",
       " (35, 'taste'),\n",
       " (35, 'supposed'),\n",
       " (35, 'marriage'),\n",
       " (35, 'large'),\n",
       " (35, 'company'),\n",
       " (35, 'common'),\n",
       " (35, 'child'),\n",
       " (35, 'amiable'),\n",
       " (34, 'perfect'),\n",
       " (34, 'pain'),\n",
       " (34, 'obliging'),\n",
       " (34, 'keep'),\n",
       " (34, \"goddard's\"),\n",
       " (34, 'excellent'),\n",
       " (34, 'comfortable'),\n",
       " (34, 'circumstance'),\n",
       " (33, 'wanting'),\n",
       " (33, 'ten'),\n",
       " (33, 'sent'),\n",
       " (33, 'papa'),\n",
       " (33, 'morrow'),\n",
       " (33, \"knightley's\"),\n",
       " (33, 'evil'),\n",
       " (33, 'dancing'),\n",
       " (33, 'acquainted'),\n",
       " (33, 'absolutely'),\n",
       " (32, 'surprized'),\n",
       " (32, 'second'),\n",
       " (32, 'robert'),\n",
       " (32, 'pass'),\n",
       " (32, 'men'),\n",
       " (32, 'meet'),\n",
       " (32, 'matter'),\n",
       " (32, 'match'),\n",
       " (32, 'hearing'),\n",
       " (32, 'face'),\n",
       " (32, 'except'),\n",
       " (32, 'charming'),\n",
       " (32, 'case'),\n",
       " (32, 'ago'),\n",
       " (31, 'spoken'),\n",
       " (31, 'smiling'),\n",
       " (31, 'serious'),\n",
       " (31, 'says'),\n",
       " (31, 'resolution'),\n",
       " (31, 'project'),\n",
       " (31, 'praise'),\n",
       " (31, 'persuaded'),\n",
       " (31, 'maple'),\n",
       " (31, 'interesting'),\n",
       " (31, 'husband'),\n",
       " (31, 'grove'),\n",
       " (31, 'four'),\n",
       " (31, \"fairfax's\"),\n",
       " (31, 'eye'),\n",
       " (31, 'engagement'),\n",
       " (31, 'difference'),\n",
       " (31, 'danger'),\n",
       " (31, 'compliment'),\n",
       " (31, 'circumstances'),\n",
       " (31, 'begin'),\n",
       " (31, 'ball'),\n",
       " (31, 'anxious'),\n",
       " (31, 'abbey'),\n",
       " (30, 'year'),\n",
       " (30, 'worth'),\n",
       " (30, 'worse'),\n",
       " (30, 'warm'),\n",
       " (30, 'twenty'),\n",
       " (30, 'months'),\n",
       " (30, 'knows'),\n",
       " (30, 'greater'),\n",
       " (30, 'fair'),\n",
       " (30, 'etext'),\n",
       " (30, 'drawing'),\n",
       " (30, 'difficulty'),\n",
       " (30, 'delighted'),\n",
       " (30, \"churchill's\"),\n",
       " (30, 'appearance'),\n",
       " (29, 'week'),\n",
       " (29, 'turned'),\n",
       " (29, 'times'),\n",
       " (29, 'none'),\n",
       " (29, 'merely'),\n",
       " (29, 'looks'),\n",
       " (29, 'judgment'),\n",
       " (29, 'information'),\n",
       " (29, 'greatest'),\n",
       " (29, 'gratitude'),\n",
       " (29, 'followed'),\n",
       " (29, 'excuse'),\n",
       " (29, 'cheerful'),\n",
       " (29, \"body's\"),\n",
       " (29, 'beauty'),\n",
       " (29, 'attentions'),\n",
       " (29, 'actually'),\n",
       " (28, 'yesterday'),\n",
       " (28, 'whenever'),\n",
       " (28, 'understanding'),\n",
       " (28, 'turn'),\n",
       " (28, 'taking'),\n",
       " (28, 'shew'),\n",
       " (28, 'satisfaction'),\n",
       " (28, 'resolved'),\n",
       " (28, 'occasion'),\n",
       " (28, 'notice'),\n",
       " (28, 'forget'),\n",
       " (28, 'easy'),\n",
       " (28, 'curiosity'),\n",
       " (28, 'ashamed'),\n",
       " (28, 'alone'),\n",
       " (27, 'view'),\n",
       " (27, 'tried'),\n",
       " (27, 'tea'),\n",
       " (27, 'table'),\n",
       " (27, 'style'),\n",
       " (27, 'spirit'),\n",
       " (27, 'sister'),\n",
       " (27, 'parties'),\n",
       " (27, 'loved'),\n",
       " (27, 'late'),\n",
       " (27, 'instead'),\n",
       " (27, 'honour'),\n",
       " (27, 'happened'),\n",
       " (27, 'gentleman'),\n",
       " (27, 'fortunate'),\n",
       " (27, 'decided'),\n",
       " (27, 'consequence'),\n",
       " (27, 'conduct'),\n",
       " (27, 'companion'),\n",
       " (27, 'clever'),\n",
       " (27, 'certain'),\n",
       " (27, 'also'),\n",
       " (27, 'advantage'),\n",
       " (26, 'work'),\n",
       " (26, 'sight'),\n",
       " (26, 'regret'),\n",
       " (26, 'pray'),\n",
       " (26, 'plan'),\n",
       " (26, 'plain'),\n",
       " (26, 'pity'),\n",
       " (26, 'pay'),\n",
       " (26, 'odd'),\n",
       " (26, 'mine'),\n",
       " (26, 'mentioned'),\n",
       " (26, 'marrying'),\n",
       " (26, 'knowledge'),\n",
       " (26, 'knowing'),\n",
       " (26, 'judge'),\n",
       " (26, 'hours'),\n",
       " (26, 'friendship'),\n",
       " (26, 'favour'),\n",
       " (26, 'depend'),\n",
       " (26, 'crown'),\n",
       " (26, 'completely'),\n",
       " (26, 'campbells'),\n",
       " (26, 'aware'),\n",
       " (25, 'written'),\n",
       " (25, 'vain'),\n",
       " (25, 'struck'),\n",
       " (25, 'standing'),\n",
       " (25, 'silent'),\n",
       " (25, 'sensible'),\n",
       " (25, 'send'),\n",
       " (25, 'sake'),\n",
       " (25, 'sad'),\n",
       " (25, 'quiet'),\n",
       " (25, 'quarter'),\n",
       " (25, 'note'),\n",
       " (25, 'lived'),\n",
       " (25, 'led'),\n",
       " (25, 'horses'),\n",
       " (25, 'guess'),\n",
       " (25, 'goddard'),\n",
       " (25, 'form'),\n",
       " (25, 'extraordinary'),\n",
       " (25, 'especially'),\n",
       " (25, 'entered'),\n",
       " (25, 'elegant'),\n",
       " (25, 'distance'),\n",
       " (25, 'behaviour'),\n",
       " (25, 'attached'),\n",
       " (24, 'write'),\n",
       " (24, 'turning'),\n",
       " (24, 'trying'),\n",
       " (24, 'try'),\n",
       " (24, 'tone'),\n",
       " (24, 'spite'),\n",
       " (24, 'seems'),\n",
       " (24, 'purpose'),\n",
       " (24, 'music'),\n",
       " (24, 'justice'),\n",
       " (24, 'influence'),\n",
       " (24, 'hurry'),\n",
       " (24, 'highly'),\n",
       " (24, 'generally'),\n",
       " (24, 'fact'),\n",
       " (24, 'event'),\n",
       " (24, 'due'),\n",
       " (24, 'disposition'),\n",
       " (24, 'country'),\n",
       " (24, 'consideration'),\n",
       " (24, 'comes'),\n",
       " (24, 'chuse'),\n",
       " (24, 'box'),\n",
       " (24, 'beautiful'),\n",
       " (24, 'admiration'),\n",
       " (23, 'understood'),\n",
       " (23, 'town'),\n",
       " (23, 'thinks'),\n",
       " (23, 'summer'),\n",
       " (23, 'service'),\n",
       " (23, 'self'),\n",
       " (23, 'scheme'),\n",
       " (23, 'quick'),\n",
       " (23, 'proof'),\n",
       " (23, 'observe'),\n",
       " (23, 'loss'),\n",
       " (23, 'join'),\n",
       " (23, 'instrument'),\n",
       " (23, 'hands'),\n",
       " (23, 'gentlemen'),\n",
       " (23, 'favourite'),\n",
       " (23, 'became'),\n",
       " (23, 'approbation'),\n",
       " (23, 'altogether'),\n",
       " (22, 'wait'),\n",
       " (22, 'telling'),\n",
       " (22, 'sweet'),\n",
       " (22, 'secret'),\n",
       " (22, 'rain'),\n",
       " (22, 'promise'),\n",
       " (22, 'presently'),\n",
       " (22, 'pleasing'),\n",
       " (22, 'picture'),\n",
       " (22, 'pianoforte'),\n",
       " (22, 'paid'),\n",
       " (22, 'observed'),\n",
       " (22, 'mistaken'),\n",
       " (22, 'kept'),\n",
       " (22, 'hill'),\n",
       " (22, 'enjoyment'),\n",
       " (22, 'eltons'),\n",
       " (22, 'dance'),\n",
       " (22, 'couple'),\n",
       " (22, 'command'),\n",
       " (22, 'claims'),\n",
       " (22, 'caught'),\n",
       " (22, 'blush'),\n",
       " (22, \"bates's\"),\n",
       " (22, 'answered'),\n",
       " (22, 'age'),\n",
       " (21, 'william'),\n",
       " (21, 'weeks'),\n",
       " (21, 'useful'),\n",
       " (21, 'suspect'),\n",
       " (21, 'stand'),\n",
       " (21, 'spent'),\n",
       " (21, 'scarcely'),\n",
       " (21, 'safe'),\n",
       " (21, 'otherwise'),\n",
       " (21, 'lost'),\n",
       " (21, 'likeness'),\n",
       " (21, 'lately'),\n",
       " (21, 'invitation'),\n",
       " (21, 'intimacy'),\n",
       " (21, 'inclination'),\n",
       " (21, 'important'),\n",
       " (21, 'hopes'),\n",
       " (21, 'henry'),\n",
       " (21, 'gutenberg'),\n",
       " (21, 'fault'),\n",
       " (21, 'encouragement'),\n",
       " (21, 'duty'),\n",
       " (21, 'disposed'),\n",
       " (21, 'deserve'),\n",
       " (21, 'delight'),\n",
       " (21, 'consciousness'),\n",
       " (21, 'charade'),\n",
       " (21, 'bath'),\n",
       " (21, 'agreed'),\n",
       " (20, 'women'),\n",
       " (20, 'wishes'),\n",
       " (20, 'whatever'),\n",
       " (20, 'suspicion'),\n",
       " (20, 'sudden'),\n",
       " (20, 'smallest'),\n",
       " (20, 'silence'),\n",
       " (20, 'respectable'),\n",
       " (20, 'recommend'),\n",
       " (20, 'reasonable'),\n",
       " (20, 'past'),\n",
       " (20, 'nonsense'),\n",
       " (20, 'niece'),\n",
       " (20, 'imagined'),\n",
       " (20, 'hers'),\n",
       " (20, 'fixed'),\n",
       " (20, 'expect'),\n",
       " (20, 'ease'),\n",
       " (20, 'disappointed'),\n",
       " (20, 'disagreeable'),\n",
       " (20, 'dearest'),\n",
       " (20, 'considering'),\n",
       " (20, 'connexion'),\n",
       " (20, 'complete'),\n",
       " (20, 'chance'),\n",
       " (20, 'attempt'),\n",
       " (19, 'wrote'),\n",
       " (19, 'worst'),\n",
       " (19, 'unhappy'),\n",
       " (19, 'uncle'),\n",
       " (19, 'tired'),\n",
       " (19, 'thrown'),\n",
       " (19, 'thoroughly'),\n",
       " (19, 'speech'),\n",
       " (19, 'single'),\n",
       " (19, 'sigh'),\n",
       " (19, 'safely'),\n",
       " (19, 'road'),\n",
       " (19, 'recollect'),\n",
       " (19, 'passing'),\n",
       " (19, 'opportunity'),\n",
       " (19, 'offer'),\n",
       " (19, 'move'),\n",
       " (19, 'mention'),\n",
       " (19, 'makes'),\n",
       " (19, 'low'),\n",
       " (19, 'lose'),\n",
       " (19, \"jane's\"),\n",
       " (19, 'hint'),\n",
       " (19, 'high'),\n",
       " (19, 'happily'),\n",
       " (19, 'fortnight'),\n",
       " (19, 'forgotten'),\n",
       " (19, 'eager'),\n",
       " (19, 'dreadful'),\n",
       " (19, 'distress'),\n",
       " (19, 'delay'),\n",
       " (19, 'considered'),\n",
       " (19, 'calling'),\n",
       " (19, 'busy'),\n",
       " (19, 'behind'),\n",
       " (19, 'anxiety'),\n",
       " (19, 'angry'),\n",
       " (18, 'worthy'),\n",
       " (18, \"that's\"),\n",
       " (18, 'spend'),\n",
       " (18, 'simple'),\n",
       " (18, 'severe'),\n",
       " (18, 'reflection'),\n",
       " (18, 'rational'),\n",
       " (18, 'rate'),\n",
       " (18, 'public'),\n",
       " (18, 'pride'),\n",
       " (18, 'play'),\n",
       " (18, 'period'),\n",
       " (18, 'occurred'),\n",
       " (18, 'living'),\n",
       " (18, 'listen'),\n",
       " (18, 'lines'),\n",
       " (18, 'joy'),\n",
       " (18, 'james'),\n",
       " (18, 'intended'),\n",
       " (18, 'friendly'),\n",
       " (18, 'finding'),\n",
       " (18, 'equally'),\n",
       " (18, 'effect'),\n",
       " (18, \"don't\"),\n",
       " (18, 'disappointment'),\n",
       " (18, 'desirable'),\n",
       " (18, 'credit'),\n",
       " (18, 'considerable'),\n",
       " (18, 'concern'),\n",
       " (18, 'close'),\n",
       " (18, 'circle'),\n",
       " (18, 'charge'),\n",
       " (18, 'cause'),\n",
       " (18, 'arrived'),\n",
       " (18, 'amused'),\n",
       " (17, 'wishing'),\n",
       " (17, 'weymouth'),\n",
       " (17, 'welcome'),\n",
       " (17, 'wedding'),\n",
       " (17, 'warmly'),\n",
       " (17, 'views'),\n",
       " (17, 'vicarage'),\n",
       " (17, 'trouble'),\n",
       " (17, 'thousand'),\n",
       " (17, 'stopped'),\n",
       " (17, 'smiled'),\n",
       " (17, 'slight'),\n",
       " (17, 'shewed'),\n",
       " (17, 'run'),\n",
       " (17, 'returning'),\n",
       " (17, 'repeated'),\n",
       " (17, 'remained'),\n",
       " (17, 'regular'),\n",
       " (17, 'promised'),\n",
       " (17, 'prevent'),\n",
       " (17, 'prepared'),\n",
       " (17, 'possibly'),\n",
       " (17, 'ourselves'),\n",
       " (17, 'miles'),\n",
       " (17, \"man's\"),\n",
       " (17, 'live'),\n",
       " (17, 'laughing'),\n",
       " (17, 'joined'),\n",
       " (17, 'inferior'),\n",
       " (17, 'indifferent'),\n",
       " (17, 'hundred'),\n",
       " (17, 'humour'),\n",
       " (17, 'history'),\n",
       " (17, 'hawkins'),\n",
       " (17, 'growing'),\n",
       " (17, 'gives'),\n",
       " (17, 'exercise'),\n",
       " (17, 'during'),\n",
       " (17, 'dislike'),\n",
       " (17, 'difficulties'),\n",
       " (17, 'countenance'),\n",
       " (17, 'confidence'),\n",
       " (17, 'coles'),\n",
       " (17, 'besides'),\n",
       " (17, 'arrangement'),\n",
       " (17, 'alarm'),\n",
       " (17, 'agree'),\n",
       " (16, 'ways'),\n",
       " (16, 'waiting'),\n",
       " (16, 'value'),\n",
       " (16, 'suffering'),\n",
       " (16, 'somebody'),\n",
       " (16, 'snow'),\n",
       " (16, 'seriously'),\n",
       " (16, 'refuse'),\n",
       " (16, 'receiving'),\n",
       " (16, 'reading'),\n",
       " (16, 'reached'),\n",
       " (16, 'proved'),\n",
       " (16, 'opened'),\n",
       " (16, 'office'),\n",
       " (16, 'occupied'),\n",
       " (16, 'neighbours'),\n",
       " (16, 'month'),\n",
       " (16, 'mistake'),\n",
       " (16, 'mere'),\n",
       " (16, 'listened'),\n",
       " (16, 'line'),\n",
       " (16, 'liked'),\n",
       " (16, 'law'),\n",
       " (16, 'laughed'),\n",
       " (16, 'laugh'),\n",
       " (16, 'ideas'),\n",
       " (16, 'getting'),\n",
       " (16, 'gentle'),\n",
       " (16, 'future'),\n",
       " (16, 'fully'),\n",
       " (16, 'following'),\n",
       " (16, 'fire'),\n",
       " (16, 'express'),\n",
       " (16, 'elegance'),\n",
       " (16, 'education'),\n",
       " (16, 'delicacy'),\n",
       " (16, 'cut'),\n",
       " (16, 'conviction'),\n",
       " (16, 'compliments'),\n",
       " (16, 'assured'),\n",
       " (16, 'arm'),\n",
       " (16, 'anywhere'),\n",
       " (16, 'amusement'),\n",
       " (16, 'agitation'),\n",
       " (16, 'admired'),\n",
       " (15, 'vanity'),\n",
       " (15, 'totally'),\n",
       " (15, 'tolerably'),\n",
       " (15, 'stop'),\n",
       " ...]"
      ]
     },
     "execution_count": 40,
     "metadata": {},
     "output_type": "execute_result"
    }
   ],
   "source": [
    "def most_common(hist):\n",
    "    t = []\n",
    "    for key, value in hist.items():\n",
    "        t.append((value, key))\n",
    "\n",
    "    t.sort(reverse=True)\n",
    "    return t\n",
    "t"
   ]
  },
  {
   "cell_type": "code",
   "execution_count": 22,
   "metadata": {
    "scrolled": true
   },
   "outputs": [
    {
     "name": "stdout",
     "output_type": "stream",
     "text": [
      "The most common words are:\n",
      "to\t5295\n",
      "the\t5266\n",
      "and\t4931\n",
      "of\t4339\n",
      "i\t3191\n",
      "a\t3155\n",
      "it\t2546\n",
      "her\t2483\n",
      "was\t2400\n",
      "she\t2364\n"
     ]
    }
   ],
   "source": [
    "t = most_common(hist)\n",
    "print('The most common words are:')\n",
    "for freq, word in t[:10]:\n",
    "    print(word, freq, sep='\\t')"
   ]
  },
  {
   "cell_type": "code",
   "execution_count": null,
   "metadata": {},
   "outputs": [],
   "source": []
  },
  {
   "cell_type": "code",
   "execution_count": 23,
   "metadata": {},
   "outputs": [],
   "source": [
    "def print_most_common(hist, num=10):\n",
    "    t = most_common(hist)\n",
    "    print('The most common words are:')\n",
    "    for freq, word in t[:num]:\n",
    "        print(word, freq, sep='\\t')"
   ]
  },
  {
   "cell_type": "code",
   "execution_count": 24,
   "metadata": {},
   "outputs": [
    {
     "name": "stdout",
     "output_type": "stream",
     "text": [
      "The most common words are:\n",
      "to\t5295\n",
      "the\t5266\n",
      "and\t4931\n",
      "of\t4339\n",
      "i\t3191\n",
      "a\t3155\n",
      "it\t2546\n",
      "her\t2483\n",
      "was\t2400\n",
      "she\t2364\n"
     ]
    }
   ],
   "source": [
    "print_most_common(hist)"
   ]
  },
  {
   "cell_type": "code",
   "execution_count": 25,
   "metadata": {},
   "outputs": [
    {
     "name": "stdout",
     "output_type": "stream",
     "text": [
      "The most common words are:\n",
      "to\t5295\n",
      "the\t5266\n",
      "and\t4931\n",
      "of\t4339\n",
      "i\t3191\n",
      "a\t3155\n",
      "it\t2546\n",
      "her\t2483\n",
      "was\t2400\n",
      "she\t2364\n",
      "in\t2199\n",
      "not\t2161\n",
      "you\t2053\n",
      "be\t1987\n",
      "he\t1811\n",
      "that\t1809\n",
      "had\t1626\n",
      "but\t1446\n",
      "as\t1443\n",
      "for\t1371\n"
     ]
    }
   ],
   "source": [
    "print_most_common(hist, 20)"
   ]
  },
  {
   "cell_type": "code",
   "execution_count": 26,
   "metadata": {},
   "outputs": [],
   "source": [
    "def subtract(d1, d2):\n",
    "    res = dict()\n",
    "    for key in d1:\n",
    "        if key not in d2:\n",
    "            res[key] = None\n",
    "    return res"
   ]
  },
  {
   "cell_type": "code",
   "execution_count": 27,
   "metadata": {},
   "outputs": [
    {
     "name": "stdout",
     "output_type": "stream",
     "text": [
      "Words in the book that aren't in the word list:\n",
      "gutenberg etext emma austen a etexts 1971 1994 158 18 2002 emma10.txt emma10.zip emma11.txt emma10a.txt xxxxx10x.xxx ftp etc 2 december 31 2001 10,000 x 100,000,000=trillion 10 gutenberg/ibc ibc illinois benedictine p o 2782 champaign il 61825 email michael s hart@vmd.cso.uiuc.edu internet hart@uiucvmd bitnet compuserve attmail mcimail  mrcnext.cso.uiuc.edu login your@login cd etext/etext91 etext92 etext93 etext/etext93 etext/articles dir mget index100.gut index200.gut new.gut newsletters start**the print!**for etexts**start what's tm 30 project's disclaimer 1 90 electronically merchantability disclaimers 3 hypertext ascii ebcdic 20 don't 60 ocr charles b kramer 72600.2026@compuserve.com tel 212 254 5093 end*the etexts*ver.04.29.93*end i woodhouse sister's remembrance taylor mr woodhouse's taylor's emma's unperceived weston unexceptionable morning's unreserve isabella's mrs valetudinarian london october november hartfield christmas isabella highbury woodhouses daughter's randalls james weston's hannah knightley connexions brunswick broadway mitchell's endeavour delicately endeavouring lady's one's elton chuse ii favourite churchill yorkshire connexion unsuitable brother's enscombe churchills mother's favourable portionless delightful uncle's father's deservedly hour's companionableness hindrance neighbours body's gentlemanlike perrys iii donwell unfrequently westons goddard quicksighted acquirements goddard's prosings harriet smith's unpolished betweens serle iv talkativeness exultation martin's alderneys son's shepherd's sunday nash richardson wakefield kingston 8th june 23rd day's gentleman's farmer's your's elizabeth harriet's robert uncouthness unmodulated knightley's elton's sufferable expediency fastidious v feelingly undesigned hazle vi bella mama's that's george apologised unfavourable honourable mantelpiece irksomeness encourager complaisance admirable incommoding incommoded vii i'd prepossession viii greatcoat girl's friend's gentlemen's slightingly chusing master's unreserved her's adversary's man's woman's clayton ix transcribing recollect ungallant destin'd transcribed moment's neptune eltons pre shakespeare michaelmas twelvemonth wink'd garrick's catherine grandmama 28th grandpapa grandpapas o'clock doubtingly smilingly charitable recollecting husband's undistinguishing unfastidious illiberal bates's knightleys fairfax stomacher child's experienced yesterday's cole's stilton wiltshire cellery surry wingfield ungracious fidgetiness unsullied disengaged henry's cobham weymouth f c xii aunt's unceremoniousness sauciness discordancies d'ye conversable unpersuadable discourse bella's embrocation wingfield's bateses neighbourhood graham's scotland campbell undoubting philippics rumination cromer law's langham xiii 24th tranquillised behaviour people's administered unpermitted se'nnight xiv solicitously substance january frank's braithwaites teazed man_'s xv two's stept tete unequalled unexampled inebriety xvi indiscreetly aggrandise gradations complaisant adventuring william coxe unmirthful amiableness xvii agreeably pointedly solemnity promptitude sympathise non xviii churchill's chuses manoeuvring behindhand aimable month's apartment beaufet apologise hetty ma'am fairfax's nobody's jane's friday saturday tuesday campbells ireland dixon dixon's dublin baly craig 7th holyhead monday lieut england campbell's novitiate successless recantation dixons suitableness grandmother's hawkins neighbour wonderings humouredly ford's haberdasher's buyings can't hawkins's christian augusta l rencontre green's brown's inseparably ceaseless waverings philip butcher's solitarily reanimation admirably proportionably treachery barnes companionably hyperbolical recollected men's york amor patriae hesitatingly outwardly blockhead housekeeper's butler's rationality instant's unpretending unexpensively persuadable person's unconcern dexterity unobjectionable cox's pianoforte broadwood's delightfully untouched february observable unconvinced unsentimental unsuspicious heroine's visitings outree irish improvidently unostentatious splendour unfeignedly italian anne baker's saunders mistress's wallis wallises larkins hodges deedily silversmith uninterruptedly broadwood instrument's cramer adair d commandingly scepticism endeavoured perry's ballroom's larkins's week's reprobating nephew's thing's stimulative soothings submissively composedly suckling's favourably king's selina doatingly e apartments outstepped jeffereys clara milmans e.'s caro sposo underbred unimpeded fragrance ing paradings patroness pressingly appellation controul grandmama's tongue's april bragge bragge's july honourably selina's southward constitutions clifton untowardly hymen's injustice wife's churchill'd tupman birmingham tupmans encumbrance influenced randall's richmond manchester sanguinely confidantes heartedness puppyism aladdin's here's complacently dr hughes where's richard otway caroline arthur complimented criticising goodnatured sweetbread asparagus irresistibly flatterers bickerton greensward imaginist night's tunbridge remembrances undesignedly minute's cowper pembroke exultingly disingenuousness unexamined blanche authorised humourist al sympathiser untainted unexceptionably cultivation morrow's abruptness st mark's venice discomposed swisserland penetrating crossness harmonise collation mickleham dorking mutterings shan't m confederates smallridge smallridge's bragges abdy's john's ostler's houseroom disagreeableness fancifulness windsor niece's arrowroot unaccountable otways placidity excusable secresy their's world's insignificance disengage privately misunderstood tremblings tautology unsuspected undiscerned latter's wretchedly engagement's inquietudes foolishly unpardonably hartfield's do's ungraciously groundless inferiorities w goodhumoured penetrated acquittal designedly unseasonableness 26th ult blameable particularity another's impartial disapprobation inconsideration unprovided desirableness unsuccessfully penetrate an't churchwardens william's collectedly d'almane comtesse d'ostalis genlis adelaide theodore endeavours k n unmentioned complimenter familiarise astley's james's heartfelt infant's entertainingly xix unbleached fortnight's housebreaking "
     ]
    }
   ],
   "source": [
    "words = process_file('words.txt')\n",
    "diff = subtract(hist, words)\n",
    "\n",
    "print(\"Words in the book that aren't in the word list:\")\n",
    "for word in diff.keys():\n",
    "    print(word, end=' ')"
   ]
  },
  {
   "cell_type": "code",
   "execution_count": 28,
   "metadata": {},
   "outputs": [],
   "source": [
    "def random_word(h):\n",
    "    t = []\n",
    "    for word, freq in h.items():\n",
    "        t.extend([word] * freq)\n",
    "\n",
    "    return random.choice(t)"
   ]
  },
  {
   "cell_type": "code",
   "execution_count": null,
   "metadata": {},
   "outputs": [],
   "source": []
  },
  {
   "cell_type": "code",
   "execution_count": 34,
   "metadata": {
    "scrolled": true
   },
   "outputs": [
    {
     "name": "stdout",
     "output_type": "stream",
     "text": [
      "Total number of words: 161080\n",
      "Number of different words: 7214\n",
      "The most common words are:\n",
      "to \t 5242\n",
      "the \t 5205\n",
      "and \t 4897\n",
      "of \t 4295\n",
      "i \t 3191\n",
      "a \t 3130\n",
      "it \t 2529\n",
      "her \t 2483\n",
      "was \t 2400\n",
      "she \t 2364\n",
      "in \t 2188\n",
      "not \t 2151\n",
      "you \t 1999\n",
      "be \t 1976\n",
      "he \t 1811\n",
      "that \t 1800\n",
      "had \t 1626\n",
      "but \t 1441\n",
      "as \t 1437\n",
      "for \t 1347\n",
      "The words in the book that aren't in the word list are:\n",
      "i emma woodhouse a sister's remembrance taylor mr woodhouse's taylor's emma's unperceived weston unexceptionable morning's unreserve isabella's mrs valetudinarian london october november hartfield christmas isabella highbury woodhouses daughter's randalls james weston's hannah knightley connexions brunswick broadway mitchell's endeavour delicately endeavouring lady's one's elton chuse ii favourite churchill yorkshire connexion unsuitable brother's enscombe churchills mother's favourable portionless delightful uncle's father's deservedly hour's companionableness hindrance neighbours body's gentlemanlike perrys iii donwell unfrequently westons goddard quicksighted acquirements goddard's prosings harriet smith's unpolished betweens serle iv talkativeness exultation martin's alderneys son's shepherd's sunday nash richardson wakefield kingston 8th june 23rd day's gentleman's farmer's your's elizabeth harriet's robert uncouthness unmodulated knightley's elton's sufferable expediency fastidious v feelingly undesigned hazle vi don't bella mama's that's george apologised unfavourable honourable mantelpiece irksomeness encourager complaisance admirable december incommoding incommoded vii  i'd prepossession viii greatcoat girl's friend's gentlemen's slightingly chusing master's unreserved her's adversary's man's woman's clayton ix transcribing recollect ungallant destin'd transcribed moment's neptune eltons pre shakespeare michaelmas twelvemonth wink'd garrick's catherine grandmama 28th grandpapa grandpapas o'clock doubtingly smilingly x charitable recollecting husband's undistinguishing unfastidious illiberal bates's knightleys fairfax stomacher child's experienced yesterday's cole's stilton wiltshire cellery surry wingfield ungracious fidgetiness unsullied disengaged henry's cobham weymouth f c xii aunt's unceremoniousness sauciness discordancies d'ye conversable unpersuadable discourse bella's embrocation wingfield's bateses neighbourhood graham's scotland campbell undoubting philippics rumination cromer law's langham xiii 24th tranquillised behaviour people's administered unpermitted se'nnight xiv solicitously substance january frank's braithwaites teazed man_'s xv two's stept tete unequalled unexampled inebriety xvi indiscreetly aggrandise gradations complaisant adventuring william coxe unmirthful amiableness xvii agreeably pointedly solemnity promptitude sympathise non xviii churchill's chuses manoeuvring behindhand aimable month's apartment beaufet apologise hetty ma'am fairfax's nobody's jane's friday saturday tuesday campbells ireland dixon dixon's dublin baly craig 7th holyhead monday lieut england campbell's novitiate successless recantation dixons suitableness grandmother's hawkins neighbour wonderings humouredly ford's haberdasher's buyings can't hawkins's christian augusta 10,000 l rencontre green's brown's inseparably ceaseless waverings philip butcher's solitarily reanimation admirably proportionably treachery barnes companionably hyperbolical recollected men's york amor patriae hesitatingly outwardly blockhead housekeeper's butler's rationality instant's unpretending unexpensively persuadable person's unconcern dexterity unobjectionable cox's pianoforte broadwood's delightfully untouched february observable unconvinced unsentimental unsuspicious heroine's visitings outree irish improvidently unostentatious splendour unfeignedly italian anne baker's saunders mistress's wallis wallises larkins hodges deedily silversmith uninterruptedly broadwood instrument's cramer adair d commandingly scepticism endeavoured perry's ballroom's larkins's week's reprobating nephew's thing's stimulative soothings submissively composedly suckling's favourably king's selina doatingly e apartments outstepped jeffereys clara milmans e.'s caro sposo underbred unimpeded fragrance ing paradings patroness pressingly appellation controul grandmama's tongue's april bragge bragge's july honourably selina's southward constitutions clifton untowardly hymen's injustice wife's churchill'd tupman birmingham tupmans encumbrance influenced randall's richmond manchester sanguinely confidantes heartedness puppyism aladdin's here's complacently dr hughes where's richard otway caroline arthur complimented criticising goodnatured sweetbread asparagus irresistibly flatterers bickerton greensward imaginist night's tunbridge remembrances undesignedly minute's cowper pembroke exultingly disingenuousness unexamined blanche authorised humourist al sympathiser untainted unexceptionably cultivation morrow's abruptness etc st mark's venice discomposed swisserland penetrating crossness harmonise collation mickleham dorking mutterings shan't m confederates smallridge smallridge's bragges abdy's john's ostler's houseroom disagreeableness fancifulness windsor niece's arrowroot unaccountable otways placidity excusable secresy their's world's insignificance disengage privately misunderstood tremblings tautology unsuspected undiscerned latter's wretchedly engagement's inquietudes foolishly unpardonably hartfield's do's ungraciously groundless inferiorities w goodhumoured penetrated acquittal designedly unseasonableness 26th ult blameable particularity another's impartial disapprobation inconsideration unprovided desirableness unsuccessfully penetrate s an't churchwardens william's collectedly d'almane comtesse d'ostalis genlis adelaide theodore endeavours k n unmentioned complimenter familiarise astley's james's heartfelt infant's entertainingly xix unbleached fortnight's housebreaking gutenberg etext austen \n",
      "\n",
      "Here are some random words from the book\n",
      "best one with slighted thank describing she out dixon but what i of assistance have own what heartfelt longer campbells post and look had was marry for more very what apt it clever fetching other pure it and upon without could you if of but pleasure little mother your and i on a a true had to emma resources they she fond her troublesome ungracious it you most was were reanimation it or my and and ago you from deep she and and no we it a be hunting miss to read i in you compliment their am silly to "
     ]
    }
   ],
   "source": [
    "from __future__ import print_function, division\n",
    "\n",
    "import random\n",
    "import string\n",
    "\n",
    "def process_file(filename, skip_header):\n",
    "    \"\"\"Makes a histogram that contains the words from a file.\n",
    "\n",
    "    filename: string\n",
    "    skip_header: boolean, whether to skip the Gutenberg header\n",
    "   \n",
    "    returns: map from each word to the number of times it appears.\n",
    "    \"\"\"\n",
    "    hist = {}\n",
    "    fp = open(filename)\n",
    "\n",
    "    if skip_header:\n",
    "        skip_gutenberg_header(fp)\n",
    "\n",
    "    for line in fp:\n",
    "        process_line(line, hist)\n",
    "\n",
    "    return hist\n",
    "\n",
    "\n",
    "def skip_gutenberg_header(fp):\n",
    "    \"\"\"Reads from fp until it finds the line that ends the header.\n",
    "\n",
    "    fp: open file object\n",
    "    \"\"\"\n",
    "    for line in fp:\n",
    "        if line.startswith('*END*THE SMALL PRINT!'):\n",
    "            break\n",
    "\n",
    "\n",
    "def process_line(line, hist):\n",
    "    \"\"\"Adds the words in the line to the histogram.\n",
    "\n",
    "    Modifies hist.\n",
    "\n",
    "    line: string\n",
    "    hist: histogram (map from word to frequency)\n",
    "    \"\"\"\n",
    "    # TODO: rewrite using Counter\n",
    "\n",
    "    # replace hyphens with spaces before splitting\n",
    "    line = line.replace('-', ' ')\n",
    "    strippables = string.punctuation + string.whitespace\n",
    "\n",
    "    for word in line.split():\n",
    "        # remove punctuation and convert to lowercase\n",
    "        word = word.strip(strippables)\n",
    "        word = word.lower()\n",
    "\n",
    "        # update the histogram\n",
    "        hist[word] = hist.get(word, 0) + 1\n",
    "\n",
    "\n",
    "def most_common(hist):\n",
    "    \"\"\"Makes a list of word-freq pairs in descending order of frequency.\n",
    "\n",
    "    hist: map from word to frequency\n",
    "\n",
    "    returns: list of (frequency, word) pairs\n",
    "    \"\"\"\n",
    "    t = []\n",
    "    for key, value in hist.items():\n",
    "        t.append((value, key))\n",
    "\n",
    "    t.sort()\n",
    "    t.reverse()\n",
    "    return t\n",
    "\n",
    "\n",
    "def print_most_common(hist, num=10):\n",
    "    \"\"\"Prints the most commons words in a histgram and their frequencies.\n",
    "    \n",
    "    hist: histogram (map from word to frequency)\n",
    "    num: number of words to print\n",
    "    \"\"\"\n",
    "    t = most_common(hist)\n",
    "    print('The most common words are:')\n",
    "    for freq, word in t[:num]:\n",
    "        print(word, '\\t', freq)\n",
    "\n",
    "\n",
    "def subtract(d1, d2):\n",
    "    \"\"\"Returns a dictionary with all keys that appear in d1 but not d2.\n",
    "\n",
    "    d1, d2: dictionaries\n",
    "    \"\"\"\n",
    "    # TODO: reimplement using Counter\n",
    "    res = {}\n",
    "    for key in d1:\n",
    "        if key not in d2:\n",
    "            res[key] = None\n",
    "    return res\n",
    "\n",
    "\n",
    "def total_words(hist):\n",
    "    \"\"\"Returns the total of the frequencies in a histogram.\"\"\"\n",
    "    return sum(hist.values())\n",
    "\n",
    "\n",
    "def different_words(hist):\n",
    "    \"\"\"Returns the number of different words in a histogram.\"\"\"\n",
    "    return len(hist)\n",
    "\n",
    "\n",
    "def random_word(hist):\n",
    "    \"\"\"Chooses a random word from a histogram.\n",
    "\n",
    "    The probability of each word is proportional to its frequency.\n",
    "    \"\"\"\n",
    "    # TODO: rewrite using Counter\n",
    "    t = []\n",
    "    for word, freq in hist.items():\n",
    "        t.extend([word] * freq)\n",
    "\n",
    "    return random.choice(t)\n",
    "\n",
    "\n",
    "def main():\n",
    "    hist = process_file('emma.txt', skip_header=True)\n",
    "    print('Total number of words:', total_words(hist))\n",
    "    print('Number of different words:', different_words(hist))\n",
    "\n",
    "    t = most_common(hist)\n",
    "    print('The most common words are:')\n",
    "    for freq, word in t[0:20]:\n",
    "        print(word, '\\t', freq)\n",
    "\n",
    "    words = process_file('words.txt', skip_header=False)\n",
    "\n",
    "    diff = subtract(hist, words)\n",
    "    print(\"The words in the book that aren't in the word list are:\")\n",
    "    for word in diff.keys():\n",
    "        print(word, end=' ')\n",
    "\n",
    "    print(\"\\n\\nHere are some random words from the book\")\n",
    "    for i in range(100):\n",
    "        print(random_word(hist), end=' ')\n",
    "\n",
    "\n",
    "if __name__ == '__main__':\n",
    "    main()\n",
    "\n"
   ]
  },
  {
   "cell_type": "code",
   "execution_count": 37,
   "metadata": {},
   "outputs": [
    {
     "ename": "ModuleNotFoundError",
     "evalue": "No module named 'analyze_book1'",
     "output_type": "error",
     "traceback": [
      "\u001b[1;31m---------------------------------------------------------------------------\u001b[0m",
      "\u001b[1;31mModuleNotFoundError\u001b[0m                       Traceback (most recent call last)",
      "\u001b[1;32m<ipython-input-37-4098ee4a989f>\u001b[0m in \u001b[0;36m<module>\u001b[1;34m\u001b[0m\n\u001b[0;32m      1\u001b[0m \u001b[1;32mfrom\u001b[0m \u001b[0m__future__\u001b[0m \u001b[1;32mimport\u001b[0m \u001b[0mprint_function\u001b[0m\u001b[1;33m,\u001b[0m \u001b[0mdivision\u001b[0m\u001b[1;33m\u001b[0m\u001b[1;33m\u001b[0m\u001b[0m\n\u001b[0;32m      2\u001b[0m \u001b[1;33m\u001b[0m\u001b[0m\n\u001b[1;32m----> 3\u001b[1;33m \u001b[1;32mfrom\u001b[0m \u001b[0manalyze_book1\u001b[0m \u001b[1;32mimport\u001b[0m \u001b[0mprocess_file\u001b[0m\u001b[1;33m\u001b[0m\u001b[1;33m\u001b[0m\u001b[0m\n\u001b[0m\u001b[0;32m      4\u001b[0m \u001b[1;33m\u001b[0m\u001b[0m\n\u001b[0;32m      5\u001b[0m \u001b[1;33m\u001b[0m\u001b[0m\n",
      "\u001b[1;31mModuleNotFoundError\u001b[0m: No module named 'analyze_book1'"
     ]
    }
   ],
   "source": [
    "from __future__ import print_function, division\n",
    "\n",
    "from analyze_book1 import process_file\n",
    "\n",
    "\n",
    "def subtract(d1, d2):\n",
    "    \"\"\"Returns a set of all keys that appear in d1 but not d2.\n",
    "\n",
    "    d1, d2: dictionaries\n",
    "    \"\"\"\n",
    "    return set(d1) - set(d2)\n",
    "\n",
    "\n",
    "def main():\n",
    "    hist = process_file('emma.txt', skip_header=True)\n",
    "    words = process_file('words.txt', skip_header=False)\n",
    "\n",
    "    diff = subtract(hist, words)\n",
    "    print(\"The words in the book that aren't in the word list are:\")\n",
    "    for word in diff:\n",
    "        print(word, end=' ')\n",
    "\n",
    "\n",
    "if __name__ == '__main__':\n",
    "    main()"
   ]
  },
  {
   "cell_type": "code",
   "execution_count": 36,
   "metadata": {},
   "outputs": [
    {
     "ename": "ModuleNotFoundError",
     "evalue": "No module named 'analyze_book1'",
     "output_type": "error",
     "traceback": [
      "\u001b[1;31m---------------------------------------------------------------------------\u001b[0m",
      "\u001b[1;31mModuleNotFoundError\u001b[0m                       Traceback (most recent call last)",
      "\u001b[1;32m<ipython-input-36-116830c7f825>\u001b[0m in \u001b[0;36m<module>\u001b[1;34m\u001b[0m\n\u001b[0;32m      5\u001b[0m \u001b[1;32mfrom\u001b[0m \u001b[0mbisect\u001b[0m \u001b[1;32mimport\u001b[0m \u001b[0mbisect\u001b[0m\u001b[1;33m\u001b[0m\u001b[1;33m\u001b[0m\u001b[0m\n\u001b[0;32m      6\u001b[0m \u001b[1;33m\u001b[0m\u001b[0m\n\u001b[1;32m----> 7\u001b[1;33m \u001b[1;32mfrom\u001b[0m \u001b[0manalyze_book1\u001b[0m \u001b[1;32mimport\u001b[0m \u001b[0mprocess_file\u001b[0m\u001b[1;33m\u001b[0m\u001b[1;33m\u001b[0m\u001b[0m\n\u001b[0m\u001b[0;32m      8\u001b[0m \u001b[1;33m\u001b[0m\u001b[0m\n\u001b[0;32m      9\u001b[0m \u001b[1;33m\u001b[0m\u001b[0m\n",
      "\u001b[1;31mModuleNotFoundError\u001b[0m: No module named 'analyze_book1'"
     ]
    }
   ],
   "source": [
    "from __future__ import print_function, division\n",
    "\n",
    "import random\n",
    "\n",
    "from bisect import bisect\n",
    "\n",
    "from analyze_book1 import process_file\n",
    "\n",
    "\n",
    "def random_word(hist):\n",
    "    \"\"\"Chooses a random word from a histogram.\n",
    "\n",
    "    The probability of each word is proportional to its frequency.\n",
    "\n",
    "    hist: map from word to frequency\n",
    "    \"\"\"\n",
    "    # TODO: This could be made faster by computing the cumulative\n",
    "    # frequencies once and reusing them.\n",
    "\n",
    "    words = []\n",
    "    freqs = []\n",
    "    total_freq = 0\n",
    "\n",
    "    # make a list of words and a list of cumulative frequencies\n",
    "    for word, freq in hist.items():\n",
    "        total_freq += freq\n",
    "        words.append(word)\n",
    "        freqs.append(total_freq)\n",
    "\n",
    "    # choose a random value and find its location in the cumulative list\n",
    "    x = random.randint(0, total_freq-1)\n",
    "    index = bisect(freqs, x)\n",
    "    return words[index]\n",
    "\n",
    "\n",
    "def main():\n",
    "    hist = process_file('emma.txt', skip_header=True)\n",
    "\n",
    "    print(\"\\n\\nHere are some random words from the book\")\n",
    "    for i in range(100):\n",
    "        print(random_word(hist), end=' ')\n",
    "\n",
    "\n",
    "if __name__ == '__main__':\n",
    "    main()\n"
   ]
  },
  {
   "cell_type": "code",
   "execution_count": null,
   "metadata": {},
   "outputs": [],
   "source": []
  },
  {
   "cell_type": "markdown",
   "metadata": {},
   "source": [
    "chapter 14"
   ]
  },
  {
   "cell_type": "code",
   "execution_count": 42,
   "metadata": {},
   "outputs": [],
   "source": [
    "fout = open('output.txt', 'w')"
   ]
  },
  {
   "cell_type": "code",
   "execution_count": 43,
   "metadata": {},
   "outputs": [
    {
     "data": {
      "text/plain": [
       "24"
      ]
     },
     "execution_count": 43,
     "metadata": {},
     "output_type": "execute_result"
    }
   ],
   "source": [
    "line1 = \"This here's the wattle,\\n\"\n",
    "fout.write(line1)"
   ]
  },
  {
   "cell_type": "code",
   "execution_count": 44,
   "metadata": {},
   "outputs": [
    {
     "data": {
      "text/plain": [
       "24"
      ]
     },
     "execution_count": 44,
     "metadata": {},
     "output_type": "execute_result"
    }
   ],
   "source": [
    "line2 = \"the emblem of our land.\\n\"\n",
    "fout.write(line2)"
   ]
  },
  {
   "cell_type": "code",
   "execution_count": 47,
   "metadata": {},
   "outputs": [],
   "source": [
    "fout.close()"
   ]
  },
  {
   "cell_type": "code",
   "execution_count": 48,
   "metadata": {},
   "outputs": [],
   "source": [
    "fout = open('output.txt', 'w')"
   ]
  },
  {
   "cell_type": "code",
   "execution_count": 49,
   "metadata": {},
   "outputs": [
    {
     "data": {
      "text/plain": [
       "2"
      ]
     },
     "execution_count": 49,
     "metadata": {},
     "output_type": "execute_result"
    }
   ],
   "source": [
    "x = 52\n",
    "fout.write(str(x))"
   ]
  },
  {
   "cell_type": "code",
   "execution_count": 50,
   "metadata": {},
   "outputs": [
    {
     "data": {
      "text/plain": [
       "'42'"
      ]
     },
     "execution_count": 50,
     "metadata": {},
     "output_type": "execute_result"
    }
   ],
   "source": [
    "camels = 42\n",
    "'%d' % camels"
   ]
  },
  {
   "cell_type": "code",
   "execution_count": 51,
   "metadata": {},
   "outputs": [
    {
     "data": {
      "text/plain": [
       "'I have spotted 42 camels.'"
      ]
     },
     "execution_count": 51,
     "metadata": {},
     "output_type": "execute_result"
    }
   ],
   "source": [
    "'I have spotted %d camels.' % camels"
   ]
  },
  {
   "cell_type": "code",
   "execution_count": 52,
   "metadata": {},
   "outputs": [
    {
     "data": {
      "text/plain": [
       "'In 3 years I have spotted 0.1 camels.'"
      ]
     },
     "execution_count": 52,
     "metadata": {},
     "output_type": "execute_result"
    }
   ],
   "source": [
    "'In %d years I have spotted %g %s.' % (3, 0.1, 'camels')"
   ]
  },
  {
   "cell_type": "code",
   "execution_count": 53,
   "metadata": {},
   "outputs": [
    {
     "ename": "TypeError",
     "evalue": "not enough arguments for format string",
     "output_type": "error",
     "traceback": [
      "\u001b[1;31m---------------------------------------------------------------------------\u001b[0m",
      "\u001b[1;31mTypeError\u001b[0m                                 Traceback (most recent call last)",
      "\u001b[1;32m<ipython-input-53-4a97654d37a9>\u001b[0m in \u001b[0;36m<module>\u001b[1;34m\u001b[0m\n\u001b[1;32m----> 1\u001b[1;33m \u001b[1;34m'%d %d %d'\u001b[0m \u001b[1;33m%\u001b[0m \u001b[1;33m(\u001b[0m\u001b[1;36m1\u001b[0m\u001b[1;33m,\u001b[0m \u001b[1;36m2\u001b[0m\u001b[1;33m)\u001b[0m\u001b[1;33m\u001b[0m\u001b[1;33m\u001b[0m\u001b[0m\n\u001b[0m",
      "\u001b[1;31mTypeError\u001b[0m: not enough arguments for format string"
     ]
    }
   ],
   "source": [
    "'%d %d %d' % (1, 2)"
   ]
  },
  {
   "cell_type": "code",
   "execution_count": 54,
   "metadata": {},
   "outputs": [
    {
     "ename": "TypeError",
     "evalue": "%d format: a number is required, not str",
     "output_type": "error",
     "traceback": [
      "\u001b[1;31m---------------------------------------------------------------------------\u001b[0m",
      "\u001b[1;31mTypeError\u001b[0m                                 Traceback (most recent call last)",
      "\u001b[1;32m<ipython-input-54-f60b471c8eff>\u001b[0m in \u001b[0;36m<module>\u001b[1;34m\u001b[0m\n\u001b[1;32m----> 1\u001b[1;33m \u001b[1;34m'%d'\u001b[0m \u001b[1;33m%\u001b[0m \u001b[1;34m'dollars'\u001b[0m\u001b[1;33m\u001b[0m\u001b[1;33m\u001b[0m\u001b[0m\n\u001b[0m",
      "\u001b[1;31mTypeError\u001b[0m: %d format: a number is required, not str"
     ]
    }
   ],
   "source": [
    "'%d' % 'dollars'"
   ]
  },
  {
   "cell_type": "code",
   "execution_count": 55,
   "metadata": {},
   "outputs": [
    {
     "data": {
      "text/plain": [
       "'C:\\\\Users\\\\ljy\\\\Info 5731'"
      ]
     },
     "execution_count": 55,
     "metadata": {},
     "output_type": "execute_result"
    }
   ],
   "source": [
    "import os\n",
    "cwd = os.getcwd()\n",
    "cwd"
   ]
  },
  {
   "cell_type": "code",
   "execution_count": 56,
   "metadata": {},
   "outputs": [
    {
     "data": {
      "text/plain": [
       "'C:\\\\Users\\\\ljy\\\\Info 5731\\\\memo.txt'"
      ]
     },
     "execution_count": 56,
     "metadata": {},
     "output_type": "execute_result"
    }
   ],
   "source": [
    "os.path.abspath('memo.txt')"
   ]
  },
  {
   "cell_type": "code",
   "execution_count": 57,
   "metadata": {},
   "outputs": [
    {
     "data": {
      "text/plain": [
       "False"
      ]
     },
     "execution_count": 57,
     "metadata": {},
     "output_type": "execute_result"
    }
   ],
   "source": [
    "os.path.exists('memo.txt')"
   ]
  },
  {
   "cell_type": "code",
   "execution_count": 58,
   "metadata": {},
   "outputs": [
    {
     "data": {
      "text/plain": [
       "False"
      ]
     },
     "execution_count": 58,
     "metadata": {},
     "output_type": "execute_result"
    }
   ],
   "source": [
    "os.path.isdir('memo.txt')"
   ]
  },
  {
   "cell_type": "code",
   "execution_count": 60,
   "metadata": {},
   "outputs": [
    {
     "data": {
      "text/plain": [
       "False"
      ]
     },
     "execution_count": 60,
     "metadata": {},
     "output_type": "execute_result"
    }
   ],
   "source": [
    "os.path.isdir('/home/dinsdale')"
   ]
  },
  {
   "cell_type": "code",
   "execution_count": 61,
   "metadata": {},
   "outputs": [
    {
     "data": {
      "text/plain": [
       "['.ipynb_checkpoints',\n",
       " 'analyze_book1.py.txt',\n",
       " 'analyze_book2.py.txt',\n",
       " 'analyze_book3.py.txt',\n",
       " 'emma.txt',\n",
       " 'Jiyuan_Assign2.ipynb',\n",
       " 'Jiyuan_selfstudy1.ipynb',\n",
       " 'Jiyuan_selfstudy2.ipynb',\n",
       " 'lesson-2-code.ipynb',\n",
       " 'output.txt',\n",
       " 'structshape.py.txt',\n",
       " 'test.ipynb',\n",
       " 'untitled.txt',\n",
       " 'words.txt']"
      ]
     },
     "execution_count": 61,
     "metadata": {},
     "output_type": "execute_result"
    }
   ],
   "source": [
    "os.listdir(cwd)"
   ]
  },
  {
   "cell_type": "code",
   "execution_count": 62,
   "metadata": {},
   "outputs": [
    {
     "name": "stdout",
     "output_type": "stream",
     "text": [
      ".\\.ipynb_checkpoints\\Jiyuan_Assign2-checkpoint.ipynb\n",
      ".\\.ipynb_checkpoints\\Jiyuan_selfstudy1-checkpoint.ipynb\n",
      ".\\.ipynb_checkpoints\\Jiyuan_selfstudy2-checkpoint.ipynb\n",
      ".\\.ipynb_checkpoints\\lesson-2-code-checkpoint.ipynb\n",
      ".\\.ipynb_checkpoints\\test-checkpoint.ipynb\n",
      ".\\analyze_book1.py.txt\n",
      ".\\analyze_book2.py.txt\n",
      ".\\analyze_book3.py.txt\n",
      ".\\emma.txt\n",
      ".\\Jiyuan_Assign2.ipynb\n",
      ".\\Jiyuan_selfstudy1.ipynb\n",
      ".\\Jiyuan_selfstudy2.ipynb\n",
      ".\\lesson-2-code.ipynb\n",
      ".\\output.txt\n",
      ".\\structshape.py.txt\n",
      ".\\test.ipynb\n",
      ".\\untitled.txt\n",
      ".\\words.txt\n",
      ".\\analyze_book1.py.txt\n",
      ".\\analyze_book2.py.txt\n",
      ".\\analyze_book3.py.txt\n",
      ".\\emma.txt\n",
      ".\\Jiyuan_Assign2.ipynb\n",
      ".\\Jiyuan_selfstudy1.ipynb\n",
      ".\\Jiyuan_selfstudy2.ipynb\n",
      ".\\lesson-2-code.ipynb\n",
      ".\\output.txt\n",
      ".\\structshape.py.txt\n",
      ".\\test.ipynb\n",
      ".\\untitled.txt\n",
      ".\\words.txt\n",
      ".\\.ipynb_checkpoints\\Jiyuan_Assign2-checkpoint.ipynb\n",
      ".\\.ipynb_checkpoints\\Jiyuan_selfstudy1-checkpoint.ipynb\n",
      ".\\.ipynb_checkpoints\\Jiyuan_selfstudy2-checkpoint.ipynb\n",
      ".\\.ipynb_checkpoints\\lesson-2-code-checkpoint.ipynb\n",
      ".\\.ipynb_checkpoints\\test-checkpoint.ipynb\n"
     ]
    }
   ],
   "source": [
    "from __future__ import print_function, division\n",
    "\n",
    "import os\n",
    "\n",
    "\n",
    "def walk(dirname):\n",
    "    \"\"\"Prints the names of all files in dirname and its subdirectories.\n",
    "\n",
    "    This is the version in the book.\n",
    "\n",
    "    dirname: string name of directory\n",
    "    \"\"\"\n",
    "    for name in os.listdir(dirname):\n",
    "        path = os.path.join(dirname, name)\n",
    "\n",
    "        if os.path.isfile(path):\n",
    "            print(path)\n",
    "        else:\n",
    "            walk(path)\n",
    "\n",
    "\n",
    "def walk2(dirname):\n",
    "    \"\"\"Prints the names of all files in dirname and its subdirectories.\n",
    "\n",
    "    This is the exercise solution, which uses os.walk.\n",
    "\n",
    "    dirname: string name of directory\n",
    "    \"\"\"\n",
    "    for root, dirs, files in os.walk(dirname):\n",
    "        for filename in files:\n",
    "            print(os.path.join(root, filename))\n",
    "\n",
    "\n",
    "if __name__ == '__main__':\n",
    "    walk('.')\n",
    "    walk2('.')"
   ]
  },
  {
   "cell_type": "code",
   "execution_count": 63,
   "metadata": {},
   "outputs": [
    {
     "ename": "FileNotFoundError",
     "evalue": "[Errno 2] No such file or directory: 'bad_file'",
     "output_type": "error",
     "traceback": [
      "\u001b[1;31m---------------------------------------------------------------------------\u001b[0m",
      "\u001b[1;31mFileNotFoundError\u001b[0m                         Traceback (most recent call last)",
      "\u001b[1;32m<ipython-input-63-a7d7d7ad396b>\u001b[0m in \u001b[0;36m<module>\u001b[1;34m\u001b[0m\n\u001b[1;32m----> 1\u001b[1;33m \u001b[0mfin\u001b[0m \u001b[1;33m=\u001b[0m \u001b[0mopen\u001b[0m\u001b[1;33m(\u001b[0m\u001b[1;34m'bad_file'\u001b[0m\u001b[1;33m)\u001b[0m\u001b[1;33m\u001b[0m\u001b[1;33m\u001b[0m\u001b[0m\n\u001b[0m",
      "\u001b[1;31mFileNotFoundError\u001b[0m: [Errno 2] No such file or directory: 'bad_file'"
     ]
    }
   ],
   "source": [
    "fin = open('bad_file')"
   ]
  },
  {
   "cell_type": "code",
   "execution_count": 64,
   "metadata": {},
   "outputs": [
    {
     "ename": "FileNotFoundError",
     "evalue": "[Errno 2] No such file or directory: '/etc/passwd'",
     "output_type": "error",
     "traceback": [
      "\u001b[1;31m---------------------------------------------------------------------------\u001b[0m",
      "\u001b[1;31mFileNotFoundError\u001b[0m                         Traceback (most recent call last)",
      "\u001b[1;32m<ipython-input-64-8a9adb191927>\u001b[0m in \u001b[0;36m<module>\u001b[1;34m\u001b[0m\n\u001b[1;32m----> 1\u001b[1;33m \u001b[0mfout\u001b[0m \u001b[1;33m=\u001b[0m \u001b[0mopen\u001b[0m\u001b[1;33m(\u001b[0m\u001b[1;34m'/etc/passwd'\u001b[0m\u001b[1;33m,\u001b[0m \u001b[1;34m'w'\u001b[0m\u001b[1;33m)\u001b[0m\u001b[1;33m\u001b[0m\u001b[1;33m\u001b[0m\u001b[0m\n\u001b[0m",
      "\u001b[1;31mFileNotFoundError\u001b[0m: [Errno 2] No such file or directory: '/etc/passwd'"
     ]
    }
   ],
   "source": [
    "fout = open('/etc/passwd', 'w')"
   ]
  },
  {
   "cell_type": "code",
   "execution_count": 65,
   "metadata": {},
   "outputs": [
    {
     "ename": "FileNotFoundError",
     "evalue": "[Errno 2] No such file or directory: '/home'",
     "output_type": "error",
     "traceback": [
      "\u001b[1;31m---------------------------------------------------------------------------\u001b[0m",
      "\u001b[1;31mFileNotFoundError\u001b[0m                         Traceback (most recent call last)",
      "\u001b[1;32m<ipython-input-65-a2032f82d461>\u001b[0m in \u001b[0;36m<module>\u001b[1;34m\u001b[0m\n\u001b[1;32m----> 1\u001b[1;33m \u001b[0mfin\u001b[0m \u001b[1;33m=\u001b[0m \u001b[0mopen\u001b[0m\u001b[1;33m(\u001b[0m\u001b[1;34m'/home'\u001b[0m\u001b[1;33m)\u001b[0m\u001b[1;33m\u001b[0m\u001b[1;33m\u001b[0m\u001b[0m\n\u001b[0m",
      "\u001b[1;31mFileNotFoundError\u001b[0m: [Errno 2] No such file or directory: '/home'"
     ]
    }
   ],
   "source": [
    "fin = open('/home')"
   ]
  },
  {
   "cell_type": "code",
   "execution_count": 66,
   "metadata": {},
   "outputs": [
    {
     "name": "stdout",
     "output_type": "stream",
     "text": [
      "Something went wrong.\n"
     ]
    }
   ],
   "source": [
    "try:\n",
    "    fin = open('bad_file')\n",
    "except:\n",
    "    print('Something went wrong.')"
   ]
  },
  {
   "cell_type": "code",
   "execution_count": 2,
   "metadata": {},
   "outputs": [],
   "source": [
    "import dbm\n",
    "db = dbm.open('captions', 'c')"
   ]
  },
  {
   "cell_type": "code",
   "execution_count": 3,
   "metadata": {},
   "outputs": [],
   "source": [
    "db['cleese.png'] = 'Photo of John Cleese.'"
   ]
  },
  {
   "cell_type": "code",
   "execution_count": 4,
   "metadata": {},
   "outputs": [
    {
     "data": {
      "text/plain": [
       "b'Photo of John Cleese.'"
      ]
     },
     "execution_count": 4,
     "metadata": {},
     "output_type": "execute_result"
    }
   ],
   "source": [
    "db['cleese.png']"
   ]
  },
  {
   "cell_type": "code",
   "execution_count": 5,
   "metadata": {},
   "outputs": [
    {
     "data": {
      "text/plain": [
       "b'Photo of John Cleese doing a silly walk.'"
      ]
     },
     "execution_count": 5,
     "metadata": {},
     "output_type": "execute_result"
    }
   ],
   "source": [
    "db['cleese.png'] = 'Photo of John Cleese doing a silly walk.'\n",
    "db['cleese.png']"
   ]
  },
  {
   "cell_type": "code",
   "execution_count": 6,
   "metadata": {},
   "outputs": [
    {
     "name": "stdout",
     "output_type": "stream",
     "text": [
      "b'cleese.png' b'Photo of John Cleese doing a silly walk.'\n"
     ]
    }
   ],
   "source": [
    "for key in db:\n",
    "    print(key, db[key])"
   ]
  },
  {
   "cell_type": "code",
   "execution_count": 7,
   "metadata": {},
   "outputs": [],
   "source": [
    "db.close()"
   ]
  },
  {
   "cell_type": "code",
   "execution_count": 10,
   "metadata": {},
   "outputs": [
    {
     "data": {
      "text/plain": [
       "b'\\x80\\x03]q\\x00(K\\x01K\\x02K\\x03e.'"
      ]
     },
     "execution_count": 10,
     "metadata": {},
     "output_type": "execute_result"
    }
   ],
   "source": [
    "import pickle\n",
    "t = [1, 2, 3]\n",
    "pickle.dumps(t)"
   ]
  },
  {
   "cell_type": "code",
   "execution_count": 11,
   "metadata": {},
   "outputs": [
    {
     "data": {
      "text/plain": [
       "[1, 2, 3]"
      ]
     },
     "execution_count": 11,
     "metadata": {},
     "output_type": "execute_result"
    }
   ],
   "source": [
    "t1 = [1, 2, 3]\n",
    "s = pickle.dumps(t1)\n",
    "t2 = pickle.loads(s)\n",
    "t2\n"
   ]
  },
  {
   "cell_type": "code",
   "execution_count": 12,
   "metadata": {},
   "outputs": [
    {
     "data": {
      "text/plain": [
       "True"
      ]
     },
     "execution_count": 12,
     "metadata": {},
     "output_type": "execute_result"
    }
   ],
   "source": [
    "t1 == t2"
   ]
  },
  {
   "cell_type": "code",
   "execution_count": 13,
   "metadata": {},
   "outputs": [
    {
     "data": {
      "text/plain": [
       "False"
      ]
     },
     "execution_count": 13,
     "metadata": {},
     "output_type": "execute_result"
    }
   ],
   "source": [
    "t1 is t2"
   ]
  },
  {
   "cell_type": "code",
   "execution_count": 22,
   "metadata": {},
   "outputs": [],
   "source": [
    "import os\n",
    "cmd = 'ls -l'\n",
    "fp = os.popen(cmd)"
   ]
  },
  {
   "cell_type": "code",
   "execution_count": 25,
   "metadata": {},
   "outputs": [
    {
     "ename": "ModuleNotFoundError",
     "evalue": "No module named '__init__.py'; '__init__' is not a package",
     "output_type": "error",
     "traceback": [
      "\u001b[1;31m---------------------------------------------------------------------------\u001b[0m",
      "\u001b[1;31mModuleNotFoundError\u001b[0m                       Traceback (most recent call last)",
      "\u001b[1;32m<ipython-input-25-22bb7a627e73>\u001b[0m in \u001b[0;36m<module>\u001b[1;34m\u001b[0m\n\u001b[1;32m----> 1\u001b[1;33m \u001b[1;32mimport\u001b[0m \u001b[0m__init__\u001b[0m\u001b[1;33m.\u001b[0m\u001b[0mpy\u001b[0m\u001b[1;33m\u001b[0m\u001b[1;33m\u001b[0m\u001b[0m\n\u001b[0m\u001b[0;32m      2\u001b[0m \u001b[0mres\u001b[0m \u001b[1;33m=\u001b[0m \u001b[0mfp\u001b[0m\u001b[1;33m.\u001b[0m\u001b[0mread\u001b[0m\u001b[1;33m(\u001b[0m\u001b[1;33m)\u001b[0m\u001b[1;33m\u001b[0m\u001b[1;33m\u001b[0m\u001b[0m\n",
      "\u001b[1;31mModuleNotFoundError\u001b[0m: No module named '__init__.py'; '__init__' is not a package"
     ]
    }
   ],
   "source": [
    "import __init__.py\n",
    "res = fp.read()"
   ]
  },
  {
   "cell_type": "code",
   "execution_count": 18,
   "metadata": {},
   "outputs": [
    {
     "ename": "NameError",
     "evalue": "name 'fp' is not defined",
     "output_type": "error",
     "traceback": [
      "\u001b[1;31m---------------------------------------------------------------------------\u001b[0m",
      "\u001b[1;31mNameError\u001b[0m                                 Traceback (most recent call last)",
      "\u001b[1;32m<ipython-input-18-e61c68fbdb58>\u001b[0m in \u001b[0;36m<module>\u001b[1;34m\u001b[0m\n\u001b[1;32m----> 1\u001b[1;33m \u001b[0mstat\u001b[0m \u001b[1;33m=\u001b[0m \u001b[0mfp\u001b[0m\u001b[1;33m.\u001b[0m\u001b[0mclose\u001b[0m\u001b[1;33m(\u001b[0m\u001b[1;33m)\u001b[0m\u001b[1;33m\u001b[0m\u001b[1;33m\u001b[0m\u001b[0m\n\u001b[0m\u001b[0;32m      2\u001b[0m \u001b[0mprint\u001b[0m\u001b[1;33m(\u001b[0m\u001b[0mstat\u001b[0m\u001b[1;33m)\u001b[0m\u001b[1;33m\u001b[0m\u001b[1;33m\u001b[0m\u001b[0m\n",
      "\u001b[1;31mNameError\u001b[0m: name 'fp' is not defined"
     ]
    }
   ],
   "source": [
    "stat = fp.close()\n",
    "print(stat)"
   ]
  },
  {
   "cell_type": "code",
   "execution_count": 28,
   "metadata": {},
   "outputs": [
    {
     "name": "stdout",
     "output_type": "stream",
     "text": [
      "\n"
     ]
    }
   ],
   "source": [
    "import os\n",
    "filename = 'book.tex'\n",
    "cmd = 'md5sum ' + filename\n",
    "fp = os.popen(cmd)\n",
    "res = fp.read()\n",
    "stat = fp.close()\n",
    "print(res)\n"
   ]
  },
  {
   "cell_type": "code",
   "execution_count": 29,
   "metadata": {},
   "outputs": [
    {
     "name": "stdout",
     "output_type": "stream",
     "text": [
      "1\n"
     ]
    }
   ],
   "source": [
    "print(stat)"
   ]
  },
  {
   "cell_type": "code",
   "execution_count": 30,
   "metadata": {},
   "outputs": [
    {
     "ename": "FileNotFoundError",
     "evalue": "[Errno 2] No such file or directory: 'wc.py'",
     "output_type": "error",
     "traceback": [
      "\u001b[1;31m---------------------------------------------------------------------------\u001b[0m",
      "\u001b[1;31mFileNotFoundError\u001b[0m                         Traceback (most recent call last)",
      "\u001b[1;32m<ipython-input-30-1b0b2bd0358c>\u001b[0m in \u001b[0;36m<module>\u001b[1;34m\u001b[0m\n\u001b[0;32m      5\u001b[0m     \u001b[1;32mreturn\u001b[0m \u001b[0mcount\u001b[0m\u001b[1;33m\u001b[0m\u001b[1;33m\u001b[0m\u001b[0m\n\u001b[0;32m      6\u001b[0m \u001b[1;33m\u001b[0m\u001b[0m\n\u001b[1;32m----> 7\u001b[1;33m \u001b[0mprint\u001b[0m\u001b[1;33m(\u001b[0m\u001b[0mlinecount\u001b[0m\u001b[1;33m(\u001b[0m\u001b[1;34m'wc.py'\u001b[0m\u001b[1;33m)\u001b[0m\u001b[1;33m)\u001b[0m\u001b[1;33m\u001b[0m\u001b[1;33m\u001b[0m\u001b[0m\n\u001b[0m",
      "\u001b[1;32m<ipython-input-30-1b0b2bd0358c>\u001b[0m in \u001b[0;36mlinecount\u001b[1;34m(filename)\u001b[0m\n\u001b[0;32m      1\u001b[0m \u001b[1;32mdef\u001b[0m \u001b[0mlinecount\u001b[0m\u001b[1;33m(\u001b[0m\u001b[0mfilename\u001b[0m\u001b[1;33m)\u001b[0m\u001b[1;33m:\u001b[0m\u001b[1;33m\u001b[0m\u001b[1;33m\u001b[0m\u001b[0m\n\u001b[0;32m      2\u001b[0m     \u001b[0mcount\u001b[0m \u001b[1;33m=\u001b[0m \u001b[1;36m0\u001b[0m\u001b[1;33m\u001b[0m\u001b[1;33m\u001b[0m\u001b[0m\n\u001b[1;32m----> 3\u001b[1;33m     \u001b[1;32mfor\u001b[0m \u001b[0mline\u001b[0m \u001b[1;32min\u001b[0m \u001b[0mopen\u001b[0m\u001b[1;33m(\u001b[0m\u001b[0mfilename\u001b[0m\u001b[1;33m)\u001b[0m\u001b[1;33m:\u001b[0m\u001b[1;33m\u001b[0m\u001b[1;33m\u001b[0m\u001b[0m\n\u001b[0m\u001b[0;32m      4\u001b[0m         \u001b[0mcount\u001b[0m \u001b[1;33m+=\u001b[0m \u001b[1;36m1\u001b[0m\u001b[1;33m\u001b[0m\u001b[1;33m\u001b[0m\u001b[0m\n\u001b[0;32m      5\u001b[0m     \u001b[1;32mreturn\u001b[0m \u001b[0mcount\u001b[0m\u001b[1;33m\u001b[0m\u001b[1;33m\u001b[0m\u001b[0m\n",
      "\u001b[1;31mFileNotFoundError\u001b[0m: [Errno 2] No such file or directory: 'wc.py'"
     ]
    }
   ],
   "source": [
    "def linecount(filename):\n",
    "    count = 0\n",
    "    for line in open(filename):\n",
    "        count += 1\n",
    "    return count\n",
    "\n",
    "print(linecount('wc.py'))"
   ]
  },
  {
   "cell_type": "code",
   "execution_count": 31,
   "metadata": {},
   "outputs": [
    {
     "ename": "ModuleNotFoundError",
     "evalue": "No module named 'wc'",
     "output_type": "error",
     "traceback": [
      "\u001b[1;31m---------------------------------------------------------------------------\u001b[0m",
      "\u001b[1;31mModuleNotFoundError\u001b[0m                       Traceback (most recent call last)",
      "\u001b[1;32m<ipython-input-31-7068d0230b9c>\u001b[0m in \u001b[0;36m<module>\u001b[1;34m\u001b[0m\n\u001b[1;32m----> 1\u001b[1;33m \u001b[1;32mimport\u001b[0m \u001b[0mwc\u001b[0m\u001b[1;33m\u001b[0m\u001b[1;33m\u001b[0m\u001b[0m\n\u001b[0m",
      "\u001b[1;31mModuleNotFoundError\u001b[0m: No module named 'wc'"
     ]
    }
   ],
   "source": [
    "import wc"
   ]
  },
  {
   "cell_type": "code",
   "execution_count": 32,
   "metadata": {},
   "outputs": [
    {
     "ename": "NameError",
     "evalue": "name 'wc' is not defined",
     "output_type": "error",
     "traceback": [
      "\u001b[1;31m---------------------------------------------------------------------------\u001b[0m",
      "\u001b[1;31mNameError\u001b[0m                                 Traceback (most recent call last)",
      "\u001b[1;32m<ipython-input-32-33c68e973f45>\u001b[0m in \u001b[0;36m<module>\u001b[1;34m\u001b[0m\n\u001b[1;32m----> 1\u001b[1;33m \u001b[0mwc\u001b[0m\u001b[1;33m.\u001b[0m\u001b[0mlinecount\u001b[0m\u001b[1;33m(\u001b[0m\u001b[1;34m'wc.py'\u001b[0m\u001b[1;33m)\u001b[0m\u001b[1;33m\u001b[0m\u001b[1;33m\u001b[0m\u001b[0m\n\u001b[0m",
      "\u001b[1;31mNameError\u001b[0m: name 'wc' is not defined"
     ]
    }
   ],
   "source": [
    "wc.linecount('wc.py')"
   ]
  },
  {
   "cell_type": "code",
   "execution_count": 33,
   "metadata": {},
   "outputs": [
    {
     "ename": "FileNotFoundError",
     "evalue": "[Errno 2] No such file or directory: 'wc.py'",
     "output_type": "error",
     "traceback": [
      "\u001b[1;31m---------------------------------------------------------------------------\u001b[0m",
      "\u001b[1;31mFileNotFoundError\u001b[0m                         Traceback (most recent call last)",
      "\u001b[1;32m<ipython-input-33-89ba063afadf>\u001b[0m in \u001b[0;36m<module>\u001b[1;34m\u001b[0m\n\u001b[0;32m      1\u001b[0m \u001b[1;32mif\u001b[0m \u001b[0m__name__\u001b[0m \u001b[1;33m==\u001b[0m \u001b[1;34m'__main__'\u001b[0m\u001b[1;33m:\u001b[0m\u001b[1;33m\u001b[0m\u001b[1;33m\u001b[0m\u001b[0m\n\u001b[1;32m----> 2\u001b[1;33m     \u001b[0mprint\u001b[0m\u001b[1;33m(\u001b[0m\u001b[0mlinecount\u001b[0m\u001b[1;33m(\u001b[0m\u001b[1;34m'wc.py'\u001b[0m\u001b[1;33m)\u001b[0m\u001b[1;33m)\u001b[0m\u001b[1;33m\u001b[0m\u001b[1;33m\u001b[0m\u001b[0m\n\u001b[0m",
      "\u001b[1;32m<ipython-input-30-1b0b2bd0358c>\u001b[0m in \u001b[0;36mlinecount\u001b[1;34m(filename)\u001b[0m\n\u001b[0;32m      1\u001b[0m \u001b[1;32mdef\u001b[0m \u001b[0mlinecount\u001b[0m\u001b[1;33m(\u001b[0m\u001b[0mfilename\u001b[0m\u001b[1;33m)\u001b[0m\u001b[1;33m:\u001b[0m\u001b[1;33m\u001b[0m\u001b[1;33m\u001b[0m\u001b[0m\n\u001b[0;32m      2\u001b[0m     \u001b[0mcount\u001b[0m \u001b[1;33m=\u001b[0m \u001b[1;36m0\u001b[0m\u001b[1;33m\u001b[0m\u001b[1;33m\u001b[0m\u001b[0m\n\u001b[1;32m----> 3\u001b[1;33m     \u001b[1;32mfor\u001b[0m \u001b[0mline\u001b[0m \u001b[1;32min\u001b[0m \u001b[0mopen\u001b[0m\u001b[1;33m(\u001b[0m\u001b[0mfilename\u001b[0m\u001b[1;33m)\u001b[0m\u001b[1;33m:\u001b[0m\u001b[1;33m\u001b[0m\u001b[1;33m\u001b[0m\u001b[0m\n\u001b[0m\u001b[0;32m      4\u001b[0m         \u001b[0mcount\u001b[0m \u001b[1;33m+=\u001b[0m \u001b[1;36m1\u001b[0m\u001b[1;33m\u001b[0m\u001b[1;33m\u001b[0m\u001b[0m\n\u001b[0;32m      5\u001b[0m     \u001b[1;32mreturn\u001b[0m \u001b[0mcount\u001b[0m\u001b[1;33m\u001b[0m\u001b[1;33m\u001b[0m\u001b[0m\n",
      "\u001b[1;31mFileNotFoundError\u001b[0m: [Errno 2] No such file or directory: 'wc.py'"
     ]
    }
   ],
   "source": [
    "if __name__ == '__main__':\n",
    "    print(linecount('wc.py'))"
   ]
  },
  {
   "cell_type": "code",
   "execution_count": 39,
   "metadata": {},
   "outputs": [
    {
     "name": "stdout",
     "output_type": "stream",
     "text": [
      "1 2\t           3\n",
      " 4\n"
     ]
    }
   ],
   "source": [
    "s = '1 2\\t           3\\n 4'\n",
    "print(s)"
   ]
  },
  {
   "cell_type": "code",
   "execution_count": 40,
   "metadata": {},
   "outputs": [
    {
     "name": "stdout",
     "output_type": "stream",
     "text": [
      "'1 2\\t           3\\n 4'\n"
     ]
    }
   ],
   "source": [
    "print(repr(s))"
   ]
  },
  {
   "cell_type": "markdown",
   "metadata": {},
   "source": [
    "chapter 15"
   ]
  },
  {
   "cell_type": "code",
   "execution_count": 41,
   "metadata": {},
   "outputs": [],
   "source": [
    "class Point:\n",
    "    \"\"\"Represents a point in 2-D space.\"\"\""
   ]
  },
  {
   "cell_type": "code",
   "execution_count": 42,
   "metadata": {},
   "outputs": [
    {
     "data": {
      "text/plain": [
       "__main__.Point"
      ]
     },
     "execution_count": 42,
     "metadata": {},
     "output_type": "execute_result"
    }
   ],
   "source": [
    "Point"
   ]
  },
  {
   "cell_type": "code",
   "execution_count": 43,
   "metadata": {},
   "outputs": [
    {
     "data": {
      "text/plain": [
       "<__main__.Point at 0x1bee6a0d748>"
      ]
     },
     "execution_count": 43,
     "metadata": {},
     "output_type": "execute_result"
    }
   ],
   "source": [
    "blank = Point()\n",
    "blank"
   ]
  },
  {
   "cell_type": "code",
   "execution_count": 44,
   "metadata": {},
   "outputs": [],
   "source": [
    "blank.x = 3.0\n",
    "blank.y = 4.0"
   ]
  },
  {
   "cell_type": "code",
   "execution_count": 45,
   "metadata": {},
   "outputs": [
    {
     "data": {
      "text/plain": [
       "4.0"
      ]
     },
     "execution_count": 45,
     "metadata": {},
     "output_type": "execute_result"
    }
   ],
   "source": [
    "blank.y"
   ]
  },
  {
   "cell_type": "code",
   "execution_count": 48,
   "metadata": {},
   "outputs": [
    {
     "data": {
      "text/plain": [
       "3.0"
      ]
     },
     "execution_count": 48,
     "metadata": {},
     "output_type": "execute_result"
    }
   ],
   "source": [
    "x = blank.x\n",
    "x"
   ]
  },
  {
   "cell_type": "code",
   "execution_count": 49,
   "metadata": {},
   "outputs": [
    {
     "data": {
      "text/plain": [
       "'(3, 4)'"
      ]
     },
     "execution_count": 49,
     "metadata": {},
     "output_type": "execute_result"
    }
   ],
   "source": [
    "'(%g, %g)' % (blank.x, blank.y)"
   ]
  },
  {
   "cell_type": "code",
   "execution_count": 52,
   "metadata": {},
   "outputs": [
    {
     "data": {
      "text/plain": [
       "5.0"
      ]
     },
     "execution_count": 52,
     "metadata": {},
     "output_type": "execute_result"
    }
   ],
   "source": [
    "import math\n",
    "distance = math.sqrt(blank.x**2 + blank.y**2)\n",
    "distance"
   ]
  },
  {
   "cell_type": "code",
   "execution_count": 53,
   "metadata": {},
   "outputs": [],
   "source": [
    "def print_point(p):\n",
    "    print('(%g, %g)' % (p.x, p.y))"
   ]
  },
  {
   "cell_type": "code",
   "execution_count": 54,
   "metadata": {},
   "outputs": [
    {
     "name": "stdout",
     "output_type": "stream",
     "text": [
      "(3, 4)\n"
     ]
    }
   ],
   "source": [
    "print_point(blank)"
   ]
  },
  {
   "cell_type": "code",
   "execution_count": 57,
   "metadata": {},
   "outputs": [],
   "source": [
    "class Rectangle:\n",
    "    \"\"\"Represents a rectangle.\n",
    "\n",
    "    attributes: width, height, corner.\n",
    "    \"\"\"\n",
    "box = Rectangle()\n",
    "box.width = 100.0\n",
    "box.height = 200.0\n",
    "box.corner = Point()\n",
    "box.corner.x = 0.0\n",
    "box.corner.y = 0.0"
   ]
  },
  {
   "cell_type": "code",
   "execution_count": 58,
   "metadata": {},
   "outputs": [],
   "source": [
    "def find_center(rect):\n",
    "    p = Point()\n",
    "    p.x = rect.corner.x + rect.width/2\n",
    "    p.y = rect.corner.y + rect.height/2\n",
    "    return p"
   ]
  },
  {
   "cell_type": "code",
   "execution_count": 59,
   "metadata": {},
   "outputs": [
    {
     "name": "stdout",
     "output_type": "stream",
     "text": [
      "(50, 100)\n"
     ]
    }
   ],
   "source": [
    "center = find_center(box)\n",
    "print_point(center)"
   ]
  },
  {
   "cell_type": "code",
   "execution_count": 66,
   "metadata": {},
   "outputs": [],
   "source": [
    "box.width = box.width + 50\n",
    "box.height = box.height + 100"
   ]
  },
  {
   "cell_type": "code",
   "execution_count": 67,
   "metadata": {},
   "outputs": [],
   "source": [
    "def grow_rectangle(rect, dwidth, dheight):\n",
    "    rect.width += dwidth\n",
    "    rect.height += dheight"
   ]
  },
  {
   "cell_type": "code",
   "execution_count": 68,
   "metadata": {},
   "outputs": [
    {
     "data": {
      "text/plain": [
       "(450.0, 900.0)"
      ]
     },
     "execution_count": 68,
     "metadata": {},
     "output_type": "execute_result"
    }
   ],
   "source": [
    "box.width, box.height"
   ]
  },
  {
   "cell_type": "code",
   "execution_count": 70,
   "metadata": {},
   "outputs": [
    {
     "data": {
      "text/plain": [
       "(550.0, 1100.0)"
      ]
     },
     "execution_count": 70,
     "metadata": {},
     "output_type": "execute_result"
    }
   ],
   "source": [
    "grow_rectangle(box, 50, 100)\n",
    "box.width, box.height"
   ]
  },
  {
   "cell_type": "code",
   "execution_count": 75,
   "metadata": {},
   "outputs": [],
   "source": [
    "p1 = Point()\n",
    "p1.x = 3.0\n",
    "p1.y = 4.0\n",
    "import copy\n",
    "p2 = copy.copy(p1)"
   ]
  },
  {
   "cell_type": "code",
   "execution_count": 76,
   "metadata": {},
   "outputs": [
    {
     "name": "stdout",
     "output_type": "stream",
     "text": [
      "(3, 4)\n"
     ]
    }
   ],
   "source": [
    "print_point(p1)"
   ]
  },
  {
   "cell_type": "code",
   "execution_count": 77,
   "metadata": {},
   "outputs": [
    {
     "name": "stdout",
     "output_type": "stream",
     "text": [
      "(3, 4)\n"
     ]
    }
   ],
   "source": [
    "print_point(p2)"
   ]
  },
  {
   "cell_type": "code",
   "execution_count": 78,
   "metadata": {},
   "outputs": [
    {
     "data": {
      "text/plain": [
       "False"
      ]
     },
     "execution_count": 78,
     "metadata": {},
     "output_type": "execute_result"
    }
   ],
   "source": [
    "p1 is p2"
   ]
  },
  {
   "cell_type": "code",
   "execution_count": 79,
   "metadata": {},
   "outputs": [
    {
     "data": {
      "text/plain": [
       "False"
      ]
     },
     "execution_count": 79,
     "metadata": {},
     "output_type": "execute_result"
    }
   ],
   "source": [
    "p1 == p2"
   ]
  },
  {
   "cell_type": "code",
   "execution_count": 80,
   "metadata": {},
   "outputs": [],
   "source": [
    "box2 = copy.copy(box)"
   ]
  },
  {
   "cell_type": "code",
   "execution_count": 81,
   "metadata": {},
   "outputs": [
    {
     "data": {
      "text/plain": [
       "False"
      ]
     },
     "execution_count": 81,
     "metadata": {},
     "output_type": "execute_result"
    }
   ],
   "source": [
    "box2 is box"
   ]
  },
  {
   "cell_type": "code",
   "execution_count": 82,
   "metadata": {},
   "outputs": [
    {
     "data": {
      "text/plain": [
       "True"
      ]
     },
     "execution_count": 82,
     "metadata": {},
     "output_type": "execute_result"
    }
   ],
   "source": [
    "box2.corner is box.corner"
   ]
  },
  {
   "cell_type": "code",
   "execution_count": 83,
   "metadata": {},
   "outputs": [],
   "source": [
    "box3 = copy.deepcopy(box)"
   ]
  },
  {
   "cell_type": "code",
   "execution_count": 84,
   "metadata": {},
   "outputs": [
    {
     "data": {
      "text/plain": [
       "False"
      ]
     },
     "execution_count": 84,
     "metadata": {},
     "output_type": "execute_result"
    }
   ],
   "source": [
    "box3 is box"
   ]
  },
  {
   "cell_type": "code",
   "execution_count": 85,
   "metadata": {},
   "outputs": [
    {
     "data": {
      "text/plain": [
       "False"
      ]
     },
     "execution_count": 85,
     "metadata": {},
     "output_type": "execute_result"
    }
   ],
   "source": [
    "box3.corner is box.corner"
   ]
  },
  {
   "cell_type": "code",
   "execution_count": 86,
   "metadata": {},
   "outputs": [],
   "source": [
    "p = Point()"
   ]
  },
  {
   "cell_type": "code",
   "execution_count": 87,
   "metadata": {},
   "outputs": [
    {
     "ename": "AttributeError",
     "evalue": "'Point' object has no attribute 'z'",
     "output_type": "error",
     "traceback": [
      "\u001b[1;31m---------------------------------------------------------------------------\u001b[0m",
      "\u001b[1;31mAttributeError\u001b[0m                            Traceback (most recent call last)",
      "\u001b[1;32m<ipython-input-87-e061e2efa16d>\u001b[0m in \u001b[0;36m<module>\u001b[1;34m\u001b[0m\n\u001b[0;32m      1\u001b[0m \u001b[0mp\u001b[0m\u001b[1;33m.\u001b[0m\u001b[0mx\u001b[0m \u001b[1;33m=\u001b[0m \u001b[1;36m3\u001b[0m\u001b[1;33m\u001b[0m\u001b[1;33m\u001b[0m\u001b[0m\n\u001b[0;32m      2\u001b[0m \u001b[0mp\u001b[0m\u001b[1;33m.\u001b[0m\u001b[0my\u001b[0m \u001b[1;33m=\u001b[0m \u001b[1;36m4\u001b[0m\u001b[1;33m\u001b[0m\u001b[1;33m\u001b[0m\u001b[0m\n\u001b[1;32m----> 3\u001b[1;33m \u001b[0mp\u001b[0m\u001b[1;33m.\u001b[0m\u001b[0mz\u001b[0m\u001b[1;33m\u001b[0m\u001b[1;33m\u001b[0m\u001b[0m\n\u001b[0m",
      "\u001b[1;31mAttributeError\u001b[0m: 'Point' object has no attribute 'z'"
     ]
    }
   ],
   "source": [
    "p.x = 3\n",
    "p.y = 4\n",
    "p.z"
   ]
  },
  {
   "cell_type": "code",
   "execution_count": 88,
   "metadata": {},
   "outputs": [
    {
     "ename": "SyntaxError",
     "evalue": "invalid syntax (<ipython-input-88-2026a0cf8f39>, line 2)",
     "output_type": "error",
     "traceback": [
      "\u001b[1;36m  File \u001b[1;32m\"<ipython-input-88-2026a0cf8f39>\"\u001b[1;36m, line \u001b[1;32m2\u001b[0m\n\u001b[1;33m    <class '__main__.Point'>\u001b[0m\n\u001b[1;37m    ^\u001b[0m\n\u001b[1;31mSyntaxError\u001b[0m\u001b[1;31m:\u001b[0m invalid syntax\n"
     ]
    }
   ],
   "source": [
    "type(p)\n",
    "<class '__main__.Point'>"
   ]
  },
  {
   "cell_type": "code",
   "execution_count": 89,
   "metadata": {},
   "outputs": [
    {
     "data": {
      "text/plain": [
       "True"
      ]
     },
     "execution_count": 89,
     "metadata": {},
     "output_type": "execute_result"
    }
   ],
   "source": [
    "isinstance(p, Point)"
   ]
  },
  {
   "cell_type": "code",
   "execution_count": 90,
   "metadata": {},
   "outputs": [
    {
     "data": {
      "text/plain": [
       "True"
      ]
     },
     "execution_count": 90,
     "metadata": {},
     "output_type": "execute_result"
    }
   ],
   "source": [
    "hasattr(p, 'x')"
   ]
  },
  {
   "cell_type": "code",
   "execution_count": 91,
   "metadata": {},
   "outputs": [
    {
     "data": {
      "text/plain": [
       "False"
      ]
     },
     "execution_count": 91,
     "metadata": {},
     "output_type": "execute_result"
    }
   ],
   "source": [
    "hasattr(p, 'z')"
   ]
  },
  {
   "cell_type": "code",
   "execution_count": 92,
   "metadata": {},
   "outputs": [],
   "source": [
    "try:\n",
    "    x = p.x\n",
    "except AttributeError:\n",
    "    x = 0"
   ]
  },
  {
   "cell_type": "markdown",
   "metadata": {},
   "source": [
    "chapter 16"
   ]
  },
  {
   "cell_type": "code",
   "execution_count": 93,
   "metadata": {},
   "outputs": [],
   "source": [
    "class Time:\n",
    "    \"\"\"Represents the time of day.\n",
    "\n",
    "    attributes: hour, minute, second\n",
    "    \"\"\""
   ]
  },
  {
   "cell_type": "code",
   "execution_count": 95,
   "metadata": {},
   "outputs": [],
   "source": [
    "time = Time()\n",
    "time.hour = 11\n",
    "time.minute = 59\n",
    "time.second = 30"
   ]
  },
  {
   "cell_type": "code",
   "execution_count": 96,
   "metadata": {},
   "outputs": [],
   "source": [
    "def add_time(t1, t2):\n",
    "    sum = Time()\n",
    "    sum.hour = t1.hour + t2.hour\n",
    "    sum.minute = t1.minute + t2.minute\n",
    "    sum.second = t1.second + t2.second\n",
    "    return sum"
   ]
  },
  {
   "cell_type": "code",
   "execution_count": 98,
   "metadata": {},
   "outputs": [],
   "source": [
    "start = Time()\n",
    "start.hour = 9\n",
    "start.minute = 45\n",
    "start.second =  0"
   ]
  },
  {
   "cell_type": "code",
   "execution_count": 101,
   "metadata": {},
   "outputs": [],
   "source": [
    "duration = Time()\n",
    "duration.hour = 1\n",
    "duration.minute = 35\n",
    "duration.second = 0"
   ]
  },
  {
   "cell_type": "code",
   "execution_count": 102,
   "metadata": {},
   "outputs": [],
   "source": [
    "def print_time(t):\n",
    "    \"\"\"Prints a string representation of the time.\n",
    "\n",
    "    t: Time object\n",
    "    \"\"\"\n",
    "    print('%.2d:%.2d:%.2d' % (t.hour, t.minute, t.second))"
   ]
  },
  {
   "cell_type": "code",
   "execution_count": 103,
   "metadata": {},
   "outputs": [
    {
     "name": "stdout",
     "output_type": "stream",
     "text": [
      "10:80:00\n"
     ]
    }
   ],
   "source": [
    "done = add_time(start, duration)\n",
    "print_time(done)"
   ]
  },
  {
   "cell_type": "code",
   "execution_count": 104,
   "metadata": {},
   "outputs": [],
   "source": [
    "def add_time(t1, t2):\n",
    "    sum = Time()\n",
    "    sum.hour = t1.hour + t2.hour\n",
    "    sum.minute = t1.minute + t2.minute\n",
    "    sum.second = t1.second + t2.second\n",
    "\n",
    "    if sum.second >= 60:\n",
    "        sum.second -= 60\n",
    "        sum.minute += 1\n",
    "\n",
    "    if sum.minute >= 60:\n",
    "        sum.minute -= 60\n",
    "        sum.hour += 1\n",
    "\n",
    "    return sum"
   ]
  },
  {
   "cell_type": "code",
   "execution_count": 105,
   "metadata": {},
   "outputs": [],
   "source": [
    "def increment(time, seconds):\n",
    "    time.second += seconds\n",
    "\n",
    "    if time.second >= 60:\n",
    "        time.second -= 60\n",
    "        time.minute += 1\n",
    "\n",
    "    if time.minute >= 60:\n",
    "        time.minute -= 60\n",
    "        time.hour += 1"
   ]
  },
  {
   "cell_type": "code",
   "execution_count": 106,
   "metadata": {},
   "outputs": [],
   "source": [
    "def time_to_int(time):\n",
    "    minutes = time.hour * 60 + time.minute\n",
    "    seconds = minutes * 60 + time.second\n",
    "    return seconds"
   ]
  },
  {
   "cell_type": "code",
   "execution_count": 107,
   "metadata": {},
   "outputs": [],
   "source": [
    "def int_to_time(seconds):\n",
    "    time = Time()\n",
    "    minutes, time.second = divmod(seconds, 60)\n",
    "    time.hour, time.minute = divmod(minutes, 60)\n",
    "    return time"
   ]
  },
  {
   "cell_type": "code",
   "execution_count": 108,
   "metadata": {},
   "outputs": [],
   "source": [
    "def add_time(t1, t2):\n",
    "    seconds = time_to_int(t1) + time_to_int(t2)\n",
    "    return int_to_time(seconds)"
   ]
  },
  {
   "cell_type": "code",
   "execution_count": 109,
   "metadata": {},
   "outputs": [],
   "source": [
    "def valid_time(time):\n",
    "    if time.hour < 0 or time.minute < 0 or time.second < 0:\n",
    "        return False\n",
    "    if time.minute >= 60 or time.second >= 60:\n",
    "        return False\n",
    "    return True"
   ]
  },
  {
   "cell_type": "code",
   "execution_count": 110,
   "metadata": {},
   "outputs": [],
   "source": [
    "def add_time(t1, t2):\n",
    "    if not valid_time(t1) or not valid_time(t2):\n",
    "        raise ValueError('invalid Time object in add_time')\n",
    "    seconds = time_to_int(t1) + time_to_int(t2)\n",
    "    return int_to_time(seconds)#检查参数是否合法"
   ]
  },
  {
   "cell_type": "code",
   "execution_count": 111,
   "metadata": {},
   "outputs": [],
   "source": [
    "def add_time(t1, t2):\n",
    "    assert valid_time(t1) and valid_time(t2)\n",
    "    seconds = time_to_int(t1) + time_to_int(t2)\n",
    "    return int_to_time(seconds)"
   ]
  },
  {
   "cell_type": "markdown",
   "metadata": {},
   "source": [
    "chapter 17"
   ]
  },
  {
   "cell_type": "code",
   "execution_count": 112,
   "metadata": {},
   "outputs": [],
   "source": [
    "class Time:\n",
    "    \"\"\"Represents the time of day.\"\"\"\n",
    "\n",
    "def print_time(time):\n",
    "    print('%.2d:%.2d:%.2d' % (time.hour, time.minute, time.second))"
   ]
  },
  {
   "cell_type": "code",
   "execution_count": 113,
   "metadata": {},
   "outputs": [
    {
     "name": "stdout",
     "output_type": "stream",
     "text": [
      "09:45:00\n"
     ]
    }
   ],
   "source": [
    "start = Time()\n",
    "start.hour = 9\n",
    "start.minute = 45\n",
    "start.second = 00\n",
    "print_time(start)\n"
   ]
  },
  {
   "cell_type": "code",
   "execution_count": 114,
   "metadata": {},
   "outputs": [],
   "source": [
    "class Time:\n",
    "    def print_time(time):\n",
    "        print('%.2d:%.2d:%.2d' % (time.hour, time.minute, time.second))"
   ]
  },
  {
   "cell_type": "code",
   "execution_count": 115,
   "metadata": {},
   "outputs": [
    {
     "name": "stdout",
     "output_type": "stream",
     "text": [
      "09:45:00\n"
     ]
    }
   ],
   "source": [
    "Time.print_time(start)"
   ]
  },
  {
   "cell_type": "code",
   "execution_count": 119,
   "metadata": {},
   "outputs": [
    {
     "ename": "AttributeError",
     "evalue": "'Time' object has no attribute 'print_time'",
     "output_type": "error",
     "traceback": [
      "\u001b[1;31m---------------------------------------------------------------------------\u001b[0m",
      "\u001b[1;31mAttributeError\u001b[0m                            Traceback (most recent call last)",
      "\u001b[1;32m<ipython-input-119-a4400bef56fe>\u001b[0m in \u001b[0;36m<module>\u001b[1;34m\u001b[0m\n\u001b[1;32m----> 1\u001b[1;33m \u001b[0mstart\u001b[0m\u001b[1;33m.\u001b[0m\u001b[0mprint_time\u001b[0m\u001b[1;33m(\u001b[0m\u001b[1;33m)\u001b[0m\u001b[1;33m\u001b[0m\u001b[1;33m\u001b[0m\u001b[0m\n\u001b[0m",
      "\u001b[1;31mAttributeError\u001b[0m: 'Time' object has no attribute 'print_time'"
     ]
    }
   ],
   "source": [
    "start.print_time()"
   ]
  },
  {
   "cell_type": "code",
   "execution_count": 117,
   "metadata": {},
   "outputs": [],
   "source": [
    "class Time:\n",
    "    def print_time(self):\n",
    "        print('%.2d:%.2d:%.2d' % (self.hour, self.minute, self.second))"
   ]
  },
  {
   "cell_type": "code",
   "execution_count": 121,
   "metadata": {},
   "outputs": [],
   "source": [
    "# inside class Time:\n",
    "\n",
    "def increment(self, seconds):\n",
    "    seconds += self.time_to_int()\n",
    "    return int_to_time(seconds)"
   ]
  },
  {
   "cell_type": "code",
   "execution_count": 122,
   "metadata": {},
   "outputs": [
    {
     "ename": "AttributeError",
     "evalue": "'Time' object has no attribute 'print_time'",
     "output_type": "error",
     "traceback": [
      "\u001b[1;31m---------------------------------------------------------------------------\u001b[0m",
      "\u001b[1;31mAttributeError\u001b[0m                            Traceback (most recent call last)",
      "\u001b[1;32m<ipython-input-122-79c78fcbcb6c>\u001b[0m in \u001b[0;36m<module>\u001b[1;34m\u001b[0m\n\u001b[1;32m----> 1\u001b[1;33m \u001b[0mstart\u001b[0m\u001b[1;33m.\u001b[0m\u001b[0mprint_time\u001b[0m\u001b[1;33m(\u001b[0m\u001b[1;33m)\u001b[0m\u001b[1;33m\u001b[0m\u001b[1;33m\u001b[0m\u001b[0m\n\u001b[0m\u001b[0;32m      2\u001b[0m \u001b[0mend\u001b[0m \u001b[1;33m=\u001b[0m \u001b[0mstart\u001b[0m\u001b[1;33m.\u001b[0m\u001b[0mincrement\u001b[0m\u001b[1;33m(\u001b[0m\u001b[1;36m1337\u001b[0m\u001b[1;33m)\u001b[0m\u001b[1;33m\u001b[0m\u001b[1;33m\u001b[0m\u001b[0m\n\u001b[0;32m      3\u001b[0m \u001b[0mend\u001b[0m\u001b[1;33m.\u001b[0m\u001b[0mprint_time\u001b[0m\u001b[1;33m(\u001b[0m\u001b[1;33m)\u001b[0m\u001b[1;33m\u001b[0m\u001b[1;33m\u001b[0m\u001b[0m\n",
      "\u001b[1;31mAttributeError\u001b[0m: 'Time' object has no attribute 'print_time'"
     ]
    }
   ],
   "source": [
    "start.print_time()\n",
    "end = start.increment(1337)\n",
    "end.print_time()"
   ]
  },
  {
   "cell_type": "code",
   "execution_count": 123,
   "metadata": {},
   "outputs": [
    {
     "ename": "AttributeError",
     "evalue": "'Time' object has no attribute 'increment'",
     "output_type": "error",
     "traceback": [
      "\u001b[1;31m---------------------------------------------------------------------------\u001b[0m",
      "\u001b[1;31mAttributeError\u001b[0m                            Traceback (most recent call last)",
      "\u001b[1;32m<ipython-input-123-a8fd8b8bdfbc>\u001b[0m in \u001b[0;36m<module>\u001b[1;34m\u001b[0m\n\u001b[1;32m----> 1\u001b[1;33m \u001b[0mend\u001b[0m \u001b[1;33m=\u001b[0m \u001b[0mstart\u001b[0m\u001b[1;33m.\u001b[0m\u001b[0mincrement\u001b[0m\u001b[1;33m(\u001b[0m\u001b[1;36m1337\u001b[0m\u001b[1;33m,\u001b[0m \u001b[1;36m460\u001b[0m\u001b[1;33m)\u001b[0m\u001b[1;33m\u001b[0m\u001b[1;33m\u001b[0m\u001b[0m\n\u001b[0m",
      "\u001b[1;31mAttributeError\u001b[0m: 'Time' object has no attribute 'increment'"
     ]
    }
   ],
   "source": [
    " end = start.increment(1337, 460)"
   ]
  },
  {
   "cell_type": "code",
   "execution_count": 130,
   "metadata": {},
   "outputs": [],
   "source": [
    "class Time:\n",
    "    \"\"\"Represents the time of day.\n",
    "\n",
    "    attributes: hour, minute, second\n",
    "    \"\"\"\n",
    "    \n",
    "# inside class Time:\n",
    "\n",
    "def __init__(self, hour=0, minute=0, second=0):\n",
    "    self.hour = hour\n",
    "    self.minute = minute\n",
    "    self.second = second"
   ]
  },
  {
   "cell_type": "code",
   "execution_count": 132,
   "metadata": {},
   "outputs": [
    {
     "ename": "NameError",
     "evalue": "name 'hour' is not defined",
     "output_type": "error",
     "traceback": [
      "\u001b[1;31m---------------------------------------------------------------------------\u001b[0m",
      "\u001b[1;31mNameError\u001b[0m                                 Traceback (most recent call last)",
      "\u001b[1;32m<ipython-input-132-3b291b8e0b20>\u001b[0m in \u001b[0;36m<module>\u001b[1;34m\u001b[0m\n\u001b[1;32m----> 1\u001b[1;33m \u001b[0mself\u001b[0m\u001b[1;33m.\u001b[0m\u001b[0mhour\u001b[0m \u001b[1;33m=\u001b[0m \u001b[0mhour\u001b[0m\u001b[1;33m\u001b[0m\u001b[1;33m\u001b[0m\u001b[0m\n\u001b[0m",
      "\u001b[1;31mNameError\u001b[0m: name 'hour' is not defined"
     ]
    }
   ],
   "source": [
    "self.hour = hour"
   ]
  },
  {
   "cell_type": "code",
   "execution_count": 128,
   "metadata": {},
   "outputs": [],
   "source": [
    "class Time:\n",
    "    \"\"\"Represents the time of day.\n",
    "\n",
    "    attributes: hour, minute, second\n",
    "    \"\"\"# inside class Time:\n",
    "\n",
    "    def __str__(self):\n",
    "        return '%.2d:%.2d:%.2d' % (self.hour, self.minute, self.second)"
   ]
  },
  {
   "cell_type": "code",
   "execution_count": 133,
   "metadata": {},
   "outputs": [
    {
     "ename": "TypeError",
     "evalue": "Time() takes no arguments",
     "output_type": "error",
     "traceback": [
      "\u001b[1;31m---------------------------------------------------------------------------\u001b[0m",
      "\u001b[1;31mTypeError\u001b[0m                                 Traceback (most recent call last)",
      "\u001b[1;32m<ipython-input-133-3b453a739910>\u001b[0m in \u001b[0;36m<module>\u001b[1;34m\u001b[0m\n\u001b[1;32m----> 1\u001b[1;33m \u001b[0mtime\u001b[0m \u001b[1;33m=\u001b[0m \u001b[0mTime\u001b[0m\u001b[1;33m(\u001b[0m\u001b[1;36m9\u001b[0m\u001b[1;33m,\u001b[0m \u001b[1;36m45\u001b[0m\u001b[1;33m)\u001b[0m\u001b[1;33m\u001b[0m\u001b[1;33m\u001b[0m\u001b[0m\n\u001b[0m\u001b[0;32m      2\u001b[0m \u001b[0mprint\u001b[0m\u001b[1;33m(\u001b[0m\u001b[0mtime\u001b[0m\u001b[1;33m)\u001b[0m\u001b[1;33m\u001b[0m\u001b[1;33m\u001b[0m\u001b[0m\n",
      "\u001b[1;31mTypeError\u001b[0m: Time() takes no arguments"
     ]
    }
   ],
   "source": [
    "time = Time(9, 45)\n",
    "print(time)"
   ]
  },
  {
   "cell_type": "code",
   "execution_count": 136,
   "metadata": {},
   "outputs": [],
   "source": [
    "    def __add__(self, other):\n",
    "        seconds = self.time_to_int() + other.time_to_int()\n",
    "        return int_to_time(seconds)"
   ]
  },
  {
   "cell_type": "code",
   "execution_count": 137,
   "metadata": {},
   "outputs": [],
   "source": [
    "time = Time()\n",
    "time.hour = 11\n",
    "time.minute = 59\n",
    "time.second = 30"
   ]
  },
  {
   "cell_type": "code",
   "execution_count": 138,
   "metadata": {},
   "outputs": [
    {
     "ename": "TypeError",
     "evalue": "Time() takes no arguments",
     "output_type": "error",
     "traceback": [
      "\u001b[1;31m---------------------------------------------------------------------------\u001b[0m",
      "\u001b[1;31mTypeError\u001b[0m                                 Traceback (most recent call last)",
      "\u001b[1;32m<ipython-input-138-14edadfae50f>\u001b[0m in \u001b[0;36m<module>\u001b[1;34m\u001b[0m\n\u001b[1;32m----> 1\u001b[1;33m \u001b[0mstart\u001b[0m \u001b[1;33m=\u001b[0m \u001b[0mTime\u001b[0m\u001b[1;33m(\u001b[0m\u001b[1;36m9\u001b[0m\u001b[1;33m,\u001b[0m \u001b[1;36m45\u001b[0m\u001b[1;33m)\u001b[0m\u001b[1;33m\u001b[0m\u001b[1;33m\u001b[0m\u001b[0m\n\u001b[0m",
      "\u001b[1;31mTypeError\u001b[0m: Time() takes no arguments"
     ]
    }
   ],
   "source": [
    "start = Time(9, 45)"
   ]
  },
  {
   "cell_type": "code",
   "execution_count": 139,
   "metadata": {},
   "outputs": [],
   "source": [
    "    def __add__(self, other):\n",
    "        if isinstance(other, Time):\n",
    "            return self.add_time(other)\n",
    "        else:\n",
    "            return self.increment(other)\n",
    "\n",
    "    def add_time(self, other):\n",
    "        seconds = self.time_to_int() + other.time_to_int()\n",
    "        return int_to_time(seconds)\n",
    "\n",
    "    def increment(self, seconds):\n",
    "        seconds += self.time_to_int()\n",
    "        return int_to_time(seconds)"
   ]
  },
  {
   "cell_type": "code",
   "execution_count": 140,
   "metadata": {},
   "outputs": [
    {
     "ename": "TypeError",
     "evalue": "Time() takes no arguments",
     "output_type": "error",
     "traceback": [
      "\u001b[1;31m---------------------------------------------------------------------------\u001b[0m",
      "\u001b[1;31mTypeError\u001b[0m                                 Traceback (most recent call last)",
      "\u001b[1;32m<ipython-input-140-14edadfae50f>\u001b[0m in \u001b[0;36m<module>\u001b[1;34m\u001b[0m\n\u001b[1;32m----> 1\u001b[1;33m \u001b[0mstart\u001b[0m \u001b[1;33m=\u001b[0m \u001b[0mTime\u001b[0m\u001b[1;33m(\u001b[0m\u001b[1;36m9\u001b[0m\u001b[1;33m,\u001b[0m \u001b[1;36m45\u001b[0m\u001b[1;33m)\u001b[0m\u001b[1;33m\u001b[0m\u001b[1;33m\u001b[0m\u001b[0m\n\u001b[0m",
      "\u001b[1;31mTypeError\u001b[0m: Time() takes no arguments"
     ]
    }
   ],
   "source": [
    "start = Time(9, 45)"
   ]
  },
  {
   "cell_type": "code",
   "execution_count": 141,
   "metadata": {},
   "outputs": [],
   "source": [
    "def histogram(s):\n",
    "    d = dict()\n",
    "    for c in s:\n",
    "        if c not in d:\n",
    "            d[c] = 1\n",
    "        else:\n",
    "            d[c] = d[c]+1\n",
    "    return d"
   ]
  },
  {
   "cell_type": "code",
   "execution_count": 142,
   "metadata": {},
   "outputs": [
    {
     "data": {
      "text/plain": [
       "{'spam': 4, 'egg': 1, 'bacon': 1}"
      ]
     },
     "execution_count": 142,
     "metadata": {},
     "output_type": "execute_result"
    }
   ],
   "source": [
    "t = ['spam', 'egg', 'spam', 'spam', 'bacon', 'spam']\n",
    "histogram(t)"
   ]
  },
  {
   "cell_type": "code",
   "execution_count": 145,
   "metadata": {},
   "outputs": [
    {
     "ename": "TypeError",
     "evalue": "Time() takes no arguments",
     "output_type": "error",
     "traceback": [
      "\u001b[1;31m---------------------------------------------------------------------------\u001b[0m",
      "\u001b[1;31mTypeError\u001b[0m                                 Traceback (most recent call last)",
      "\u001b[1;32m<ipython-input-145-c2abd3d4897d>\u001b[0m in \u001b[0;36m<module>\u001b[1;34m\u001b[0m\n\u001b[0;32m      2\u001b[0m     \u001b[1;32mdef\u001b[0m \u001b[0mprint_time\u001b[0m\u001b[1;33m(\u001b[0m\u001b[0mself\u001b[0m\u001b[1;33m)\u001b[0m\u001b[1;33m:\u001b[0m\u001b[1;33m\u001b[0m\u001b[1;33m\u001b[0m\u001b[0m\n\u001b[0;32m      3\u001b[0m         \u001b[0mprint\u001b[0m\u001b[1;33m(\u001b[0m\u001b[1;34m'%.2d:%.2d:%.2d'\u001b[0m \u001b[1;33m%\u001b[0m \u001b[1;33m(\u001b[0m\u001b[0mself\u001b[0m\u001b[1;33m.\u001b[0m\u001b[0mhour\u001b[0m\u001b[1;33m,\u001b[0m \u001b[0mself\u001b[0m\u001b[1;33m.\u001b[0m\u001b[0mminute\u001b[0m\u001b[1;33m,\u001b[0m \u001b[0mself\u001b[0m\u001b[1;33m.\u001b[0m\u001b[0msecond\u001b[0m\u001b[1;33m)\u001b[0m\u001b[1;33m)\u001b[0m\u001b[1;33m\u001b[0m\u001b[1;33m\u001b[0m\u001b[0m\n\u001b[1;32m----> 4\u001b[1;33m \u001b[0mt1\u001b[0m \u001b[1;33m=\u001b[0m \u001b[0mTime\u001b[0m\u001b[1;33m(\u001b[0m\u001b[1;36m7\u001b[0m\u001b[1;33m,\u001b[0m \u001b[1;36m43\u001b[0m\u001b[1;33m)\u001b[0m\u001b[1;33m\u001b[0m\u001b[1;33m\u001b[0m\u001b[0m\n\u001b[0m",
      "\u001b[1;31mTypeError\u001b[0m: Time() takes no arguments"
     ]
    }
   ],
   "source": [
    "class Time:\n",
    "    def print_time(self):\n",
    "        print('%.2d:%.2d:%.2d' % (self.hour, self.minute, self.second))\n",
    "t1 = Time(7, 43)"
   ]
  },
  {
   "cell_type": "code",
   "execution_count": 146,
   "metadata": {},
   "outputs": [
    {
     "ename": "TypeError",
     "evalue": "Time() takes no arguments",
     "output_type": "error",
     "traceback": [
      "\u001b[1;31m---------------------------------------------------------------------------\u001b[0m",
      "\u001b[1;31mTypeError\u001b[0m                                 Traceback (most recent call last)",
      "\u001b[1;32m<ipython-input-146-a307d5ca91b6>\u001b[0m in \u001b[0;36m<module>\u001b[1;34m\u001b[0m\n\u001b[0;32m      9\u001b[0m         \u001b[0mtime\u001b[0m\u001b[1;33m.\u001b[0m\u001b[0mminute\u001b[0m \u001b[1;33m-=\u001b[0m \u001b[1;36m60\u001b[0m\u001b[1;33m\u001b[0m\u001b[1;33m\u001b[0m\u001b[0m\n\u001b[0;32m     10\u001b[0m         \u001b[0mtime\u001b[0m\u001b[1;33m.\u001b[0m\u001b[0mhour\u001b[0m \u001b[1;33m+=\u001b[0m \u001b[1;36m1\u001b[0m\u001b[1;33m\u001b[0m\u001b[1;33m\u001b[0m\u001b[0m\n\u001b[1;32m---> 11\u001b[1;33m \u001b[0mt1\u001b[0m \u001b[1;33m=\u001b[0m \u001b[0mTime\u001b[0m\u001b[1;33m(\u001b[0m\u001b[1;36m7\u001b[0m\u001b[1;33m,\u001b[0m \u001b[1;36m43\u001b[0m\u001b[1;33m)\u001b[0m\u001b[1;33m\u001b[0m\u001b[1;33m\u001b[0m\u001b[0m\n\u001b[0m",
      "\u001b[1;31mTypeError\u001b[0m: Time() takes no arguments"
     ]
    }
   ],
   "source": [
    "def increment(time, seconds):\n",
    "    time.second += seconds\n",
    "\n",
    "    if time.second >= 60:\n",
    "        time.second -= 60\n",
    "        time.minute += 1\n",
    "\n",
    "    if time.minute >= 60:\n",
    "        time.minute -= 60\n",
    "        time.hour += 1\n",
    "t1 = Time(7, 43)"
   ]
  },
  {
   "cell_type": "code",
   "execution_count": 151,
   "metadata": {},
   "outputs": [
    {
     "ename": "TypeError",
     "evalue": "Point() takes no arguments",
     "output_type": "error",
     "traceback": [
      "\u001b[1;31m---------------------------------------------------------------------------\u001b[0m",
      "\u001b[1;31mTypeError\u001b[0m                                 Traceback (most recent call last)",
      "\u001b[1;32m<ipython-input-151-7ce037fe52a1>\u001b[0m in \u001b[0;36m<module>\u001b[1;34m\u001b[0m\n\u001b[1;32m----> 1\u001b[1;33m \u001b[0mp\u001b[0m \u001b[1;33m=\u001b[0m \u001b[0mPoint\u001b[0m\u001b[1;33m(\u001b[0m\u001b[1;36m3\u001b[0m\u001b[1;33m,\u001b[0m \u001b[1;36m4\u001b[0m\u001b[1;33m)\u001b[0m\u001b[1;33m\u001b[0m\u001b[1;33m\u001b[0m\u001b[0m\n\u001b[0m\u001b[0;32m      2\u001b[0m \u001b[0mvars\u001b[0m\u001b[1;33m(\u001b[0m\u001b[0mp\u001b[0m\u001b[1;33m)\u001b[0m\u001b[1;33m\u001b[0m\u001b[1;33m\u001b[0m\u001b[0m\n",
      "\u001b[1;31mTypeError\u001b[0m: Point() takes no arguments"
     ]
    }
   ],
   "source": [
    "p = Point(3, 4)\n",
    "vars(p)\n"
   ]
  },
  {
   "cell_type": "code",
   "execution_count": 152,
   "metadata": {},
   "outputs": [],
   "source": [
    "def print_attributes(obj):\n",
    "    for attr in vars(obj):\n",
    "        print(attr, getattr(obj, attr))"
   ]
  },
  {
   "cell_type": "markdown",
   "metadata": {},
   "source": [
    "chapter 18"
   ]
  },
  {
   "cell_type": "code",
   "execution_count": 7,
   "metadata": {},
   "outputs": [],
   "source": [
    "class Card:\n",
    "    \"\"\"Represents a standard playing card.\"\"\"\n",
    "    def __init__(self, suit=0, rank=2):\n",
    "        self.suit = suit\n",
    "        self.rank = rank"
   ]
  },
  {
   "cell_type": "code",
   "execution_count": 8,
   "metadata": {},
   "outputs": [],
   "source": [
    "queen_of_diamonds = Card(1, 12)"
   ]
  },
  {
   "cell_type": "code",
   "execution_count": 11,
   "metadata": {},
   "outputs": [],
   "source": [
    "#inside class Card:\n",
    "suit_names = ['Clubs', 'Diamonds', 'Hearts', 'Spades']\n",
    "rank_names = [None, 'Ace', '2', '3', '4', '5', '6', '7',\n",
    "'8', '9', '10', 'Jack', 'Queen', 'King']\n"
   ]
  },
  {
   "cell_type": "code",
   "execution_count": 12,
   "metadata": {},
   "outputs": [],
   "source": [
    "def __str__(self):\n",
    "    return '%s of %s' % (Card.rank_names[self.rank],\n",
    "                         Card.suit_names[self.suit])\n"
   ]
  },
  {
   "cell_type": "code",
   "execution_count": 14,
   "metadata": {},
   "outputs": [
    {
     "name": "stdout",
     "output_type": "stream",
     "text": [
      "<__main__.Card object at 0x000001609EEC3CC0>\n"
     ]
    }
   ],
   "source": [
    "card1 = Card(2, 11)\n",
    "print(card1)"
   ]
  },
  {
   "cell_type": "code",
   "execution_count": 16,
   "metadata": {},
   "outputs": [],
   "source": [
    "def __lt__(self, other):\n",
    "# check the suits\n",
    "    if self.suit < other.suit: return True\n",
    "    if self.suit > other.suit: return False\n",
    "# suits are the same... check ranks\n",
    "    return self.rank < other.rank\n"
   ]
  },
  {
   "cell_type": "code",
   "execution_count": 17,
   "metadata": {},
   "outputs": [],
   "source": [
    "def __lt__(self, other):\n",
    "    t1 = self.suit, self.rank\n",
    "    t2 = other.suit, other.rank\n",
    "    return t1 < t2\n"
   ]
  },
  {
   "cell_type": "code",
   "execution_count": 18,
   "metadata": {},
   "outputs": [],
   "source": [
    "class Deck:\n",
    "    \"\"\"Represents a deck of cards.\n",
    "\n",
    "    Attributes:\n",
    "      cards: list of Card objects.\n",
    "    \"\"\"\n",
    "    \n",
    "    def __init__(self):\n",
    "        \"\"\"Initializes the Deck with 52 cards.\n",
    "        \"\"\"\n",
    "        self.cards = []\n",
    "        for suit in range(4):\n",
    "            for rank in range(1, 14):\n",
    "                card = Card(suit, rank)\n",
    "                self.cards.append(card)"
   ]
  },
  {
   "cell_type": "code",
   "execution_count": 31,
   "metadata": {},
   "outputs": [],
   "source": [
    "def __str__(self):\n",
    "    \"\"\"Returns a string representation of the deck.\"\"\"\n",
    "    res = []\n",
    "    for card in self.cards:\n",
    "        res.append(str(card))\n",
    "    return '\\n'.join(res)\n"
   ]
  },
  {
   "cell_type": "code",
   "execution_count": 33,
   "metadata": {},
   "outputs": [
    {
     "name": "stdout",
     "output_type": "stream",
     "text": [
      "<__main__.Deck object at 0x000001609EEE3898>\n"
     ]
    }
   ],
   "source": [
    "deck = Deck()\n",
    "print(deck)"
   ]
  },
  {
   "cell_type": "code",
   "execution_count": 34,
   "metadata": {},
   "outputs": [],
   "source": [
    "def pop_card(self):\n",
    "    return self.cards.pop()"
   ]
  },
  {
   "cell_type": "code",
   "execution_count": 35,
   "metadata": {},
   "outputs": [],
   "source": [
    "def add_card(self, card):\n",
    "    self.cards.append(card)"
   ]
  },
  {
   "cell_type": "code",
   "execution_count": 36,
   "metadata": {},
   "outputs": [],
   "source": [
    "def shuffle(self):\n",
    "    random.shuffle(self.cards)"
   ]
  },
  {
   "cell_type": "code",
   "execution_count": 40,
   "metadata": {},
   "outputs": [],
   "source": [
    "class Hand(Deck):\n",
    "    \"\"\"Represents a hand of playing cards.\"\"\""
   ]
  },
  {
   "cell_type": "code",
   "execution_count": 45,
   "metadata": {},
   "outputs": [],
   "source": [
    "def __init__(self, label=''):\n",
    "    self.cards = []\n",
    "    self.label = label"
   ]
  },
  {
   "cell_type": "code",
   "execution_count": 43,
   "metadata": {},
   "outputs": [
    {
     "ename": "TypeError",
     "evalue": "__init__() takes 1 positional argument but 2 were given",
     "output_type": "error",
     "traceback": [
      "\u001b[1;31m---------------------------------------------------------------------------\u001b[0m",
      "\u001b[1;31mTypeError\u001b[0m                                 Traceback (most recent call last)",
      "\u001b[1;32m<ipython-input-43-d7085c9dc260>\u001b[0m in \u001b[0;36m<module>\u001b[1;34m\u001b[0m\n\u001b[1;32m----> 1\u001b[1;33m \u001b[0mhand\u001b[0m \u001b[1;33m=\u001b[0m \u001b[0mHand\u001b[0m\u001b[1;33m(\u001b[0m\u001b[1;34m'new hand'\u001b[0m\u001b[1;33m)\u001b[0m\u001b[1;33m\u001b[0m\u001b[1;33m\u001b[0m\u001b[0m\n\u001b[0m\u001b[0;32m      2\u001b[0m \u001b[0mhand\u001b[0m\u001b[1;33m.\u001b[0m\u001b[0mcards\u001b[0m\u001b[1;33m\u001b[0m\u001b[1;33m\u001b[0m\u001b[0m\n",
      "\u001b[1;31mTypeError\u001b[0m: __init__() takes 1 positional argument but 2 were given"
     ]
    }
   ],
   "source": [
    "hand = Hand('new hand')\n",
    "hand.cards"
   ]
  },
  {
   "cell_type": "code",
   "execution_count": 44,
   "metadata": {},
   "outputs": [
    {
     "ename": "NameError",
     "evalue": "name 'hand' is not defined",
     "output_type": "error",
     "traceback": [
      "\u001b[1;31m---------------------------------------------------------------------------\u001b[0m",
      "\u001b[1;31mNameError\u001b[0m                                 Traceback (most recent call last)",
      "\u001b[1;32m<ipython-input-44-f9bbfd5278e4>\u001b[0m in \u001b[0;36m<module>\u001b[1;34m\u001b[0m\n\u001b[1;32m----> 1\u001b[1;33m \u001b[0mhand\u001b[0m\u001b[1;33m.\u001b[0m\u001b[0mlabel\u001b[0m\u001b[1;33m\u001b[0m\u001b[1;33m\u001b[0m\u001b[0m\n\u001b[0m",
      "\u001b[1;31mNameError\u001b[0m: name 'hand' is not defined"
     ]
    }
   ],
   "source": [
    "hand.label"
   ]
  },
  {
   "cell_type": "code",
   "execution_count": 47,
   "metadata": {},
   "outputs": [
    {
     "ename": "AttributeError",
     "evalue": "'Deck' object has no attribute 'pop_card'",
     "output_type": "error",
     "traceback": [
      "\u001b[1;31m---------------------------------------------------------------------------\u001b[0m",
      "\u001b[1;31mAttributeError\u001b[0m                            Traceback (most recent call last)",
      "\u001b[1;32m<ipython-input-47-371757843251>\u001b[0m in \u001b[0;36m<module>\u001b[1;34m\u001b[0m\n\u001b[0;32m      1\u001b[0m \u001b[0mdeck\u001b[0m \u001b[1;33m=\u001b[0m \u001b[0mDeck\u001b[0m\u001b[1;33m(\u001b[0m\u001b[1;33m)\u001b[0m\u001b[1;33m\u001b[0m\u001b[1;33m\u001b[0m\u001b[0m\n\u001b[1;32m----> 2\u001b[1;33m \u001b[0mcard\u001b[0m \u001b[1;33m=\u001b[0m \u001b[0mdeck\u001b[0m\u001b[1;33m.\u001b[0m\u001b[0mpop_card\u001b[0m\u001b[1;33m(\u001b[0m\u001b[1;33m)\u001b[0m\u001b[1;33m\u001b[0m\u001b[1;33m\u001b[0m\u001b[0m\n\u001b[0m\u001b[0;32m      3\u001b[0m \u001b[0mhand\u001b[0m\u001b[1;33m.\u001b[0m\u001b[0madd_card\u001b[0m\u001b[1;33m(\u001b[0m\u001b[0mcard\u001b[0m\u001b[1;33m)\u001b[0m\u001b[1;33m\u001b[0m\u001b[1;33m\u001b[0m\u001b[0m\n\u001b[0;32m      4\u001b[0m \u001b[0mprint\u001b[0m\u001b[1;33m(\u001b[0m\u001b[0mhand\u001b[0m\u001b[1;33m)\u001b[0m\u001b[1;33m\u001b[0m\u001b[1;33m\u001b[0m\u001b[0m\n",
      "\u001b[1;31mAttributeError\u001b[0m: 'Deck' object has no attribute 'pop_card'"
     ]
    }
   ],
   "source": [
    "deck = Deck()\n",
    "card = deck.pop_card()\n",
    "hand.add_card(card)\n",
    "print(hand)"
   ]
  },
  {
   "cell_type": "code",
   "execution_count": 48,
   "metadata": {},
   "outputs": [],
   "source": [
    "def move_cards(self, hand, num):\n",
    "    for i in range(num):\n",
    "        hand.add_card(self.pop_card())\n"
   ]
  },
  {
   "cell_type": "code",
   "execution_count": 49,
   "metadata": {},
   "outputs": [],
   "source": [
    "def find_defining_class(obj, meth_name):\n",
    "    for ty in type(obj).mro():\n",
    "        if meth_name in ty.__dict__:\n",
    "            return ty\n"
   ]
  },
  {
   "cell_type": "code",
   "execution_count": 53,
   "metadata": {},
   "outputs": [],
   "source": [
    "hand = Hand()\n",
    "find_defining_class(hand, 'shuffle')"
   ]
  },
  {
   "cell_type": "code",
   "execution_count": 55,
   "metadata": {},
   "outputs": [],
   "source": [
    "suffix_map = {}\n",
    "prefix = ()\n"
   ]
  },
  {
   "cell_type": "code",
   "execution_count": 56,
   "metadata": {},
   "outputs": [],
   "source": [
    "class Markov:\n",
    "    def __init__(self):\n",
    "        self.suffix_map = {}\n",
    "        self.prefix = ()"
   ]
  },
  {
   "cell_type": "code",
   "execution_count": 59,
   "metadata": {},
   "outputs": [
    {
     "ename": "NameError",
     "evalue": "name 'self' is not defined",
     "output_type": "error",
     "traceback": [
      "\u001b[1;31m---------------------------------------------------------------------------\u001b[0m",
      "\u001b[1;31mNameError\u001b[0m                                 Traceback (most recent call last)",
      "\u001b[1;32m<ipython-input-59-0c69cb2220a5>\u001b[0m in \u001b[0;36m<module>\u001b[1;34m\u001b[0m\n\u001b[0;32m      4\u001b[0m         \u001b[1;32mreturn\u001b[0m\u001b[1;33m\u001b[0m\u001b[1;33m\u001b[0m\u001b[0m\n\u001b[0;32m      5\u001b[0m \u001b[1;32mtry\u001b[0m\u001b[1;33m:\u001b[0m\u001b[1;33m\u001b[0m\u001b[1;33m\u001b[0m\u001b[0m\n\u001b[1;32m----> 6\u001b[1;33m     \u001b[0mself\u001b[0m\u001b[1;33m.\u001b[0m\u001b[0msuffix_map\u001b[0m\u001b[1;33m[\u001b[0m\u001b[0mself\u001b[0m\u001b[1;33m.\u001b[0m\u001b[0mprefix\u001b[0m\u001b[1;33m]\u001b[0m\u001b[1;33m.\u001b[0m\u001b[0mappend\u001b[0m\u001b[1;33m(\u001b[0m\u001b[0mword\u001b[0m\u001b[1;33m)\u001b[0m\u001b[1;33m\u001b[0m\u001b[1;33m\u001b[0m\u001b[0m\n\u001b[0m\u001b[0;32m      7\u001b[0m \u001b[1;32mexcept\u001b[0m \u001b[0mKeyError\u001b[0m\u001b[1;33m:\u001b[0m\u001b[1;33m\u001b[0m\u001b[1;33m\u001b[0m\u001b[0m\n\u001b[0;32m      8\u001b[0m     \u001b[1;31m# if there is no entry for this prefix, make one\u001b[0m\u001b[1;33m\u001b[0m\u001b[1;33m\u001b[0m\u001b[1;33m\u001b[0m\u001b[0m\n",
      "\u001b[1;31mNameError\u001b[0m: name 'self' is not defined"
     ]
    }
   ],
   "source": [
    "def process_word(self, word, order=2):\n",
    "    if len(self.prefix) < order:\n",
    "        self.prefix += (word,)\n",
    "        return\n",
    "try:\n",
    "    self.suffix_map[self.prefix].append(word)\n",
    "except KeyError:\n",
    "    # if there is no entry for this prefix, make one\n",
    "    self.suffix_map[self.prefix] = [word]\n",
    "    \n",
    "self.prefix = shift(self.prefix, word)"
   ]
  },
  {
   "cell_type": "code",
   "execution_count": null,
   "metadata": {},
   "outputs": [],
   "source": []
  }
 ],
 "metadata": {
  "kernelspec": {
   "display_name": "Python 3",
   "language": "python",
   "name": "python3"
  },
  "language_info": {
   "codemirror_mode": {
    "name": "ipython",
    "version": 3
   },
   "file_extension": ".py",
   "mimetype": "text/x-python",
   "name": "python",
   "nbconvert_exporter": "python",
   "pygments_lexer": "ipython3",
   "version": "3.7.1"
  }
 },
 "nbformat": 4,
 "nbformat_minor": 2
}
