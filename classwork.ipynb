{
  "nbformat": 4,
  "nbformat_minor": 0,
  "metadata": {
    "colab": {
      "name": "starter-code-calculate-present-salary-per-hour.ipynb",
      "version": "0.3.2",
      "provenance": [],
      "collapsed_sections": []
    },
    "kernelspec": {
      "name": "python3",
      "display_name": "Python 3"
    }
  },
  "cells": [
    {
      "metadata": {
        "id": "d5NJ4ukiybLr",
        "colab_type": "code",
        "outputId": "c391a811-5967-4258-efaf-b26bfc6701ea",
        "colab": {
          "base_uri": "https://localhost:8080/",
          "height": 353
        }
      },
      "cell_type": "code",
      "source": [
        "!pip install requests_html"
      ],
      "execution_count": 51,
      "outputs": [
        {
          "output_type": "stream",
          "text": [
            "Requirement already satisfied: requests_html in /usr/local/lib/python3.6/dist-packages (0.9.0)\n",
            "Requirement already satisfied: pyquery in /usr/local/lib/python3.6/dist-packages (from requests_html) (1.4.0)\n",
            "Requirement already satisfied: parse in /usr/local/lib/python3.6/dist-packages (from requests_html) (1.11.1)\n",
            "Requirement already satisfied: fake-useragent in /usr/local/lib/python3.6/dist-packages (from requests_html) (0.1.11)\n",
            "Requirement already satisfied: requests in /usr/local/lib/python3.6/dist-packages (from requests_html) (2.18.4)\n",
            "Requirement already satisfied: w3lib in /usr/local/lib/python3.6/dist-packages (from requests_html) (1.20.0)\n",
            "Requirement already satisfied: pyppeteer>=0.0.14 in /usr/local/lib/python3.6/dist-packages (from requests_html) (0.0.25)\n",
            "Requirement already satisfied: bs4 in /usr/local/lib/python3.6/dist-packages (from requests_html) (0.0.1)\n",
            "Requirement already satisfied: lxml>=2.1 in /usr/local/lib/python3.6/dist-packages (from pyquery->requests_html) (4.2.6)\n",
            "Requirement already satisfied: cssselect>0.7.9 in /usr/local/lib/python3.6/dist-packages (from pyquery->requests_html) (1.0.3)\n",
            "Requirement already satisfied: chardet<3.1.0,>=3.0.2 in /usr/local/lib/python3.6/dist-packages (from requests->requests_html) (3.0.4)\n",
            "Requirement already satisfied: idna<2.7,>=2.5 in /usr/local/lib/python3.6/dist-packages (from requests->requests_html) (2.6)\n",
            "Requirement already satisfied: urllib3<1.23,>=1.21.1 in /usr/local/lib/python3.6/dist-packages (from requests->requests_html) (1.22)\n",
            "Requirement already satisfied: certifi>=2017.4.17 in /usr/local/lib/python3.6/dist-packages (from requests->requests_html) (2018.11.29)\n",
            "Requirement already satisfied: six>=1.4.1 in /usr/local/lib/python3.6/dist-packages (from w3lib->requests_html) (1.11.0)\n",
            "Requirement already satisfied: websockets in /usr/local/lib/python3.6/dist-packages (from pyppeteer>=0.0.14->requests_html) (7.0)\n",
            "Requirement already satisfied: tqdm in /usr/local/lib/python3.6/dist-packages (from pyppeteer>=0.0.14->requests_html) (4.28.1)\n",
            "Requirement already satisfied: pyee in /usr/local/lib/python3.6/dist-packages (from pyppeteer>=0.0.14->requests_html) (5.0.0)\n",
            "Requirement already satisfied: appdirs in /usr/local/lib/python3.6/dist-packages (from pyppeteer>=0.0.14->requests_html) (1.4.3)\n",
            "Requirement already satisfied: beautifulsoup4 in /usr/local/lib/python3.6/dist-packages (from bs4->requests_html) (4.6.3)\n"
          ],
          "name": "stdout"
        }
      ]
    },
    {
      "metadata": {
        "id": "wNgRTUuZygQ8",
        "colab_type": "code",
        "colab": {}
      },
      "cell_type": "code",
      "source": [
        "from requests_html import HTMLSession"
      ],
      "execution_count": 0,
      "outputs": []
    },
    {
      "metadata": {
        "id": "DU_zydCt3BYm",
        "colab_type": "text"
      },
      "cell_type": "markdown",
      "source": [
        "http://www.cleveland.com/metro/index.ssf/2017/12/case_western_reserve_university_president_barbara_snyders_base_salary_and_bonus_pay_tops_among_private_colleges_in_ohio.html"
      ]
    },
    {
      "metadata": {
        "id": "OLJk5wuKx5VD",
        "colab_type": "code",
        "colab": {}
      },
      "cell_type": "code",
      "source": [
        "url = 'http://www.cleveland.com/metro/index.ssf/2017/12/case_western_reserve_university_president_barbara_snyders_base_salary_and_bonus_pay_tops_among_private_colleges_in_ohio.html'"
      ],
      "execution_count": 0,
      "outputs": []
    },
    {
      "metadata": {
        "id": "-r3CGi0oyj5G",
        "colab_type": "code",
        "colab": {}
      },
      "cell_type": "code",
      "source": [
        "r = HTMLSession().get(url)"
      ],
      "execution_count": 0,
      "outputs": []
    },
    {
      "metadata": {
        "id": "OjmG3LcZ3hO7",
        "colab_type": "text"
      },
      "cell_type": "markdown",
      "source": [
        "#entryContent > ul:nth-child(7)"
      ]
    },
    {
      "metadata": {
        "id": "WbVgm9hkymv7",
        "colab_type": "code",
        "colab": {}
      },
      "cell_type": "code",
      "source": [
        "element = r.html.find('#entryContent > ul:nth-child(7)')"
      ],
      "execution_count": 0,
      "outputs": []
    },
    {
      "metadata": {
        "id": "EpOFt8z-y3rY",
        "colab_type": "code",
        "outputId": "88b195ce-4131-4de2-fab2-964a5a52c0dc",
        "colab": {
          "base_uri": "https://localhost:8080/",
          "height": 34
        }
      },
      "cell_type": "code",
      "source": [
        "element"
      ],
      "execution_count": 56,
      "outputs": [
        {
          "output_type": "execute_result",
          "data": {
            "text/plain": [
              "[<Element 'ul' >]"
            ]
          },
          "metadata": {
            "tags": []
          },
          "execution_count": 56
        }
      ]
    },
    {
      "metadata": {
        "id": "fEZjNQ-hy7h5",
        "colab_type": "code",
        "outputId": "86f5f885-b211-4829-f417-019d585b30d5",
        "colab": {
          "base_uri": "https://localhost:8080/",
          "height": 302
        }
      },
      "cell_type": "code",
      "source": [
        "print(element[0].text)"
      ],
      "execution_count": 57,
      "outputs": [
        {
          "output_type": "stream",
          "text": [
            "Grant Cornwell, College of Wooster (left in 2015): $911,651\n",
            "Marvin Krislov, Oberlin College (left in 2016):  $829,913\n",
            "Mark Roosevelt, Antioch College, (left in 2015): $507,672\n",
            "Laurie Joyner, Wittenberg University (left in 2015): $463,504\n",
            "Richard Giese, University of Mount Union (left in 2015): $453,800\n",
            "Sean Decatur,Kenyon College: $451,698\n",
            "Adam Weinberg, Denison University: $435,322\n",
            "Daniel Dibiasio, Ohio Northern University: $414,716\n",
            "Denvy Bowman, Capital University (left in 2016): $388,570\n",
            "Anne Steele, Muskingum University (left in 2016): $384,233\n",
            "Kathy Krendl, Otterbein University:  $378,035\n",
            "Rockwell Jones, Ohio Wesleyan University: $366,625\n",
            "Robert Helmer, Baldwin Wallace University: $365,616\n",
            "Robert Huntington, Heidelberg University: $300,005\n",
            "Lori Varlotta, Hiram College: $293,336\n",
            "Joseph Bruno, Marietta College (left in 2016): $288,295\n",
            "W. Richard Merriman Jr., University of Mount Union (started in June 2015): $221,761\n"
          ],
          "name": "stdout"
        }
      ]
    },
    {
      "metadata": {
        "id": "y4jiiP633sDC",
        "colab_type": "code",
        "colab": {
          "base_uri": "https://localhost:8080/",
          "height": 302
        },
        "outputId": "e55b2a5c-9d06-48ae-c0d3-20065226759d"
      },
      "cell_type": "code",
      "source": [
        "import re\n",
        "regex=\",\\s*([\\w+\\s*]+).*\\$(\\d+),(\\d+)\"\n",
        "re.findall(regex, element[0].text)"
      ],
      "execution_count": 58,
      "outputs": [
        {
          "output_type": "execute_result",
          "data": {
            "text/plain": [
              "[('College of Wooster ', '911', '651'),\n",
              " ('Oberlin College ', '829', '913'),\n",
              " ('Antioch College', '507', '672'),\n",
              " ('Wittenberg University ', '463', '504'),\n",
              " ('University of Mount Union ', '453', '800'),\n",
              " ('Kenyon College', '451', '698'),\n",
              " ('Denison University', '435', '322'),\n",
              " ('Ohio Northern University', '414', '716'),\n",
              " ('Capital University ', '388', '570'),\n",
              " ('Muskingum University ', '384', '233'),\n",
              " ('Otterbein University', '378', '035'),\n",
              " ('Ohio Wesleyan University', '366', '625'),\n",
              " ('Baldwin Wallace University', '365', '616'),\n",
              " ('Heidelberg University', '300', '005'),\n",
              " ('Hiram College', '293', '336'),\n",
              " ('Marietta College ', '288', '295'),\n",
              " ('University of Mount Union ', '221', '761')]"
            ]
          },
          "metadata": {
            "tags": []
          },
          "execution_count": 58
        }
      ]
    },
    {
      "metadata": {
        "id": "mAfgPDNjNeTW",
        "colab_type": "code",
        "colab": {}
      },
      "cell_type": "code",
      "source": [
        "result=re.findall(regex, element[0].text)\n",
        "mydict=dict()"
      ],
      "execution_count": 0,
      "outputs": []
    },
    {
      "metadata": {
        "id": "GUlT_ykweU2h",
        "colab_type": "code",
        "colab": {}
      },
      "cell_type": "code",
      "source": [
        "for item in result: \n",
        "  mydict[item[0].strip()]=float(item[1]+item[2])/2000"
      ],
      "execution_count": 0,
      "outputs": []
    },
    {
      "metadata": {
        "id": "hzqJLvRYfpnG",
        "colab_type": "code",
        "colab": {
          "base_uri": "https://localhost:8080/",
          "height": 286
        },
        "outputId": "a47c2144-853b-43e8-ec4e-83fe827ba5a4"
      },
      "cell_type": "code",
      "source": [
        "mydict"
      ],
      "execution_count": 66,
      "outputs": [
        {
          "output_type": "execute_result",
          "data": {
            "text/plain": [
              "{'Antioch College': 253.836,\n",
              " 'Baldwin Wallace University': 182.808,\n",
              " 'Capital University': 194.285,\n",
              " 'College of Wooster': 455.8255,\n",
              " 'Denison University': 217.661,\n",
              " 'Heidelberg University': 150.0025,\n",
              " 'Hiram College': 146.668,\n",
              " 'Kenyon College': 225.849,\n",
              " 'Marietta College': 144.1475,\n",
              " 'Muskingum University': 192.1165,\n",
              " 'Oberlin College': 414.9565,\n",
              " 'Ohio Northern University': 207.358,\n",
              " 'Ohio Wesleyan University': 183.3125,\n",
              " 'Otterbein University': 189.0175,\n",
              " 'University of Mount Union': 110.8805,\n",
              " 'Wittenberg University': 231.752}"
            ]
          },
          "metadata": {
            "tags": []
          },
          "execution_count": 66
        }
      ]
    },
    {
      "metadata": {
        "id": "eelIIsiSfr66",
        "colab_type": "code",
        "colab": {
          "base_uri": "https://localhost:8080/",
          "height": 286
        },
        "outputId": "819e5508-5ce5-44a3-c2aa-f0ffa56a9b86"
      },
      "cell_type": "code",
      "source": [
        "for k,v in mydict.items():\n",
        "  print(f'{k}:{v}')"
      ],
      "execution_count": 74,
      "outputs": [
        {
          "output_type": "stream",
          "text": [
            "College of Wooster:455.8255\n",
            "Oberlin College:414.9565\n",
            "Antioch College:253.836\n",
            "Wittenberg University:231.752\n",
            "University of Mount Union:110.8805\n",
            "Kenyon College:225.849\n",
            "Denison University:217.661\n",
            "Ohio Northern University:207.358\n",
            "Capital University:194.285\n",
            "Muskingum University:192.1165\n",
            "Otterbein University:189.0175\n",
            "Ohio Wesleyan University:183.3125\n",
            "Baldwin Wallace University:182.808\n",
            "Heidelberg University:150.0025\n",
            "Hiram College:146.668\n",
            "Marietta College:144.1475\n"
          ],
          "name": "stdout"
        }
      ]
    },
    {
      "metadata": {
        "id": "wx-f_ZfPghr-",
        "colab_type": "code",
        "colab": {}
      },
      "cell_type": "code",
      "source": [
        "mylist=list(mydict.items())"
      ],
      "execution_count": 0,
      "outputs": []
    },
    {
      "metadata": {
        "id": "tp651bYYiidZ",
        "colab_type": "code",
        "colab": {}
      },
      "cell_type": "code",
      "source": [
        "mylist.sort(key=lambda x:x[1], reverse=True)"
      ],
      "execution_count": 0,
      "outputs": []
    },
    {
      "metadata": {
        "id": "ieiVqCxMkKSu",
        "colab_type": "code",
        "colab": {
          "base_uri": "https://localhost:8080/",
          "height": 286
        },
        "outputId": "8e5b2e2c-5167-4c23-9d69-aea4920fbd03"
      },
      "cell_type": "code",
      "source": [
        "mylist"
      ],
      "execution_count": 91,
      "outputs": [
        {
          "output_type": "execute_result",
          "data": {
            "text/plain": [
              "[('College of Wooster', 455.8255),\n",
              " ('Oberlin College', 414.9565),\n",
              " ('Antioch College', 253.836),\n",
              " ('Wittenberg University', 231.752),\n",
              " ('Kenyon College', 225.849),\n",
              " ('Denison University', 217.661),\n",
              " ('Ohio Northern University', 207.358),\n",
              " ('Capital University', 194.285),\n",
              " ('Muskingum University', 192.1165),\n",
              " ('Otterbein University', 189.0175),\n",
              " ('Ohio Wesleyan University', 183.3125),\n",
              " ('Baldwin Wallace University', 182.808),\n",
              " ('Heidelberg University', 150.0025),\n",
              " ('Hiram College', 146.668),\n",
              " ('Marietta College', 144.1475),\n",
              " ('University of Mount Union', 110.8805)]"
            ]
          },
          "metadata": {
            "tags": []
          },
          "execution_count": 91
        }
      ]
    },
    {
      "metadata": {
        "id": "7p9KKeHEjiZp",
        "colab_type": "code",
        "colab": {
          "base_uri": "https://localhost:8080/",
          "height": 286
        },
        "outputId": "249fb425-b131-43d2-c721-6d5cb998c82c"
      },
      "cell_type": "code",
      "source": [
        ""
      ],
      "execution_count": 90,
      "outputs": [
        {
          "output_type": "stream",
          "text": [
            "('College of Wooster', 455.8255) ('Oberlin College', 414.9565)\n",
            "('College of Wooster', 455.8255) ('Oberlin College', 414.9565)\n",
            "('College of Wooster', 455.8255) ('Oberlin College', 414.9565)\n",
            "('College of Wooster', 455.8255) ('Oberlin College', 414.9565)\n",
            "('College of Wooster', 455.8255) ('Oberlin College', 414.9565)\n",
            "('College of Wooster', 455.8255) ('Oberlin College', 414.9565)\n",
            "('College of Wooster', 455.8255) ('Oberlin College', 414.9565)\n",
            "('College of Wooster', 455.8255) ('Oberlin College', 414.9565)\n",
            "('College of Wooster', 455.8255) ('Oberlin College', 414.9565)\n",
            "('College of Wooster', 455.8255) ('Oberlin College', 414.9565)\n",
            "('College of Wooster', 455.8255) ('Oberlin College', 414.9565)\n",
            "('College of Wooster', 455.8255) ('Oberlin College', 414.9565)\n",
            "('College of Wooster', 455.8255) ('Oberlin College', 414.9565)\n",
            "('College of Wooster', 455.8255) ('Oberlin College', 414.9565)\n",
            "('College of Wooster', 455.8255) ('Oberlin College', 414.9565)\n",
            "('College of Wooster', 455.8255) ('Oberlin College', 414.9565)\n"
          ],
          "name": "stdout"
        }
      ]
    },
    {
      "metadata": {
        "id": "ixRDuGIKkJdv",
        "colab_type": "code",
        "colab": {
          "base_uri": "https://localhost:8080/",
          "height": 286
        },
        "outputId": "6cc731c2-8b44-4eaf-9ba4-79a75a9acca1"
      },
      "cell_type": "code",
      "source": [
        "for i in mylist:\n",
        "  print(i[0],':',i[1])"
      ],
      "execution_count": 94,
      "outputs": [
        {
          "output_type": "stream",
          "text": [
            "College of Wooster : 455.8255\n",
            "Oberlin College : 414.9565\n",
            "Antioch College : 253.836\n",
            "Wittenberg University : 231.752\n",
            "Kenyon College : 225.849\n",
            "Denison University : 217.661\n",
            "Ohio Northern University : 207.358\n",
            "Capital University : 194.285\n",
            "Muskingum University : 192.1165\n",
            "Otterbein University : 189.0175\n",
            "Ohio Wesleyan University : 183.3125\n",
            "Baldwin Wallace University : 182.808\n",
            "Heidelberg University : 150.0025\n",
            "Hiram College : 146.668\n",
            "Marietta College : 144.1475\n",
            "University of Mount Union : 110.8805\n"
          ],
          "name": "stdout"
        }
      ]
    },
    {
      "metadata": {
        "id": "f-Dky91Tjjbx",
        "colab_type": "code",
        "colab": {
          "base_uri": "https://localhost:8080/",
          "height": 286
        },
        "outputId": "e271b0fe-91fd-44cb-d443-ee701fb66f6d"
      },
      "cell_type": "code",
      "source": [
        "colleges=[item[0] for item in mylist]; colleges"
      ],
      "execution_count": 95,
      "outputs": [
        {
          "output_type": "execute_result",
          "data": {
            "text/plain": [
              "['College of Wooster',\n",
              " 'Oberlin College',\n",
              " 'Antioch College',\n",
              " 'Wittenberg University',\n",
              " 'Kenyon College',\n",
              " 'Denison University',\n",
              " 'Ohio Northern University',\n",
              " 'Capital University',\n",
              " 'Muskingum University',\n",
              " 'Otterbein University',\n",
              " 'Ohio Wesleyan University',\n",
              " 'Baldwin Wallace University',\n",
              " 'Heidelberg University',\n",
              " 'Hiram College',\n",
              " 'Marietta College',\n",
              " 'University of Mount Union']"
            ]
          },
          "metadata": {
            "tags": []
          },
          "execution_count": 95
        }
      ]
    },
    {
      "metadata": {
        "id": "a_yIYyO_lzHv",
        "colab_type": "code",
        "colab": {
          "base_uri": "https://localhost:8080/",
          "height": 286
        },
        "outputId": "f554bd8a-4ed8-4d3d-84d4-5bf7b8f9436b"
      },
      "cell_type": "code",
      "source": [
        "salary=[item[1] for item in mylist];salary"
      ],
      "execution_count": 96,
      "outputs": [
        {
          "output_type": "execute_result",
          "data": {
            "text/plain": [
              "[455.8255,\n",
              " 414.9565,\n",
              " 253.836,\n",
              " 231.752,\n",
              " 225.849,\n",
              " 217.661,\n",
              " 207.358,\n",
              " 194.285,\n",
              " 192.1165,\n",
              " 189.0175,\n",
              " 183.3125,\n",
              " 182.808,\n",
              " 150.0025,\n",
              " 146.668,\n",
              " 144.1475,\n",
              " 110.8805]"
            ]
          },
          "metadata": {
            "tags": []
          },
          "execution_count": 96
        }
      ]
    },
    {
      "metadata": {
        "id": "gcT4kJ_il5_U",
        "colab_type": "code",
        "colab": {}
      },
      "cell_type": "code",
      "source": [
        "import matplotlib.pyplot as plt"
      ],
      "execution_count": 0,
      "outputs": []
    },
    {
      "metadata": {
        "id": "a7mgcgqumV9n",
        "colab_type": "code",
        "colab": {
          "base_uri": "https://localhost:8080/",
          "height": 364
        },
        "outputId": "710e209b-4b54-412a-9264-72dc10c7f8fa"
      },
      "cell_type": "code",
      "source": [
        "colleges.reverse()\n",
        "salary.reverse()\n",
        "plt.barh(colleges, salary)"
      ],
      "execution_count": 110,
      "outputs": [
        {
          "output_type": "execute_result",
          "data": {
            "text/plain": [
              "<BarContainer object of 16 artists>"
            ]
          },
          "metadata": {
            "tags": []
          },
          "execution_count": 110
        },
        {
          "output_type": "display_data",
          "data": {
            "image/png": "[encoded data removed]",
            "text/plain": [
              "<Figure size 576x396 with 1 Axes>"
            ]
          },
          "metadata": {
            "tags": []
          }
        }
      ]
    },
    {
      "metadata": {
        "id": "sAWI0rjNmodn",
        "colab_type": "code",
        "colab": {}
      },
      "cell_type": "code",
      "source": [
        ""
      ],
      "execution_count": 0,
      "outputs": []
    }
  ]
}