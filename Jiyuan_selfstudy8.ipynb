{
  "nbformat": 4,
  "nbformat_minor": 0,
  "metadata": {
    "colab": {
      "name": "Jiyuan_selfstudy8.ipynb",
      "version": "0.3.2",
      "provenance": []
    },
    "kernelspec": {
      "display_name": "Python 3",
      "language": "python",
      "name": "python3"
    }
  },
  "cells": [
    {
      "metadata": {
        "id": "O139ceNdcR0z",
        "colab_type": "code",
        "colab": {}
      },
      "cell_type": "code",
      "source": [
        "users = [\n",
        " { \"id\": 0, \"name\": \"Hero\" },\n",
        " { \"id\": 1, \"name\": \"Dunn\" },\n",
        " { \"id\": 2, \"name\": \"Sue\" },\n",
        " { \"id\": 3, \"name\": \"Chi\" },\n",
        " { \"id\": 4, \"name\": \"Thor\" },\n",
        " { \"id\": 5, \"name\": \"Clive\" },\n",
        " { \"id\": 6, \"name\": \"Hicks\" },\n",
        " { \"id\": 7, \"name\": \"Devin\" },\n",
        " { \"id\": 8, \"name\": \"Kate\" },\n",
        " { \"id\": 9, \"name\": \"Klein\" }\n",
        "]\n"
      ],
      "execution_count": 0,
      "outputs": []
    },
    {
      "metadata": {
        "id": "GwJiRKd5cR04",
        "colab_type": "code",
        "colab": {}
      },
      "cell_type": "code",
      "source": [
        "friendships = [(0, 1), (0, 2), (1, 2), (1, 3), (2, 3), (3, 4),(4, 5), (5, 6), (5, 7), (6, 8), (7, 8), (8, 9)]"
      ],
      "execution_count": 0,
      "outputs": []
    },
    {
      "metadata": {
        "id": "Pi0AwPoucR07",
        "colab_type": "code",
        "colab": {}
      },
      "cell_type": "code",
      "source": [
        "for user in users:\n",
        "    user[\"friends\"] = []"
      ],
      "execution_count": 0,
      "outputs": []
    },
    {
      "metadata": {
        "id": "SS1Yg3SccR0-",
        "colab_type": "code",
        "colab": {}
      },
      "cell_type": "code",
      "source": [
        "for i, j in friendships:\n",
        "    # this works because users[i] is the user whose id is i\n",
        "    users[i][\"friends\"].append(users[j]) # add i as a friend of j\n",
        "    users[j][\"friends\"].append(users[i]) # add j as a friend of i"
      ],
      "execution_count": 0,
      "outputs": []
    },
    {
      "metadata": {
        "id": "jEG_TFs9cR1B",
        "colab_type": "code",
        "colab": {}
      },
      "cell_type": "code",
      "source": [
        "def number_of_friends(user):\n",
        "    \"\"\"how many friends does _user_ have?\"\"\"\n",
        "    return len(user[\"friends\"]) # length of friend_ids list\n",
        "total_connections = sum(number_of_friends(user)\n",
        "    for user in users) # 24\n",
        "from __future__ import division # integer division is lame\n",
        "num_users = len(users) # length of the users list\n",
        "avg_connections = total_connections / num_users # 2.4"
      ],
      "execution_count": 0,
      "outputs": []
    },
    {
      "metadata": {
        "id": "DOebdg0jcR1H",
        "colab_type": "code",
        "colab": {
          "base_uri": "https://localhost:8080/",
          "height": 128
        },
        "outputId": "fd37b654-3737-4183-a4c8-b86a1ebb2a7c"
      },
      "cell_type": "code",
      "source": [
        "# create a list (user_id, number_of_friends)\n",
        "num_friends_by_id = [(user[\"id\"], number_of_friends(user))\n",
        "    for user in users]\n",
        "sorted(num_friends_by_id, # get it sorted\n",
        "    key = lambda(user_id, num_friends): num_friends, # by num_friends\n",
        "    reverse=True) # largest to smallest\n",
        "# each pair is (user_id, num_friends)\n",
        "# [(1, 3), (2, 3), (3, 3), (5, 3), (8, 3),\n",
        "# (0, 2), (4, 2), (6, 2), (7, 2), (9, 1)]\n"
      ],
      "execution_count": 6,
      "outputs": [
        {
          "output_type": "error",
          "ename": "SyntaxError",
          "evalue": "ignored",
          "traceback": [
            "\u001b[0;36m  File \u001b[0;32m\"<ipython-input-6-3e75693773bf>\"\u001b[0;36m, line \u001b[0;32m4\u001b[0m\n\u001b[0;31m    key = lambda(user_id, num_friends): num_friends, # by num_friends\u001b[0m\n\u001b[0m                ^\u001b[0m\n\u001b[0;31mSyntaxError\u001b[0m\u001b[0;31m:\u001b[0m invalid syntax\n"
          ]
        }
      ]
    },
    {
      "metadata": {
        "id": "p1Ik6efvcR1L",
        "colab_type": "code",
        "colab": {}
      },
      "cell_type": "code",
      "source": [
        "def friends_of_friend_ids_bad(user):\n",
        "    # \"foaf\" is short for \"friend of a friend\"\n",
        "    return [foaf[\"id\"]\n",
        "    for friend in user[\"friends\"] # for each of user's friends\n",
        "    for foaf in friend[\"friends\"]] # get each of _their_ friends"
      ],
      "execution_count": 0,
      "outputs": []
    },
    {
      "metadata": {
        "id": "YrC86PixcR1O",
        "colab_type": "code",
        "colab": {
          "base_uri": "https://localhost:8080/",
          "height": 161
        },
        "outputId": "ed792d07-13ca-4bb5-e3e9-a98817f8680b"
      },
      "cell_type": "code",
      "source": [
        "users[0][Hero]"
      ],
      "execution_count": 8,
      "outputs": [
        {
          "output_type": "error",
          "ename": "NameError",
          "evalue": "ignored",
          "traceback": [
            "\u001b[0;31m---------------------------------------------------------------------------\u001b[0m",
            "\u001b[0;31mNameError\u001b[0m                                 Traceback (most recent call last)",
            "\u001b[0;32m<ipython-input-8-faa1cf5e4247>\u001b[0m in \u001b[0;36m<module>\u001b[0;34m()\u001b[0m\n\u001b[0;32m----> 1\u001b[0;31m \u001b[0musers\u001b[0m\u001b[0;34m[\u001b[0m\u001b[0;36m0\u001b[0m\u001b[0;34m]\u001b[0m\u001b[0;34m[\u001b[0m\u001b[0mHero\u001b[0m\u001b[0;34m]\u001b[0m\u001b[0;34m\u001b[0m\u001b[0;34m\u001b[0m\u001b[0m\n\u001b[0m",
            "\u001b[0;31mNameError\u001b[0m: name 'Hero' is not defined"
          ]
        }
      ]
    },
    {
      "metadata": {
        "id": "sNL0ddIocR1S",
        "colab_type": "code",
        "colab": {
          "base_uri": "https://localhost:8080/",
          "height": 128
        },
        "outputId": "1797adfe-6993-4c6e-d1f9-d0e7e1a6208a"
      },
      "cell_type": "code",
      "source": [
        "print [friend[\"id\"] for friend in users[0][\"friends\"]] # [1, 2]\n",
        "print [friend[\"id\"] for friend in users[1][\"friends\"]] # [0, 2, 3]\n",
        "print [friend[\"id\"] for friend in users[2][\"friends\"]] # [0, 1, 3]"
      ],
      "execution_count": 9,
      "outputs": [
        {
          "output_type": "error",
          "ename": "SyntaxError",
          "evalue": "ignored",
          "traceback": [
            "\u001b[0;36m  File \u001b[0;32m\"<ipython-input-9-c0986c88c0d9>\"\u001b[0;36m, line \u001b[0;32m1\u001b[0m\n\u001b[0;31m    print [friend[\"id\"] for friend in users[0][\"friends\"]] # [1, 2]\u001b[0m\n\u001b[0m                          ^\u001b[0m\n\u001b[0;31mSyntaxError\u001b[0m\u001b[0;31m:\u001b[0m Missing parentheses in call to 'print'. Did you mean print([friend[\"id\"] for friend in users[0][\"friends\"]] # [1, 2])?\n"
          ]
        }
      ]
    },
    {
      "metadata": {
        "id": "xOChWHyZcR1W",
        "colab_type": "code",
        "colab": {
          "base_uri": "https://localhost:8080/",
          "height": 33
        },
        "outputId": "eaebcbff-3a63-4931-ad94-df145d1bb31f"
      },
      "cell_type": "code",
      "source": [
        "from collections import Counter # not loaded by default\n",
        "def not_the_same(user, other_user):\n",
        "    \"\"\"two users are not the same if they have different ids\"\"\"\n",
        "    return user[\"id\"] != other_user[\"id\"]\n",
        "def not_friends(user, other_user):\n",
        "    \"\"\"other_user is not a friend if he's not in user[\"friends\"];\n",
        "    that is, if he's not_the_same as all the people in user[\"friends\"]\"\"\"\n",
        "    return all(not_the_same(friend, other_user)\n",
        "    for friend in user[\"friends\"])\n",
        "def friends_of_friend_ids(user):\n",
        "    return Counter(foaf[\"id\"]\n",
        "    for friend in user[\"friends\"] # for each of my friends\n",
        "    for foaf in friend[\"friends\"] # count *their* friends\n",
        "    if not_the_same(user, foaf) # who aren't me\n",
        "    and not_friends(user, foaf)) # and aren't my friends\n",
        "print(friends_of_friend_ids(users[3])) # Counter({0: 2, 5: 1})"
      ],
      "execution_count": 10,
      "outputs": [
        {
          "output_type": "stream",
          "text": [
            "Counter({0: 2, 5: 1})\n"
          ],
          "name": "stdout"
        }
      ]
    },
    {
      "metadata": {
        "id": "FQh3vFSFcR1a",
        "colab_type": "code",
        "colab": {}
      },
      "cell_type": "code",
      "source": [
        "interests = [\n",
        " (0, \"Hadoop\"), (0, \"Big Data\"), (0, \"HBase\"), (0, \"Java\"),\n",
        " (0, \"Spark\"), (0, \"Storm\"), (0, \"Cassandra\"),\n",
        " (1, \"NoSQL\"), (1, \"MongoDB\"), (1, \"Cassandra\"), (1, \"HBase\"),\n",
        " (1, \"Postgres\"), (2, \"Python\"), (2, \"scikit-learn\"), (2, \"scipy\"),\n",
        " (2, \"numpy\"), (2, \"statsmodels\"), (2, \"pandas\"), (3, \"R\"), (3, \"Python\"),\n",
        " (3, \"statistics\"), (3, \"regression\"), (3, \"probability\"),\n",
        " (4, \"machine learning\"), (4, \"regression\"), (4, \"decision trees\"),\n",
        " (4, \"libsvm\"), (5, \"Python\"), (5, \"R\"), (5, \"Java\"), (5, \"C++\"),\n",
        " (5, \"Haskell\"), (5, \"programming languages\"), (6, \"statistics\"),\n",
        " (6, \"probability\"), (6, \"mathematics\"), (6, \"theory\"),\n",
        " (7, \"machine learning\"), (7, \"scikit-learn\"), (7, \"Mahout\"),\n",
        " (7, \"neural networks\"), (8, \"neural networks\"), (8, \"deep learning\"),\n",
        " (8, \"Big Data\"), (8, \"artificial intelligence\"), (9, \"Hadoop\"),\n",
        " (9, \"Java\"), (9, \"MapReduce\"), (9, \"Big Data\")\n",
        "]\n"
      ],
      "execution_count": 0,
      "outputs": []
    },
    {
      "metadata": {
        "id": "yUeIiXJ3cR1d",
        "colab_type": "code",
        "colab": {}
      },
      "cell_type": "code",
      "source": [
        "def data_scientists_who_like(target_interest):\n",
        "    return [user_id\n",
        "    for user_id, user_interest in interests\n",
        "    if user_interest == target_interest]\n"
      ],
      "execution_count": 0,
      "outputs": []
    },
    {
      "metadata": {
        "id": "4BipDlG4cR1h",
        "colab_type": "code",
        "colab": {}
      },
      "cell_type": "code",
      "source": [
        "from collections import defaultdict\n",
        "# keys are interests, values are lists of user_ids with that interest\n",
        "user_ids_by_interest = defaultdict(list)\n",
        "for user_id, interest in interests:\n",
        "    user_ids_by_interest[interest].append(user_id)\n",
        "interests_by_user_id = defaultdict(list)\n",
        "for user_id, interest in interests:\n",
        "    interests_by_user_id[user_id].append(interest)"
      ],
      "execution_count": 0,
      "outputs": []
    },
    {
      "metadata": {
        "id": "BGgvqLrFcR1k",
        "colab_type": "code",
        "colab": {}
      },
      "cell_type": "code",
      "source": [
        "def most_common_interests_with(user):\n",
        "    return Counter(interested_user_id\n",
        "    for interest in interests_by_user_id[user[\"id\"]]\n",
        "    for interested_user_id in user_ids_by_interest[interest]\n",
        "    if interested_user_id != user[\"id\"])\n"
      ],
      "execution_count": 0,
      "outputs": []
    },
    {
      "metadata": {
        "id": "wLBVtLGucR1o",
        "colab_type": "code",
        "colab": {}
      },
      "cell_type": "code",
      "source": [
        "salaries_and_tenures = [(83000, 8.7), (88000, 8.1),\n",
        " (48000, 0.7), (76000, 6),\n",
        " (69000, 6.5), (76000, 7.5),\n",
        " (60000, 2.5), (83000, 10),\n",
        " (48000, 1.9), (63000, 4.2)]\n"
      ],
      "execution_count": 0,
      "outputs": []
    },
    {
      "metadata": {
        "id": "loYvl5JmcR1r",
        "colab_type": "code",
        "colab": {}
      },
      "cell_type": "code",
      "source": [
        "# keys are years, values are lists of the salaries for each tenure\n",
        "salary_by_tenure = defaultdict(list)\n",
        "for salary, tenure in salaries_and_tenures:\n",
        "    salary_by_tenure[tenure].append(salary)\n",
        "# keys are years, each value is average salary for that tenure\n",
        "average_salary_by_tenure = {\n",
        "    tenure : sum(salaries) / len(salaries)\n",
        "    for tenure, salaries in salary_by_tenure.items()\n",
        "}"
      ],
      "execution_count": 0,
      "outputs": []
    },
    {
      "metadata": {
        "id": "FA4Y868EcR1w",
        "colab_type": "code",
        "colab": {}
      },
      "cell_type": "code",
      "source": [
        "def tenure_bucket(tenure):\n",
        "    if tenure < 2:\n",
        "        return \"less than two\"\n",
        "    elif tenure < 5:\n",
        "        return \"between two and five\"\n",
        "    else:\n",
        "        return \"more than five\""
      ],
      "execution_count": 0,
      "outputs": []
    },
    {
      "metadata": {
        "id": "RpISMv8WcR1z",
        "colab_type": "code",
        "colab": {}
      },
      "cell_type": "code",
      "source": [
        "# keys are tenure buckets, values are lists of salaries for that bucket\n",
        "salary_by_tenure_bucket = defaultdict(list)\n",
        "for salary, tenure in salaries_and_tenures:\n",
        "    bucket = tenure_bucket(tenure)\n",
        "    salary_by_tenure_bucket[bucket].append(salary)"
      ],
      "execution_count": 0,
      "outputs": []
    },
    {
      "metadata": {
        "id": "6MCt2vBKcR14",
        "colab_type": "code",
        "colab": {
          "base_uri": "https://localhost:8080/",
          "height": 212
        },
        "outputId": "4cae453e-4798-413c-92c2-93e76b96b5ea"
      },
      "cell_type": "code",
      "source": [
        "# keys are tenure buckets, values are average salary for that bucket\n",
        "average_salary_by_bucket = {\n",
        "    tenure_bucket : sum(salaries) / len(salaries)\n",
        "    for tenure_bucket, salaries in salary_by_tenure_bucket.iteritems()\n",
        "}\n"
      ],
      "execution_count": 19,
      "outputs": [
        {
          "output_type": "error",
          "ename": "AttributeError",
          "evalue": "ignored",
          "traceback": [
            "\u001b[0;31m---------------------------------------------------------------------------\u001b[0m",
            "\u001b[0;31mAttributeError\u001b[0m                            Traceback (most recent call last)",
            "\u001b[0;32m<ipython-input-19-73a244905aae>\u001b[0m in \u001b[0;36m<module>\u001b[0;34m()\u001b[0m\n\u001b[1;32m      1\u001b[0m average_salary_by_bucket = {\n\u001b[1;32m      2\u001b[0m     \u001b[0mtenure_bucket\u001b[0m \u001b[0;34m:\u001b[0m \u001b[0msum\u001b[0m\u001b[0;34m(\u001b[0m\u001b[0msalaries\u001b[0m\u001b[0;34m)\u001b[0m \u001b[0;34m/\u001b[0m \u001b[0mlen\u001b[0m\u001b[0;34m(\u001b[0m\u001b[0msalaries\u001b[0m\u001b[0;34m)\u001b[0m\u001b[0;34m\u001b[0m\u001b[0;34m\u001b[0m\u001b[0m\n\u001b[0;32m----> 3\u001b[0;31m     \u001b[0;32mfor\u001b[0m \u001b[0mtenure_bucket\u001b[0m\u001b[0;34m,\u001b[0m \u001b[0msalaries\u001b[0m \u001b[0;32min\u001b[0m \u001b[0msalary_by_tenure_bucket\u001b[0m\u001b[0;34m.\u001b[0m\u001b[0miteritems\u001b[0m\u001b[0;34m(\u001b[0m\u001b[0;34m)\u001b[0m\u001b[0;34m\u001b[0m\u001b[0;34m\u001b[0m\u001b[0m\n\u001b[0m\u001b[1;32m      4\u001b[0m }\n",
            "\u001b[0;31mAttributeError\u001b[0m: 'collections.defaultdict' object has no attribute 'iteritems'"
          ]
        }
      ]
    },
    {
      "metadata": {
        "id": "KCtg6MGNcR17",
        "colab_type": "code",
        "colab": {}
      },
      "cell_type": "code",
      "source": [
        "def predict_paid_or_unpaid(years_experience):\n",
        "    if years_experience < 3.0:\n",
        "        return \"paid\"\n",
        "    elif years_experience < 8.5:\n",
        "        return \"unpaid\"\n",
        "    else:\n",
        "        return \"paid\" "
      ],
      "execution_count": 0,
      "outputs": []
    },
    {
      "metadata": {
        "id": "R-wo5pz1cR1-",
        "colab_type": "code",
        "colab": {}
      },
      "cell_type": "code",
      "source": [
        "interests = [\n",
        " (0, \"Hadoop\"), (0, \"Big Data\"), (0, \"HBase\"), (0, \"Java\"),\n",
        " (0, \"Spark\"), (0, \"Storm\"), (0, \"Cassandra\"),\n",
        " (1, \"NoSQL\"), (1, \"MongoDB\"), (1, \"Cassandra\"), (1, \"HBase\"),\n",
        " (1, \"Postgres\"), (2, \"Python\"), (2, \"scikit-learn\"), (2, \"scipy\"),\n",
        " (2, \"numpy\"), (2, \"statsmodels\"), (2, \"pandas\"), (3, \"R\"), (3, \"Python\"),\n",
        " (3, \"statistics\"), (3, \"regression\"), (3, \"probability\"),\n",
        " (4, \"machine learning\"), (4, \"regression\"), (4, \"decision trees\"),\n",
        " (4, \"libsvm\"), (5, \"Python\"), (5, \"R\"), (5, \"Java\"), (5, \"C++\"),\n",
        " (5, \"Haskell\"), (5, \"programming languages\"), (6, \"statistics\"),\n",
        " (6, \"probability\"), (6, \"mathematics\"), (6, \"theory\"),\n",
        " (7, \"machine learning\"), (7, \"scikit-learn\"), (7, \"Mahout\"),\n",
        " (7, \"neural networks\"), (8, \"neural networks\"), (8, \"deep learning\"),\n",
        " (8, \"Big Data\"), (8, \"artificial intelligence\"), (9, \"Hadoop\"),\n",
        " (9, \"Java\"), (9, \"MapReduce\"), (9, \"Big Data\")\n",
        "]\n"
      ],
      "execution_count": 0,
      "outputs": []
    },
    {
      "metadata": {
        "id": "NfaMyay2cR2A",
        "colab_type": "code",
        "colab": {}
      },
      "cell_type": "code",
      "source": [
        "words_and_counts = Counter(word\n",
        " for user, interest in interests\n",
        " for word in interest.lower().split())"
      ],
      "execution_count": 0,
      "outputs": []
    },
    {
      "metadata": {
        "id": "f6Vkf5vOcR2D",
        "colab_type": "code",
        "colab": {
          "base_uri": "https://localhost:8080/",
          "height": 128
        },
        "outputId": "e6f8b1ee-7186-420a-a8f1-7188437cca05"
      },
      "cell_type": "code",
      "source": [
        "for word, count in words_and_counts.most_common():\n",
        "    if count > 1:\n",
        "print(word, count)"
      ],
      "execution_count": 23,
      "outputs": [
        {
          "output_type": "error",
          "ename": "IndentationError",
          "evalue": "ignored",
          "traceback": [
            "\u001b[0;36m  File \u001b[0;32m\"<ipython-input-23-42595aaef639>\"\u001b[0;36m, line \u001b[0;32m3\u001b[0m\n\u001b[0;31m    print(word, count)\u001b[0m\n\u001b[0m                      ^\u001b[0m\n\u001b[0;31mIndentationError\u001b[0m\u001b[0;31m:\u001b[0m expected an indented block\n"
          ]
        }
      ]
    },
    {
      "metadata": {
        "id": "cgGUGeSLcR2G",
        "colab_type": "text"
      },
      "cell_type": "markdown",
      "source": [
        "CHAPTER 3"
      ]
    },
    {
      "metadata": {
        "id": "huNcNUydcR2G",
        "colab_type": "code",
        "colab": {
          "base_uri": "https://localhost:8080/",
          "height": 361
        },
        "outputId": "1316946a-585e-4b07-afb1-4ab687f2bcd4"
      },
      "cell_type": "code",
      "source": [
        "from matplotlib import pyplot as plt\n",
        "years = [1950, 1960, 1970, 1980, 1990, 2000, 2010]\n",
        "gdp = [300.2, 543.3, 1075.9, 2862.5, 5979.6, 10289.7, 14958.3]\n",
        "# create a line chart, years on x-axis, gdp on y-axis\n",
        "plt.plot(years, gdp, color='green', marker='o', linestyle='solid')\n",
        "# add a title\n",
        "plt.title(\"Nominal GDP\")\n",
        "# add a label to the y-axis\n",
        "plt.ylabel(\"Billions of $\")\n",
        "plt.show()"
      ],
      "execution_count": 24,
      "outputs": [
        {
          "output_type": "display_data",
          "data": {
            "image/png": "[encoded data removed]",
            "text/plain": [
              "<Figure size 576x396 with 1 Axes>"
            ]
          },
          "metadata": {
            "tags": []
          }
        }
      ]
    },
    {
      "metadata": {
        "id": "u1zoqj09cR2J",
        "colab_type": "code",
        "colab": {
          "base_uri": "https://localhost:8080/",
          "height": 361
        },
        "outputId": "ea6c708b-ba83-4e50-ca1f-aa46dc99670b"
      },
      "cell_type": "code",
      "source": [
        "movies = [\"Annie Hall\", \"Ben-Hur\", \"Casablanca\", \"Gandhi\", \"West Side Story\"]\n",
        "num_oscars = [5, 11, 3, 8, 10]\n",
        "# bars are by default width 0.8, so we'll add 0.1 to the left coordinates\n",
        "# so that each bar is centered\n",
        "xs = [i + 0.1 for i, _ in enumerate(movies)]\n",
        "# plot bars with left x-coordinates [xs], heights [num_oscars]\n",
        "plt.bar(xs, num_oscars)\n",
        "plt.ylabel(\"# of Academy Awards\")\n",
        "plt.title(\"My Favorite Movies\")\n",
        "# label x-axis with movie names at bar centers\n",
        "plt.xticks([i + 0.5 for i, _ in enumerate(movies)], movies)\n",
        "plt.show()"
      ],
      "execution_count": 25,
      "outputs": [
        {
          "output_type": "display_data",
          "data": {
            "image/png": "[encoded data removed]",
            "text/plain": [
              "<Figure size 576x396 with 1 Axes>"
            ]
          },
          "metadata": {
            "tags": []
          }
        }
      ]
    },
    {
      "metadata": {
        "id": "SVn4bLr6cR2N",
        "colab_type": "code",
        "colab": {
          "base_uri": "https://localhost:8080/",
          "height": 376
        },
        "outputId": "3e7c201c-2370-4982-ed56-9e95d4e1c6c4"
      },
      "cell_type": "code",
      "source": [
        "grades = [83,95,91,87,70,0,85,82,100,67,73,77,0]\n",
        "decile = lambda grade: grade // 10 * 10\n",
        "histogram = Counter(decile(grade) for grade in grades)\n",
        "plt.bar([x - 4 for x in histogram.keys()], # shift each bar to the left by 4\n",
        " histogram.values(), # give each bar its correct height\n",
        " 8) # give each bar a width of 8\n",
        "plt.axis([-5, 105, 0, 5]) # x-axis from -5 to 105,\n",
        " # y-axis from 0 to 5\n",
        "plt.xticks([10 * i for i in range(11)]) # x-axis labels at 0, 10, ..., 100\n",
        "plt.xlabel(\"Decile\")\n",
        "plt.ylabel(\"# of Students\")\n",
        "plt.title(\"Distribution of Exam 1 Grades\")\n",
        "plt.show()"
      ],
      "execution_count": 26,
      "outputs": [
        {
          "output_type": "display_data",
          "data": {
            "image/png": "[encoded data removed]",
            "text/plain": [
              "<Figure size 576x396 with 1 Axes>"
            ]
          },
          "metadata": {
            "tags": []
          }
        }
      ]
    },
    {
      "metadata": {
        "id": "WBEzDCHIcR2Q",
        "colab_type": "code",
        "colab": {
          "base_uri": "https://localhost:8080/",
          "height": 361
        },
        "outputId": "85281a55-4084-4568-ef27-ee6b5ad7ccc1"
      },
      "cell_type": "code",
      "source": [
        "mentions = [500, 505]\n",
        "years = [2013, 2014]\n",
        "plt.bar([2012.6, 2013.6], mentions, 0.8)\n",
        "plt.xticks(years)\n",
        "plt.ylabel(\"# of times I heard someone say 'data science'\")\n",
        "# if you don't do this, matplotlib will label the x-axis 0, 1\n",
        "# and then add a +2.013e3 off in the corner (bad matplotlib!)\n",
        "plt.ticklabel_format(useOffset=False)\n",
        "# misleading y-axis only shows the part above 500\n",
        "plt.axis([2012.5,2014.5,499,506])\n",
        "plt.title(\"Look at the 'Huge' Increase!\")\n",
        "plt.show()\n"
      ],
      "execution_count": 27,
      "outputs": [
        {
          "output_type": "display_data",
          "data": {
            "image/png": "[encoded data removed]",
            "text/plain": [
              "<Figure size 576x396 with 1 Axes>"
            ]
          },
          "metadata": {
            "tags": []
          }
        }
      ]
    },
    {
      "metadata": {
        "id": "t9BmCqaycR2X",
        "colab_type": "code",
        "colab": {
          "base_uri": "https://localhost:8080/",
          "height": 361
        },
        "outputId": "6586c6dd-c408-434a-c384-a20f498f782c"
      },
      "cell_type": "code",
      "source": [
        "plt.axis([2012.5,2014.5,0,550])\n",
        "plt.title(\"Not So Huge Anymore\")\n",
        "plt.show()"
      ],
      "execution_count": 28,
      "outputs": [
        {
          "output_type": "display_data",
          "data": {
            "image/png": "[encoded data removed]",
            "text/plain": [
              "<Figure size 576x396 with 1 Axes>"
            ]
          },
          "metadata": {
            "tags": []
          }
        }
      ]
    },
    {
      "metadata": {
        "id": "I-dAf0KHcR2a",
        "colab_type": "code",
        "colab": {
          "base_uri": "https://localhost:8080/",
          "height": 376
        },
        "outputId": "1376980e-5b19-4e4f-aee0-0f614f58c48c"
      },
      "cell_type": "code",
      "source": [
        "variance = [1, 2, 4, 8, 16, 32, 64, 128, 256]\n",
        "bias_squared = [256, 128, 64, 32, 16, 8, 4, 2, 1]\n",
        "total_error = [x + y for x, y in zip(variance, bias_squared)]\n",
        "xs = [i for i, _ in enumerate(variance)]\n",
        "# we can make multiple calls to plt.plot\n",
        "# to show multiple series on the same chart\n",
        "plt.plot(xs, variance, 'g-', label='variance') # green solid line\n",
        "plt.plot(xs, bias_squared, 'r-.', label='bias^2') # red dot-dashed line\n",
        "plt.plot(xs, total_error, 'b:', label='total error') # blue dotted line\n",
        "# because we've assigned labels to each series\n",
        "# we can get a legend for free\n",
        "# loc=9 means \"top center\"\n",
        "plt.legend(loc=9)\n",
        "plt.xlabel(\"model complexity\")\n",
        "plt.title(\"The Bias-Variance Tradeoff\")\n",
        "plt.show()"
      ],
      "execution_count": 29,
      "outputs": [
        {
          "output_type": "display_data",
          "data": {
            "image/png": "[encoded data removed]",
            "text/plain": [
              "<Figure size 576x396 with 1 Axes>"
            ]
          },
          "metadata": {
            "tags": []
          }
        }
      ]
    },
    {
      "metadata": {
        "id": "uV35BDGPcR2e",
        "colab_type": "code",
        "colab": {
          "base_uri": "https://localhost:8080/",
          "height": 376
        },
        "outputId": "3b465e5d-be62-4d4b-ac1e-92dc870b9479"
      },
      "cell_type": "code",
      "source": [
        "friends = [ 70, 65, 72, 63, 71, 64, 60, 64, 67]\n",
        "minutes = [175, 170, 205, 120, 220, 130, 105, 145, 190]\n",
        "labels = ['a', 'b', 'c', 'd', 'e', 'f', 'g', 'h', 'i']\n",
        "plt.scatter(friends, minutes)\n",
        "# label each point\n",
        "for label, friend_count, minute_count in zip(labels, friends, minutes):\n",
        " plt.annotate(label,\n",
        " xy=(friend_count, minute_count), # put the label with its point\n",
        " xytext=(5, -5), # but slightly offset\n",
        " textcoords='offset points')\n",
        "plt.title(\"Daily Minutes vs. Number of Friends\")\n",
        "plt.xlabel(\"# of friends\")\n",
        "plt.ylabel(\"daily minutes spent on the site\")\n",
        "plt.show()\n"
      ],
      "execution_count": 30,
      "outputs": [
        {
          "output_type": "display_data",
          "data": {
            "image/png": "[encoded data removed]",
            "text/plain": [
              "<Figure size 576x396 with 1 Axes>"
            ]
          },
          "metadata": {
            "tags": []
          }
        }
      ]
    },
    {
      "metadata": {
        "id": "QMyC22mgcR2h",
        "colab_type": "code",
        "colab": {
          "base_uri": "https://localhost:8080/",
          "height": 376
        },
        "outputId": "92e6b8c7-ab64-406d-a238-c5e8dcccdb1d"
      },
      "cell_type": "code",
      "source": [
        "test_1_grades = [ 99, 90, 85, 97, 80]\n",
        "test_2_grades = [100, 85, 60, 90, 70]\n",
        "plt.scatter(test_1_grades, test_2_grades)\n",
        "plt.title(\"Axes Aren't Comparable\")\n",
        "plt.xlabel(\"test 1 grade\")\n",
        "plt.ylabel(\"test 2 grade\")\n",
        "plt.show()"
      ],
      "execution_count": 31,
      "outputs": [
        {
          "output_type": "display_data",
          "data": {
            "image/png": "[encoded data removed]",
            "text/plain": [
              "<Figure size 576x396 with 1 Axes>"
            ]
          },
          "metadata": {
            "tags": []
          }
        }
      ]
    },
    {
      "metadata": {
        "id": "cnYDh7LmcR2k",
        "colab_type": "code",
        "colab": {
          "base_uri": "https://localhost:8080/",
          "height": 376
        },
        "outputId": "9f2df39c-0412-48e8-d5fb-bfa943bd63a8"
      },
      "cell_type": "code",
      "source": [
        "test_1_grades = [ 99, 90, 85, 97, 80]\n",
        "test_2_grades = [100, 85, 60, 90, 70]\n",
        "plt.scatter(test_1_grades, test_2_grades)\n",
        "plt.title(\"Axes Aren't Comparable\")\n",
        "plt.xlabel(\"test 1 grade\")\n",
        "plt.ylabel(\"test 2 grade\")\n",
        "plt.axis(\"equal\")\n",
        "plt.show()"
      ],
      "execution_count": 32,
      "outputs": [
        {
          "output_type": "display_data",
          "data": {
            "image/png": "[encoded data removed]",
            "text/plain": [
              "<Figure size 576x396 with 1 Axes>"
            ]
          },
          "metadata": {
            "tags": []
          }
        }
      ]
    },
    {
      "metadata": {
        "id": "g-9bAltGcR2m",
        "colab_type": "code",
        "colab": {}
      },
      "cell_type": "code",
      "source": [
        ""
      ],
      "execution_count": 0,
      "outputs": []
    },
    {
      "metadata": {
        "id": "29Ghpb0UcVNd",
        "colab_type": "code",
        "colab": {}
      },
      "cell_type": "code",
      "source": [
        ""
      ],
      "execution_count": 0,
      "outputs": []
    },
    {
      "metadata": {
        "colab_type": "code",
        "id": "_bOGuFNvpWKJ",
        "colab": {}
      },
      "cell_type": "code",
      "source": [
        "height_weight_age=[70,170,40]"
      ],
      "execution_count": 0,
      "outputs": []
    },
    {
      "metadata": {
        "colab_type": "code",
        "id": "9Zpl0kEQptVe",
        "colab": {}
      },
      "cell_type": "code",
      "source": [
        "grades=[95,80,75,62]"
      ],
      "execution_count": 0,
      "outputs": []
    },
    {
      "metadata": {
        "colab_type": "code",
        "id": "CtDgiZynpyul",
        "colab": {}
      },
      "cell_type": "code",
      "source": [
        "def vector_add(v,w):\n",
        "  return [v_i + w_i\n",
        "         for v_i, w_i in zip(v,w)]"
      ],
      "execution_count": 0,
      "outputs": []
    },
    {
      "metadata": {
        "colab_type": "code",
        "id": "lJqlpK9gqAZV",
        "colab": {}
      },
      "cell_type": "code",
      "source": [
        "def vector_subtract(v,w):\n",
        "    return [v_i - w_i\n",
        "         for v_i, w_i in zip(v,w)]"
      ],
      "execution_count": 0,
      "outputs": []
    },
    {
      "metadata": {
        "colab_type": "code",
        "id": "RINi50qlqI1q",
        "colab": {}
      },
      "cell_type": "code",
      "source": [
        "def vector_sum(vectors):\n",
        "  result - vectors[0]\n",
        "  for vector in vectors[1:]:\n",
        "    result - vector_add(result,vector)\n",
        "    return result"
      ],
      "execution_count": 0,
      "outputs": []
    },
    {
      "metadata": {
        "colab_type": "code",
        "id": "FxaIaYp7qXKr",
        "colab": {}
      },
      "cell_type": "code",
      "source": [
        "def vector_sum(vectors):\n",
        "    return reduce(vector_add, vectors)"
      ],
      "execution_count": 0,
      "outputs": []
    },
    {
      "metadata": {
        "colab_type": "code",
        "id": "yZZUgOFNqc43",
        "colab": {}
      },
      "cell_type": "code",
      "source": [
        "def scalar_multiply(c,v):\n",
        "    return [c * v_i for v_i in v]"
      ],
      "execution_count": 0,
      "outputs": []
    },
    {
      "metadata": {
        "colab_type": "code",
        "id": "QA6NVo1zqmM_",
        "colab": {}
      },
      "cell_type": "code",
      "source": [
        "def vector_mean(vectors):\n",
        "    n=len(vectors)\n",
        "    return scalar_multiply(1/n, vector_sum(vectors))"
      ],
      "execution_count": 0,
      "outputs": []
    },
    {
      "metadata": {
        "colab_type": "code",
        "id": "5HgnRZEJqwvf",
        "colab": {}
      },
      "cell_type": "code",
      "source": [
        "def dot(v,w):\n",
        "    return sum(v_i * w_i\n",
        "            for v_i, w_i in zip(v,w))"
      ],
      "execution_count": 0,
      "outputs": []
    },
    {
      "metadata": {
        "colab_type": "code",
        "id": "xy9mXF1nrCVY",
        "colab": {}
      },
      "cell_type": "code",
      "source": [
        "def sum_of_squares(v):\n",
        "    return dot(v,v)"
      ],
      "execution_count": 0,
      "outputs": []
    },
    {
      "metadata": {
        "colab_type": "code",
        "id": "gKKeD02YrYND",
        "colab": {}
      },
      "cell_type": "code",
      "source": [
        "import math"
      ],
      "execution_count": 0,
      "outputs": []
    },
    {
      "metadata": {
        "colab_type": "code",
        "id": "kpLpvSbSraOO",
        "colab": {}
      },
      "cell_type": "code",
      "source": [
        "def magnitude(v):\n",
        "    return math.sqrt(sum_of_squares(v))"
      ],
      "execution_count": 0,
      "outputs": []
    },
    {
      "metadata": {
        "colab_type": "code",
        "id": "b9OgngImrf1b",
        "colab": {}
      },
      "cell_type": "code",
      "source": [
        "def square_distance(v,w):\n",
        "    return sum_of_squares(vector_subtract(v,w))"
      ],
      "execution_count": 0,
      "outputs": []
    },
    {
      "metadata": {
        "colab_type": "code",
        "id": "x61G0nP1rpCs",
        "colab": {}
      },
      "cell_type": "code",
      "source": [
        "def distance(v,w):\n",
        "    return math.sqrt(squared_distance(v,w))"
      ],
      "execution_count": 0,
      "outputs": []
    },
    {
      "metadata": {
        "colab_type": "code",
        "id": "txeqgezYrxCv",
        "colab": {}
      },
      "cell_type": "code",
      "source": [
        "A=[[1,2,3],[4,5,6]]"
      ],
      "execution_count": 0,
      "outputs": []
    },
    {
      "metadata": {
        "colab_type": "code",
        "id": "LBwHaGkqr_Rw",
        "colab": {}
      },
      "cell_type": "code",
      "source": [
        "b=[[1,2],[3,4],[5,6]]"
      ],
      "execution_count": 0,
      "outputs": []
    },
    {
      "metadata": {
        "colab_type": "code",
        "id": "cb_1De1VsCiv",
        "colab": {
          "base_uri": "https://localhost:8080/",
          "height": 128
        },
        "outputId": "d5083a7c-ed30-4419-d93b-20b4bf20a6c6"
      },
      "cell_type": "code",
      "source": [
        "def shape(A):\n",
        "  num_rows=len(A)\n",
        "  num_cols=len(A[0]) if A else 0\n",
        "    return num_rows, num_cols"
      ],
      "execution_count": 49,
      "outputs": [
        {
          "output_type": "error",
          "ename": "IndentationError",
          "evalue": "ignored",
          "traceback": [
            "\u001b[0;36m  File \u001b[0;32m\"<ipython-input-49-4fbadc1d661f>\"\u001b[0;36m, line \u001b[0;32m4\u001b[0m\n\u001b[0;31m    return num_rows, num_cols\u001b[0m\n\u001b[0m    ^\u001b[0m\n\u001b[0;31mIndentationError\u001b[0m\u001b[0;31m:\u001b[0m unexpected indent\n"
          ]
        }
      ]
    },
    {
      "metadata": {
        "colab_type": "code",
        "id": "n1Rzl8bysPP-",
        "colab": {}
      },
      "cell_type": "code",
      "source": [
        "def get_row(A, i):\n",
        "    return A[i]"
      ],
      "execution_count": 0,
      "outputs": []
    },
    {
      "metadata": {
        "colab_type": "code",
        "id": "BhMp9g6ft2YO",
        "colab": {}
      },
      "cell_type": "code",
      "source": [
        "def get_column(A, j):\n",
        "    return [A_i[j]\n",
        "         for A_i in A]"
      ],
      "execution_count": 0,
      "outputs": []
    },
    {
      "metadata": {
        "colab_type": "code",
        "id": "17ppofz1t9J3",
        "colab": {}
      },
      "cell_type": "code",
      "source": [
        "def make_matrix(num_rows, num_cols, entry_fn):\n",
        "    return [[entry_fn(i,j)\n",
        "          for j in range(num_cols)]\n",
        "          for i in range(num_rows)]"
      ],
      "execution_count": 0,
      "outputs": []
    },
    {
      "metadata": {
        "colab_type": "code",
        "id": "m_PbnkFyuQjT",
        "colab": {}
      },
      "cell_type": "code",
      "source": [
        "def is_diagonal(i, j):\n",
        "    return 1 if i == j else 0"
      ],
      "execution_count": 0,
      "outputs": []
    },
    {
      "metadata": {
        "colab_type": "code",
        "id": "kGezd3BLuXty",
        "colab": {}
      },
      "cell_type": "code",
      "source": [
        "identity_matrix = make_matrix(5, 5, is_diagonal)"
      ],
      "execution_count": 0,
      "outputs": []
    },
    {
      "metadata": {
        "colab_type": "code",
        "id": "8vMDkqqouee6",
        "colab": {}
      },
      "cell_type": "code",
      "source": [
        "data=[[70,170,40],[65,120,26],[77,250,19]]"
      ],
      "execution_count": 0,
      "outputs": []
    },
    {
      "metadata": {
        "colab_type": "code",
        "id": "4fYNnIf0umWb",
        "colab": {}
      },
      "cell_type": "code",
      "source": [
        "friendships=[(0,1),(0,2),(1,2),(1,3),(2,3),(3,4),(4,5),(5,6),(5,7),(6,8),(7,8),(8,9)]"
      ],
      "execution_count": 0,
      "outputs": []
    },
    {
      "metadata": {
        "colab_type": "code",
        "id": "0_HAJOZsxA-U",
        "colab": {}
      },
      "cell_type": "code",
      "source": [
        "friendships=[[0,1,1,0,0,0,0,0,0,0],\n",
        "             [1,0,1,1,0,0,0,0,0,0],\n",
        "             [1,1,0,1,0,0,0,0,0,0],\n",
        "             [0,1,1,0,1,0,0,0,0,0],\n",
        "             [0,0,0,1,0,1,0,0,0,0],\n",
        "             [0,0,0,0,1,0,1,1,0,0],\n",
        "             [0,0,0,0,0,1,0,0,1,0],\n",
        "             [0,0,0,0,0,1,0,0,1,0],\n",
        "             [0,0,0,0,0,0,1,1,0,1],\n",
        "             [0,0,0,0,0,0,0,0,1,0]]"
      ],
      "execution_count": 0,
      "outputs": []
    },
    {
      "metadata": {
        "colab_type": "code",
        "id": "FgNk1Hyixsvi",
        "outputId": "e6632e3e-cf8f-4d1a-85fe-1f1f046701c8",
        "colab": {
          "base_uri": "https://localhost:8080/",
          "height": 33
        }
      },
      "cell_type": "code",
      "source": [
        "friendships[0][2]==1\n",
        "friendships[0][8]==1"
      ],
      "execution_count": 57,
      "outputs": [
        {
          "output_type": "execute_result",
          "data": {
            "text/plain": [
              "False"
            ]
          },
          "metadata": {
            "tags": []
          },
          "execution_count": 57
        }
      ]
    },
    {
      "metadata": {
        "colab_type": "code",
        "id": "P9i3YYKRx_P8",
        "colab": {}
      },
      "cell_type": "code",
      "source": [
        "friends_of_five=[i\n",
        "                for i, is_friend in enumerate(friendships[5])\n",
        "                if is_friend]"
      ],
      "execution_count": 0,
      "outputs": []
    },
    {
      "metadata": {
        "colab_type": "code",
        "id": "xkgVpqxkyS-c",
        "colab": {}
      },
      "cell_type": "code",
      "source": [
        "def bucketize(point, bucket_size):\n",
        "    return bucket_size*math.floor(point/bucket_size)"
      ],
      "execution_count": 0,
      "outputs": []
    },
    {
      "metadata": {
        "colab_type": "code",
        "id": "WSrev2ViyhH7",
        "colab": {}
      },
      "cell_type": "code",
      "source": [
        "def make_histogram(points,bucket_size):\n",
        "    return Counter(bucketize(point, bucket_size) for point in points)"
      ],
      "execution_count": 0,
      "outputs": []
    },
    {
      "metadata": {
        "colab_type": "code",
        "id": "BcGkBBQAyuqr",
        "colab": {}
      },
      "cell_type": "code",
      "source": [
        "def plot_histogram(points, bucket_size, title=\"\"):\n",
        "  histogram = make_histogram(points, bucket_size)\n",
        "  plt.bar(histogram.keys(), histogram.values(),width=bucket_size)\n",
        "  plt.title(title)\n",
        "  plt.show()"
      ],
      "execution_count": 0,
      "outputs": []
    },
    {
      "metadata": {
        "colab_type": "code",
        "id": "-pvB1sw7zcs4",
        "colab": {}
      },
      "cell_type": "code",
      "source": [
        "import random\n",
        "random.seed(0)"
      ],
      "execution_count": 0,
      "outputs": []
    },
    {
      "metadata": {
        "colab_type": "code",
        "id": "zKL3v4jy0ze4",
        "colab": {}
      },
      "cell_type": "code",
      "source": [
        "uniform=[200*random.random()-100 for _ in range(10000)]"
      ],
      "execution_count": 0,
      "outputs": []
    },
    {
      "metadata": {
        "colab_type": "code",
        "id": "gcjCei_tzE_s",
        "outputId": "bb5120f1-a5a6-404d-89a5-81b2ad83b0f6",
        "colab": {
          "base_uri": "https://localhost:8080/",
          "height": 245
        }
      },
      "cell_type": "code",
      "source": [
        "normal = [57 * inverse_normal_cdf(random.random())\n",
        "         for _ in range(10000)]"
      ],
      "execution_count": 64,
      "outputs": [
        {
          "output_type": "error",
          "ename": "NameError",
          "evalue": "ignored",
          "traceback": [
            "\u001b[0;31m---------------------------------------------------------------------------\u001b[0m",
            "\u001b[0;31mNameError\u001b[0m                                 Traceback (most recent call last)",
            "\u001b[0;32m<ipython-input-64-6a08910bb3b8>\u001b[0m in \u001b[0;36m<module>\u001b[0;34m()\u001b[0m\n\u001b[1;32m      1\u001b[0m normal = [57 * inverse_normal_cdf(random.random())\n\u001b[0;32m----> 2\u001b[0;31m          for _ in range(10000)]\n\u001b[0m",
            "\u001b[0;32m<ipython-input-64-6a08910bb3b8>\u001b[0m in \u001b[0;36m<listcomp>\u001b[0;34m(.0)\u001b[0m\n\u001b[1;32m      1\u001b[0m normal = [57 * inverse_normal_cdf(random.random())\n\u001b[0;32m----> 2\u001b[0;31m          for _ in range(10000)]\n\u001b[0m",
            "\u001b[0;31mNameError\u001b[0m: name 'inverse_normal_cdf' is not defined"
          ]
        }
      ]
    },
    {
      "metadata": {
        "colab_type": "code",
        "id": "_81zkgRH1TLk",
        "colab": {}
      },
      "cell_type": "code",
      "source": [
        "from collections import Counter"
      ],
      "execution_count": 0,
      "outputs": []
    },
    {
      "metadata": {
        "colab_type": "code",
        "id": "BXoMu64dzV1P",
        "outputId": "acccf52c-0d82-43b4-ca28-b91fdcf7873b",
        "colab": {
          "base_uri": "https://localhost:8080/",
          "height": 361
        }
      },
      "cell_type": "code",
      "source": [
        "import matplotlib.pyplot as plt\n",
        "plot_histogram(uniform, 10, \"Uniform Histogram\")"
      ],
      "execution_count": 66,
      "outputs": [
        {
          "output_type": "display_data",
          "data": {
            "image/png": "[encoded data removed]",
            "text/plain": [
              "<Figure size 576x396 with 1 Axes>"
            ]
          },
          "metadata": {
            "tags": []
          }
        }
      ]
    },
    {
      "metadata": {
        "colab_type": "code",
        "id": "vZ-GA-Cuz6Zj",
        "outputId": "0e5bb27e-73c0-4a87-b42b-983f8f3aea81",
        "colab": {
          "base_uri": "https://localhost:8080/",
          "height": 161
        }
      },
      "cell_type": "code",
      "source": [
        "plot_histogram(normal, 10,\"Normal Histogram\")"
      ],
      "execution_count": 67,
      "outputs": [
        {
          "output_type": "error",
          "ename": "NameError",
          "evalue": "ignored",
          "traceback": [
            "\u001b[0;31m---------------------------------------------------------------------------\u001b[0m",
            "\u001b[0;31mNameError\u001b[0m                                 Traceback (most recent call last)",
            "\u001b[0;32m<ipython-input-67-253e124d7f50>\u001b[0m in \u001b[0;36m<module>\u001b[0;34m()\u001b[0m\n\u001b[0;32m----> 1\u001b[0;31m \u001b[0mplot_histogram\u001b[0m\u001b[0;34m(\u001b[0m\u001b[0mnormal\u001b[0m\u001b[0;34m,\u001b[0m \u001b[0;36m10\u001b[0m\u001b[0;34m,\u001b[0m\u001b[0;34m\"Normal Histogram\"\u001b[0m\u001b[0;34m)\u001b[0m\u001b[0;34m\u001b[0m\u001b[0;34m\u001b[0m\u001b[0m\n\u001b[0m",
            "\u001b[0;31mNameError\u001b[0m: name 'normal' is not defined"
          ]
        }
      ]
    },
    {
      "metadata": {
        "colab_type": "code",
        "id": "n3I3vRV60WAK",
        "colab": {}
      },
      "cell_type": "code",
      "source": [
        "def random_normal():\n",
        "    return inverse_normal_cdf(random.random())"
      ],
      "execution_count": 0,
      "outputs": []
    },
    {
      "metadata": {
        "colab_type": "code",
        "id": "sL5OETOn1q_z",
        "outputId": "43e12f7e-4b43-4b02-80a0-4b6ff3f7ed9c",
        "colab": {
          "base_uri": "https://localhost:8080/",
          "height": 345
        }
      },
      "cell_type": "code",
      "source": [
        "xs=[random_normal() for _ in range(1000)]\n",
        "ys1=[x+random_normal()/2 for x in xs]\n",
        "ys2=[-x+random_normal()/2 for x in xs]"
      ],
      "execution_count": 69,
      "outputs": [
        {
          "output_type": "error",
          "ename": "NameError",
          "evalue": "ignored",
          "traceback": [
            "\u001b[0;31m---------------------------------------------------------------------------\u001b[0m",
            "\u001b[0;31mNameError\u001b[0m                                 Traceback (most recent call last)",
            "\u001b[0;32m<ipython-input-69-e1187381b345>\u001b[0m in \u001b[0;36m<module>\u001b[0;34m()\u001b[0m\n\u001b[0;32m----> 1\u001b[0;31m \u001b[0mxs\u001b[0m\u001b[0;34m=\u001b[0m\u001b[0;34m[\u001b[0m\u001b[0mrandom_normal\u001b[0m\u001b[0;34m(\u001b[0m\u001b[0;34m)\u001b[0m \u001b[0;32mfor\u001b[0m \u001b[0m_\u001b[0m \u001b[0;32min\u001b[0m \u001b[0mrange\u001b[0m\u001b[0;34m(\u001b[0m\u001b[0;36m1000\u001b[0m\u001b[0;34m)\u001b[0m\u001b[0;34m]\u001b[0m\u001b[0;34m\u001b[0m\u001b[0;34m\u001b[0m\u001b[0m\n\u001b[0m\u001b[1;32m      2\u001b[0m \u001b[0mys1\u001b[0m\u001b[0;34m=\u001b[0m\u001b[0;34m[\u001b[0m\u001b[0mx\u001b[0m\u001b[0;34m+\u001b[0m\u001b[0mrandom_normal\u001b[0m\u001b[0;34m(\u001b[0m\u001b[0;34m)\u001b[0m\u001b[0;34m/\u001b[0m\u001b[0;36m2\u001b[0m \u001b[0;32mfor\u001b[0m \u001b[0mx\u001b[0m \u001b[0;32min\u001b[0m \u001b[0mxs\u001b[0m\u001b[0;34m]\u001b[0m\u001b[0;34m\u001b[0m\u001b[0;34m\u001b[0m\u001b[0m\n\u001b[1;32m      3\u001b[0m \u001b[0mys2\u001b[0m\u001b[0;34m=\u001b[0m\u001b[0;34m[\u001b[0m\u001b[0;34m-\u001b[0m\u001b[0mx\u001b[0m\u001b[0;34m+\u001b[0m\u001b[0mrandom_normal\u001b[0m\u001b[0;34m(\u001b[0m\u001b[0;34m)\u001b[0m\u001b[0;34m/\u001b[0m\u001b[0;36m2\u001b[0m \u001b[0;32mfor\u001b[0m \u001b[0mx\u001b[0m \u001b[0;32min\u001b[0m \u001b[0mxs\u001b[0m\u001b[0;34m]\u001b[0m\u001b[0;34m\u001b[0m\u001b[0;34m\u001b[0m\u001b[0m\n",
            "\u001b[0;32m<ipython-input-69-e1187381b345>\u001b[0m in \u001b[0;36m<listcomp>\u001b[0;34m(.0)\u001b[0m\n\u001b[0;32m----> 1\u001b[0;31m \u001b[0mxs\u001b[0m\u001b[0;34m=\u001b[0m\u001b[0;34m[\u001b[0m\u001b[0mrandom_normal\u001b[0m\u001b[0;34m(\u001b[0m\u001b[0;34m)\u001b[0m \u001b[0;32mfor\u001b[0m \u001b[0m_\u001b[0m \u001b[0;32min\u001b[0m \u001b[0mrange\u001b[0m\u001b[0;34m(\u001b[0m\u001b[0;36m1000\u001b[0m\u001b[0;34m)\u001b[0m\u001b[0;34m]\u001b[0m\u001b[0;34m\u001b[0m\u001b[0;34m\u001b[0m\u001b[0m\n\u001b[0m\u001b[1;32m      2\u001b[0m \u001b[0mys1\u001b[0m\u001b[0;34m=\u001b[0m\u001b[0;34m[\u001b[0m\u001b[0mx\u001b[0m\u001b[0;34m+\u001b[0m\u001b[0mrandom_normal\u001b[0m\u001b[0;34m(\u001b[0m\u001b[0;34m)\u001b[0m\u001b[0;34m/\u001b[0m\u001b[0;36m2\u001b[0m \u001b[0;32mfor\u001b[0m \u001b[0mx\u001b[0m \u001b[0;32min\u001b[0m \u001b[0mxs\u001b[0m\u001b[0;34m]\u001b[0m\u001b[0;34m\u001b[0m\u001b[0;34m\u001b[0m\u001b[0m\n\u001b[1;32m      3\u001b[0m \u001b[0mys2\u001b[0m\u001b[0;34m=\u001b[0m\u001b[0;34m[\u001b[0m\u001b[0;34m-\u001b[0m\u001b[0mx\u001b[0m\u001b[0;34m+\u001b[0m\u001b[0mrandom_normal\u001b[0m\u001b[0;34m(\u001b[0m\u001b[0;34m)\u001b[0m\u001b[0;34m/\u001b[0m\u001b[0;36m2\u001b[0m \u001b[0;32mfor\u001b[0m \u001b[0mx\u001b[0m \u001b[0;32min\u001b[0m \u001b[0mxs\u001b[0m\u001b[0;34m]\u001b[0m\u001b[0;34m\u001b[0m\u001b[0;34m\u001b[0m\u001b[0m\n",
            "\u001b[0;32m<ipython-input-68-24c6f585280b>\u001b[0m in \u001b[0;36mrandom_normal\u001b[0;34m()\u001b[0m\n\u001b[1;32m      1\u001b[0m \u001b[0;32mdef\u001b[0m \u001b[0mrandom_normal\u001b[0m\u001b[0;34m(\u001b[0m\u001b[0;34m)\u001b[0m\u001b[0;34m:\u001b[0m\u001b[0;34m\u001b[0m\u001b[0;34m\u001b[0m\u001b[0m\n\u001b[0;32m----> 2\u001b[0;31m     \u001b[0;32mreturn\u001b[0m \u001b[0minverse_normal_cdf\u001b[0m\u001b[0;34m(\u001b[0m\u001b[0mrandom\u001b[0m\u001b[0;34m.\u001b[0m\u001b[0mrandom\u001b[0m\u001b[0;34m(\u001b[0m\u001b[0;34m)\u001b[0m\u001b[0;34m)\u001b[0m\u001b[0;34m\u001b[0m\u001b[0;34m\u001b[0m\u001b[0m\n\u001b[0m",
            "\u001b[0;31mNameError\u001b[0m: name 'inverse_normal_cdf' is not defined"
          ]
        }
      ]
    },
    {
      "metadata": {
        "colab_type": "code",
        "id": "jCjyYQuD1_kI",
        "outputId": "aa707bf6-9883-48c2-9da2-09bfdfb1ebad",
        "colab": {
          "base_uri": "https://localhost:8080/",
          "height": 228
        }
      },
      "cell_type": "code",
      "source": [
        "plt.scatter(xs, ys1, marker='.', color='black', label='ys1')\n",
        "plt.scatter(xs, ys2, marker='.', color='gray', label='ys2')\n",
        "plt.xlabel('xs')\n",
        "plt.ylabel('ys')\n",
        "plt.legend(loc=9)\n",
        "plt.title(\"Very Different Joint Distributions\")\n",
        "plt.show()"
      ],
      "execution_count": 70,
      "outputs": [
        {
          "output_type": "error",
          "ename": "NameError",
          "evalue": "ignored",
          "traceback": [
            "\u001b[0;31m---------------------------------------------------------------------------\u001b[0m",
            "\u001b[0;31mNameError\u001b[0m                                 Traceback (most recent call last)",
            "\u001b[0;32m<ipython-input-70-e087f1e07678>\u001b[0m in \u001b[0;36m<module>\u001b[0;34m()\u001b[0m\n\u001b[0;32m----> 1\u001b[0;31m \u001b[0mplt\u001b[0m\u001b[0;34m.\u001b[0m\u001b[0mscatter\u001b[0m\u001b[0;34m(\u001b[0m\u001b[0mxs\u001b[0m\u001b[0;34m,\u001b[0m \u001b[0mys1\u001b[0m\u001b[0;34m,\u001b[0m \u001b[0mmarker\u001b[0m\u001b[0;34m=\u001b[0m\u001b[0;34m'.'\u001b[0m\u001b[0;34m,\u001b[0m \u001b[0mcolor\u001b[0m\u001b[0;34m=\u001b[0m\u001b[0;34m'black'\u001b[0m\u001b[0;34m,\u001b[0m \u001b[0mlabel\u001b[0m\u001b[0;34m=\u001b[0m\u001b[0;34m'ys1'\u001b[0m\u001b[0;34m)\u001b[0m\u001b[0;34m\u001b[0m\u001b[0;34m\u001b[0m\u001b[0m\n\u001b[0m\u001b[1;32m      2\u001b[0m \u001b[0mplt\u001b[0m\u001b[0;34m.\u001b[0m\u001b[0mscatter\u001b[0m\u001b[0;34m(\u001b[0m\u001b[0mxs\u001b[0m\u001b[0;34m,\u001b[0m \u001b[0mys2\u001b[0m\u001b[0;34m,\u001b[0m \u001b[0mmarker\u001b[0m\u001b[0;34m=\u001b[0m\u001b[0;34m'.'\u001b[0m\u001b[0;34m,\u001b[0m \u001b[0mcolor\u001b[0m\u001b[0;34m=\u001b[0m\u001b[0;34m'gray'\u001b[0m\u001b[0;34m,\u001b[0m \u001b[0mlabel\u001b[0m\u001b[0;34m=\u001b[0m\u001b[0;34m'ys2'\u001b[0m\u001b[0;34m)\u001b[0m\u001b[0;34m\u001b[0m\u001b[0;34m\u001b[0m\u001b[0m\n\u001b[1;32m      3\u001b[0m \u001b[0mplt\u001b[0m\u001b[0;34m.\u001b[0m\u001b[0mxlabel\u001b[0m\u001b[0;34m(\u001b[0m\u001b[0;34m'xs'\u001b[0m\u001b[0;34m)\u001b[0m\u001b[0;34m\u001b[0m\u001b[0;34m\u001b[0m\u001b[0m\n\u001b[1;32m      4\u001b[0m \u001b[0mplt\u001b[0m\u001b[0;34m.\u001b[0m\u001b[0mylabel\u001b[0m\u001b[0;34m(\u001b[0m\u001b[0;34m'ys'\u001b[0m\u001b[0;34m)\u001b[0m\u001b[0;34m\u001b[0m\u001b[0;34m\u001b[0m\u001b[0m\n\u001b[1;32m      5\u001b[0m \u001b[0mplt\u001b[0m\u001b[0;34m.\u001b[0m\u001b[0mlegend\u001b[0m\u001b[0;34m(\u001b[0m\u001b[0mloc\u001b[0m\u001b[0;34m=\u001b[0m\u001b[0;36m9\u001b[0m\u001b[0;34m)\u001b[0m\u001b[0;34m\u001b[0m\u001b[0;34m\u001b[0m\u001b[0m\n",
            "\u001b[0;31mNameError\u001b[0m: name 'ys1' is not defined"
          ]
        }
      ]
    },
    {
      "metadata": {
        "colab_type": "code",
        "id": "gmv8QQFw3zy8",
        "outputId": "654278fb-e8d7-4775-adac-569898e8f73b",
        "colab": {
          "base_uri": "https://localhost:8080/",
          "height": 128
        }
      },
      "cell_type": "code",
      "source": [
        "print correlation(xs,ys1)\n",
        "print correlation(xs,ys2)"
      ],
      "execution_count": 71,
      "outputs": [
        {
          "output_type": "error",
          "ename": "SyntaxError",
          "evalue": "ignored",
          "traceback": [
            "\u001b[0;36m  File \u001b[0;32m\"<ipython-input-71-b917a8d410ce>\"\u001b[0;36m, line \u001b[0;32m1\u001b[0m\n\u001b[0;31m    print correlation(xs,ys1)\u001b[0m\n\u001b[0m                    ^\u001b[0m\n\u001b[0;31mSyntaxError\u001b[0m\u001b[0;31m:\u001b[0m invalid syntax\n"
          ]
        }
      ]
    },
    {
      "metadata": {
        "colab_type": "code",
        "id": "ty2f8Ask4Fyx",
        "colab": {}
      },
      "cell_type": "code",
      "source": [
        "def correlation_matrix(data):\n",
        "  _, num_columns = shape(data)\n",
        "  def matrix_entry(i,j):\n",
        "    return correlation(get_column(data,i), get_column(data,j))\n",
        "  return make_matrix(num_columns, num_columns, matrix_entry)"
      ],
      "execution_count": 0,
      "outputs": []
    },
    {
      "metadata": {
        "colab_type": "code",
        "id": "XkMSTK6Y4Qyw",
        "colab": {}
      },
      "cell_type": "code",
      "source": [
        "import matplotlib.pyplot as plt"
      ],
      "execution_count": 0,
      "outputs": []
    },
    {
      "metadata": {
        "colab_type": "code",
        "id": "T4oCWrey4Zzg",
        "outputId": "540515c6-043a-409b-c4ba-eaeef752af92",
        "colab": {
          "base_uri": "https://localhost:8080/",
          "height": 128
        }
      },
      "cell_type": "code",
      "source": [
        "_, num_columns = shape(data)\n",
        "fig, ax = plt.subplots(num_columns, num_columns)\n",
        "for i in range(num_columns):\n",
        "    for j in range(num_columns):\n",
        "    if i!=j:ax[i][j].scatter(get_column(data,j), get_column(data,i))\n",
        "    else: ax[i][j].annotate(\"series\" + str(i),(0.5, 0.5),\n",
        "                              xycoords='axes fraction',\n",
        "                              ha=\"center\", va=\"center\")\n",
        "    if i<num_columns -1:ax[i][j].xaxis.set_visible(False)\n",
        "    if j>0:ax[i][j].yaxis.set_visible(False)\n",
        "ax[-1][-1].set_xlim(ax[0][-1].get_xlim())\n",
        "ax[0][0].set_ylim(ax[0][1].get_ylim())\n",
        "plt.show()"
      ],
      "execution_count": 74,
      "outputs": [
        {
          "output_type": "error",
          "ename": "IndentationError",
          "evalue": "ignored",
          "traceback": [
            "\u001b[0;36m  File \u001b[0;32m\"<ipython-input-74-34f40f20e77a>\"\u001b[0;36m, line \u001b[0;32m5\u001b[0m\n\u001b[0;31m    if i!=j:ax[i][j].scatter(get_column(data,j), get_column(data,i))\u001b[0m\n\u001b[0m     ^\u001b[0m\n\u001b[0;31mIndentationError\u001b[0m\u001b[0;31m:\u001b[0m expected an indented block\n"
          ]
        }
      ]
    },
    {
      "metadata": {
        "colab_type": "code",
        "id": "1HY8-RMl44Yr",
        "outputId": "4cabfd06-8df5-4e67-d85e-eb74bd69ae4c",
        "colab": {
          "base_uri": "https://localhost:8080/",
          "height": 262
        }
      },
      "cell_type": "code",
      "source": [
        "a_to_b=distance([63,150],[67,160])\n",
        "a_to_c=distance([63,150],[70,171])\n",
        "b_to_c=distance([67,160],[70,171])"
      ],
      "execution_count": 75,
      "outputs": [
        {
          "output_type": "error",
          "ename": "NameError",
          "evalue": "ignored",
          "traceback": [
            "\u001b[0;31m---------------------------------------------------------------------------\u001b[0m",
            "\u001b[0;31mNameError\u001b[0m                                 Traceback (most recent call last)",
            "\u001b[0;32m<ipython-input-75-6d36aeb07496>\u001b[0m in \u001b[0;36m<module>\u001b[0;34m()\u001b[0m\n\u001b[0;32m----> 1\u001b[0;31m \u001b[0ma_to_b\u001b[0m\u001b[0;34m=\u001b[0m\u001b[0mdistance\u001b[0m\u001b[0;34m(\u001b[0m\u001b[0;34m[\u001b[0m\u001b[0;36m63\u001b[0m\u001b[0;34m,\u001b[0m\u001b[0;36m150\u001b[0m\u001b[0;34m]\u001b[0m\u001b[0;34m,\u001b[0m\u001b[0;34m[\u001b[0m\u001b[0;36m67\u001b[0m\u001b[0;34m,\u001b[0m\u001b[0;36m160\u001b[0m\u001b[0;34m]\u001b[0m\u001b[0;34m)\u001b[0m\u001b[0;34m\u001b[0m\u001b[0;34m\u001b[0m\u001b[0m\n\u001b[0m\u001b[1;32m      2\u001b[0m \u001b[0ma_to_c\u001b[0m\u001b[0;34m=\u001b[0m\u001b[0mdistance\u001b[0m\u001b[0;34m(\u001b[0m\u001b[0;34m[\u001b[0m\u001b[0;36m63\u001b[0m\u001b[0;34m,\u001b[0m\u001b[0;36m150\u001b[0m\u001b[0;34m]\u001b[0m\u001b[0;34m,\u001b[0m\u001b[0;34m[\u001b[0m\u001b[0;36m70\u001b[0m\u001b[0;34m,\u001b[0m\u001b[0;36m171\u001b[0m\u001b[0;34m]\u001b[0m\u001b[0;34m)\u001b[0m\u001b[0;34m\u001b[0m\u001b[0;34m\u001b[0m\u001b[0m\n\u001b[1;32m      3\u001b[0m \u001b[0mb_to_c\u001b[0m\u001b[0;34m=\u001b[0m\u001b[0mdistance\u001b[0m\u001b[0;34m(\u001b[0m\u001b[0;34m[\u001b[0m\u001b[0;36m67\u001b[0m\u001b[0;34m,\u001b[0m\u001b[0;36m160\u001b[0m\u001b[0;34m]\u001b[0m\u001b[0;34m,\u001b[0m\u001b[0;34m[\u001b[0m\u001b[0;36m70\u001b[0m\u001b[0;34m,\u001b[0m\u001b[0;36m171\u001b[0m\u001b[0;34m]\u001b[0m\u001b[0;34m)\u001b[0m\u001b[0;34m\u001b[0m\u001b[0;34m\u001b[0m\u001b[0m\n",
            "\u001b[0;32m<ipython-input-46-d0954867cbf8>\u001b[0m in \u001b[0;36mdistance\u001b[0;34m(v, w)\u001b[0m\n\u001b[1;32m      1\u001b[0m \u001b[0;32mdef\u001b[0m \u001b[0mdistance\u001b[0m\u001b[0;34m(\u001b[0m\u001b[0mv\u001b[0m\u001b[0;34m,\u001b[0m\u001b[0mw\u001b[0m\u001b[0;34m)\u001b[0m\u001b[0;34m:\u001b[0m\u001b[0;34m\u001b[0m\u001b[0;34m\u001b[0m\u001b[0m\n\u001b[0;32m----> 2\u001b[0;31m     \u001b[0;32mreturn\u001b[0m \u001b[0mmath\u001b[0m\u001b[0;34m.\u001b[0m\u001b[0msqrt\u001b[0m\u001b[0;34m(\u001b[0m\u001b[0msquared_distance\u001b[0m\u001b[0;34m(\u001b[0m\u001b[0mv\u001b[0m\u001b[0;34m,\u001b[0m\u001b[0mw\u001b[0m\u001b[0;34m)\u001b[0m\u001b[0;34m)\u001b[0m\u001b[0;34m\u001b[0m\u001b[0;34m\u001b[0m\u001b[0m\n\u001b[0m",
            "\u001b[0;31mNameError\u001b[0m: name 'squared_distance' is not defined"
          ]
        }
      ]
    },
    {
      "metadata": {
        "colab_type": "code",
        "id": "tjBPJDcuDLki",
        "colab": {}
      },
      "cell_type": "code",
      "source": [
        "def scale(data_matrix):\n",
        "  num_rows, num_cols=shape(data_matrix)\n",
        "  means=[mean(get_column(data_matrix,j))\n",
        "        for j in range(num_cols)]\n",
        "  stdevs=[standard_deviation(get_column(data_matrix,j))\n",
        "         for j in range(num_cols)]\n",
        "  return means, stdevs"
      ],
      "execution_count": 0,
      "outputs": []
    },
    {
      "metadata": {
        "colab_type": "code",
        "id": "NtX59DaQDLsW",
        "colab": {
          "base_uri": "https://localhost:8080/",
          "height": 128
        },
        "outputId": "038965e8-4bd2-4728-bbf5-ec814eb2c5b2"
      },
      "cell_type": "code",
      "source": [
        "def rescale(data_matrix):\n",
        "  means,stdevs = scale(data_matrix)\n",
        "  def rescaled(i,j):\n",
        "    if stdevs(i,j):\n",
        "        return (data_matrix[i][j]-means[j])/stdevs[j]\n",
        "    else:\n",
        "        return data_matrix[i][j]\n",
        "  num_rows, num_cols=shape(data_matrix)\n",
        "    return make_matrix(num_rows, num_cols, rescaled)"
      ],
      "execution_count": 77,
      "outputs": [
        {
          "output_type": "error",
          "ename": "IndentationError",
          "evalue": "ignored",
          "traceback": [
            "\u001b[0;36m  File \u001b[0;32m\"<ipython-input-77-3a97fd5fe51c>\"\u001b[0;36m, line \u001b[0;32m9\u001b[0m\n\u001b[0;31m    return make_matrix(num_rows, num_cols, rescaled)\u001b[0m\n\u001b[0m    ^\u001b[0m\n\u001b[0;31mIndentationError\u001b[0m\u001b[0;31m:\u001b[0m unexpected indent\n"
          ]
        }
      ]
    },
    {
      "metadata": {
        "colab_type": "code",
        "id": "fvaT59Cv5-xQ",
        "colab": {
          "base_uri": "https://localhost:8080/",
          "height": 128
        },
        "outputId": "65182b28-dd27-4050-96c3-aa3253a7a21a"
      },
      "cell_type": "code",
      "source": [
        "def de_mean_matrix(A):\n",
        "  nr,nc=shape(A)\n",
        "  column_means, _ - scale(A)\n",
        "    return make_matrix(nr, nc, lambda i, j:A[i][j]-column_means[j])"
      ],
      "execution_count": 78,
      "outputs": [
        {
          "output_type": "error",
          "ename": "IndentationError",
          "evalue": "ignored",
          "traceback": [
            "\u001b[0;36m  File \u001b[0;32m\"<ipython-input-78-7268f12f102a>\"\u001b[0;36m, line \u001b[0;32m4\u001b[0m\n\u001b[0;31m    return make_matrix(nr, nc, lambda i, j:A[i][j]-column_means[j])\u001b[0m\n\u001b[0m    ^\u001b[0m\n\u001b[0;31mIndentationError\u001b[0m\u001b[0;31m:\u001b[0m unexpected indent\n"
          ]
        }
      ]
    },
    {
      "metadata": {
        "colab_type": "code",
        "id": "-8AqNVGV7AN-",
        "colab": {}
      },
      "cell_type": "code",
      "source": [
        "def direction(w):\n",
        "  mag=magnitude(w)\n",
        "  return [w_i/mag for w_i in w]"
      ],
      "execution_count": 0,
      "outputs": []
    },
    {
      "metadata": {
        "colab_type": "code",
        "id": "yemCVr5s7IgK",
        "colab": {}
      },
      "cell_type": "code",
      "source": [
        "def directional_variance_i(x_i, w):\n",
        "    return dot(x_i, direction(w))"
      ],
      "execution_count": 0,
      "outputs": []
    },
    {
      "metadata": {
        "colab_type": "code",
        "id": "14OWoQYE7S_R",
        "colab": {}
      },
      "cell_type": "code",
      "source": [
        "def directional_variance(X,w):\n",
        "    return sum(directional_variance_i(x_i,w)\n",
        "            for x_i in X)"
      ],
      "execution_count": 0,
      "outputs": []
    },
    {
      "metadata": {
        "colab_type": "code",
        "id": "sOa0XqKS7dKk",
        "colab": {}
      },
      "cell_type": "code",
      "source": [
        "def directional_variance_gradient_i(x_i, w):\n",
        "  projection_length = dot(x_i, direction(w))\n",
        "  return [2*projection_length *x_ij for x_ij in x_i]"
      ],
      "execution_count": 0,
      "outputs": []
    },
    {
      "metadata": {
        "colab_type": "code",
        "id": "WW41Fgcj7uB8",
        "colab": {}
      },
      "cell_type": "code",
      "source": [
        "def directional_variance_gradient(X, w):\n",
        "    return vector_sum(directional_variance_gradient_i(x_i,2)\n",
        "                   for x_i in X)"
      ],
      "execution_count": 0,
      "outputs": []
    },
    {
      "metadata": {
        "colab_type": "code",
        "id": "LiYG3Pqw73nC",
        "colab": {
          "base_uri": "https://localhost:8080/",
          "height": 128
        },
        "outputId": "c470448f-2119-4de5-ebfe-2cbf38395ba6"
      },
      "cell_type": "code",
      "source": [
        "def first_principal_component(X):\n",
        "  guess=[1 for _ in X[0]]\n",
        "  unscaled_maximizer = maximize_batch(\n",
        "      partial(directional_variance, X),\n",
        "      partial(directional_variance_gradient, X),\n",
        "      guess)\n",
        "    return direction(unscaled_maximizer)"
      ],
      "execution_count": 84,
      "outputs": [
        {
          "output_type": "error",
          "ename": "IndentationError",
          "evalue": "ignored",
          "traceback": [
            "\u001b[0;36m  File \u001b[0;32m\"<ipython-input-84-ee19461e7624>\"\u001b[0;36m, line \u001b[0;32m7\u001b[0m\n\u001b[0;31m    return direction(unscaled_maximizer)\u001b[0m\n\u001b[0m    ^\u001b[0m\n\u001b[0;31mIndentationError\u001b[0m\u001b[0;31m:\u001b[0m unexpected indent\n"
          ]
        }
      ]
    },
    {
      "metadata": {
        "colab_type": "code",
        "id": "7IPgLa0D8b-L",
        "colab": {}
      },
      "cell_type": "code",
      "source": [
        "def project(v,w):\n",
        "  projection_length=dot(v,w)\n",
        "  return scalar_multiply(projection_length, w)"
      ],
      "execution_count": 0,
      "outputs": []
    },
    {
      "metadata": {
        "colab_type": "code",
        "id": "8OL7BP3QAe7A",
        "colab": {}
      },
      "cell_type": "code",
      "source": [
        "def remove_projection_from_vector(v,w):\n",
        "    return vector_subtract(v,project(v,w))"
      ],
      "execution_count": 0,
      "outputs": []
    },
    {
      "metadata": {
        "colab_type": "code",
        "id": "MUCO8g3kAnHU",
        "colab": {}
      },
      "cell_type": "code",
      "source": [
        "def remove_projection(X, w):\n",
        "    return [remove_projection_from_vector(x_i_w) for x_i in X]"
      ],
      "execution_count": 0,
      "outputs": []
    },
    {
      "metadata": {
        "colab_type": "code",
        "id": "1NetHE8ZAxus",
        "colab": {}
      },
      "cell_type": "code",
      "source": [
        "def principal_component_analysis(X, num_components):\n",
        "  components = []\n",
        "  for _ in range(num_components):\n",
        "    component=first_principal_component(X)\n",
        "    components.append(compoent)\n",
        "    X=remove_projection(X, component)\n",
        "    return components"
      ],
      "execution_count": 0,
      "outputs": []
    },
    {
      "metadata": {
        "colab_type": "code",
        "id": "YAxl83_0BHG1",
        "colab": {}
      },
      "cell_type": "code",
      "source": [
        "def transform_vector(v, components):\n",
        "    return [dot(v,w) for w in components]"
      ],
      "execution_count": 0,
      "outputs": []
    },
    {
      "metadata": {
        "colab_type": "code",
        "id": "yFiNtaxNBUav",
        "colab": {}
      },
      "cell_type": "code",
      "source": [
        "def transform (X, components):\n",
        "    return [transform_vector(x_i, components) for x_i in X]"
      ],
      "execution_count": 0,
      "outputs": []
    },
    {
      "metadata": {
        "colab_type": "code",
        "id": "F9DvpfdSBd_w",
        "colab": {}
      },
      "cell_type": "code",
      "source": [
        ""
      ],
      "execution_count": 0,
      "outputs": []
    }
  ]
}